{
 "cells": [
  {
   "cell_type": "markdown",
   "metadata": {},
   "source": [
    "# The Effect of a Movie's Genre and Length on its' Ratings\n# (2010-2019) 
"
   ]
</div>
  },
  {
   "cell_type": "markdown",
   "metadata": {},
   "source": [
    " ![](film_project/film_cover.jpg)"
   ]
  },
  {
   "cell_type": "markdown",
   "metadata": {},
   "source": [
    "&nbsp;&nbsp;&nbsp;&nbsp;*Photo by Ahmet Yalçınkaya on Unsplash*"
   ]
  },
  {
   "cell_type": "markdown",
   "metadata": {},
   "source": [
    "# Introduction\n",
    "\n",
    "The focus of this project was to analyze whether certain movie genres get higher user ratings, and to determine if the length of a movie affects its' user ratings. In this project I analyzed mainstream, or popular, movies released between 2010 and 2019 using the film database IMDB. The goal was to determine whether viewers rated movies higher based on genre type, or based on the length of a movie. To begin, I examined trends in movie production to see if certain genres experienced an increase in production during this time period. I then identified the top rated movies released between 2010 and 2019. Next I found the movie directors with the best average ratings per movie, and I also identified the movie directors that made the highest volume of popular movies between 2010 and 2019. Finally, I created functions to help users streamline their movie research.\n",
    "\n",
    "My datasource was [IMDB](https://www.imdb.com/?ref_=nv_home). IMDB is a website that lists all movies released and provides information about movies including the movie's user rating. IMDB has a downloadable database, which I included [here](https://www.imdb.com/interfaces/). Due to the large size of IMDB's database, I seperately cleaned the data and narrowed it down to a more manageable size. I explained how I did this [here](https://drive.google.com/open?id=1zJK4rymFNVZYmNoM2xfn_U6AR5qYQSZs).\n",
    "\n"
   ]
  },
  {
   "cell_type": "markdown",
   "metadata": {},
   "source": [
    "<a id='importing_cleaning'></a>\n",
    "\n",
    "# Importing and Cleaning Data \n",
    "\n",
    "To start, I imported the necessary packages, along with IMDB's information including movie titles, information on directors, movie ratings, the actors/actresses in the movies, and movie credits. IMDB's databse includes a lot of information about each movie, so I inspected, cleaned, and narrowed their data to include only the information relevant for the scope this project. "
   ]
  },
  {
   "cell_type": "code",
   "execution_count": 474,
   "metadata": {},
   "outputs": [],
   "source": [
    "import sqlite3\n",
    "import pandas as pd\n",
    "import numpy as np\n",
    "import seaborn as sns\n",
    "import matplotlib.pyplot as plt\n",
    "from numpy import arange\n",
    "from matplotlib import cm\n",
    "from matplotlib import style\n",
    "from scipy import stats\n",
    "%matplotlib inline\n",
    "#enables jupyter and maplotlib to \n",
    "#work together and have graphs\n",
    "#displayed in notebook"
   ]
  },
  {
   "cell_type": "markdown",
   "metadata": {},
   "source": [
    "## Movie Data\n",
    "\n"
   ]
  },
  {
   "cell_type": "code",
   "execution_count": 475,
   "metadata": {},
   "outputs": [
    {
     "name": "stdout",
     "output_type": "stream",
     "text": [
      "(154162, 6)\n"
     ]
    },
    {
     "data": {
      "text/html": [
       "<div>\n",
       "<style scoped>\n",
       "    .dataframe tbody tr th:only-of-type {\n",
       "        vertical-align: middle;\n",
       "    }\n",
       "\n",
       "    .dataframe tbody tr th {\n",
       "        vertical-align: top;\n",
       "    }\n",
       "\n",
       "    .dataframe thead th {\n",
       "        text-align: right;\n",
       "    }\n",
       "</style>\n",
       "<table border=\"1\" class=\"dataframe\">\n",
       "  <thead>\n",
       "    <tr style=\"text-align: right;\">\n",
       "      <th></th>\n",
       "      <th>tconst</th>\n",
       "      <th>primaryTitle</th>\n",
       "      <th>isAdult</th>\n",
       "      <th>startYear</th>\n",
       "      <th>runtimeMinutes</th>\n",
       "      <th>genres</th>\n",
       "    </tr>\n",
       "  </thead>\n",
       "  <tbody>\n",
       "    <tr>\n",
       "      <td>0</td>\n",
       "      <td>tt0069049</td>\n",
       "      <td>The Other Side of the Wind</td>\n",
       "      <td>0</td>\n",
       "      <td>2018</td>\n",
       "      <td>122</td>\n",
       "      <td>Drama</td>\n",
       "    </tr>\n",
       "    <tr>\n",
       "      <td>1</td>\n",
       "      <td>tt0069204</td>\n",
       "      <td>Sabse Bada Sukh</td>\n",
       "      <td>0</td>\n",
       "      <td>2018</td>\n",
       "      <td>\\N</td>\n",
       "      <td>Comedy,Drama</td>\n",
       "    </tr>\n",
       "    <tr>\n",
       "      <td>2</td>\n",
       "      <td>tt0085953</td>\n",
       "      <td>Devil Fetus</td>\n",
       "      <td>0</td>\n",
       "      <td>2019</td>\n",
       "      <td>84</td>\n",
       "      <td>Horror</td>\n",
       "    </tr>\n",
       "    <tr>\n",
       "      <td>3</td>\n",
       "      <td>tt0100275</td>\n",
       "      <td>The Wandering Soap Opera</td>\n",
       "      <td>0</td>\n",
       "      <td>2017</td>\n",
       "      <td>80</td>\n",
       "      <td>Comedy,Drama,Fantasy</td>\n",
       "    </tr>\n",
       "    <tr>\n",
       "      <td>4</td>\n",
       "      <td>tt0111414</td>\n",
       "      <td>A Thin Life</td>\n",
       "      <td>0</td>\n",
       "      <td>2018</td>\n",
       "      <td>75</td>\n",
       "      <td>Comedy</td>\n",
       "    </tr>\n",
       "  </tbody>\n",
       "</table>\n",
       "</div>"
      ],
      "text/plain": [
       "      tconst                primaryTitle  isAdult  startYear runtimeMinutes  \\\n",
       "0  tt0069049  The Other Side of the Wind        0       2018            122   \n",
       "1  tt0069204             Sabse Bada Sukh        0       2018             \\N   \n",
       "2  tt0085953                 Devil Fetus        0       2019             84   \n",
       "3  tt0100275    The Wandering Soap Opera        0       2017             80   \n",
       "4  tt0111414                 A Thin Life        0       2018             75   \n",
       "\n",
       "                 genres  \n",
       "0                 Drama  \n",
       "1          Comedy,Drama  \n",
       "2                Horror  \n",
       "3  Comedy,Drama,Fantasy  \n",
       "4                Comedy  "
      ]
     },
     "execution_count": 475,
     "metadata": {},
     "output_type": "execute_result"
    }
   ],
   "source": [
    "movies = pd.read_csv('titles_imdb.csv')\n",
    "print(movies.shape)\n",
    "movies.head()"
   ]
  },
  {
   "cell_type": "code",
   "execution_count": 476,
   "metadata": {},
   "outputs": [
    {
     "data": {
      "text/html": [
       "<div>\n",
       "<style scoped>\n",
       "    .dataframe tbody tr th:only-of-type {\n",
       "        vertical-align: middle;\n",
       "    }\n",
       "\n",
       "    .dataframe tbody tr th {\n",
       "        vertical-align: top;\n",
       "    }\n",
       "\n",
       "    .dataframe thead th {\n",
       "        text-align: right;\n",
       "    }\n",
       "</style>\n",
       "<table border=\"1\" class=\"dataframe\">\n",
       "  <thead>\n",
       "    <tr style=\"text-align: right;\">\n",
       "      <th></th>\n",
       "      <th>tconst</th>\n",
       "      <th>primaryTitle</th>\n",
       "      <th>isAdult</th>\n",
       "      <th>startYear</th>\n",
       "      <th>runtimeMinutes</th>\n",
       "      <th>genres</th>\n",
       "    </tr>\n",
       "  </thead>\n",
       "  <tbody>\n",
       "    <tr>\n",
       "      <td>44295</td>\n",
       "      <td>tt2349144</td>\n",
       "      <td>Mississippi Grind</td>\n",
       "      <td>0</td>\n",
       "      <td>2015</td>\n",
       "      <td>108</td>\n",
       "      <td>Comedy,Drama</td>\n",
       "    </tr>\n",
       "  </tbody>\n",
       "</table>\n",
       "</div>"
      ],
      "text/plain": [
       "          tconst       primaryTitle  isAdult  startYear runtimeMinutes  \\\n",
       "44295  tt2349144  Mississippi Grind        0       2015            108   \n",
       "\n",
       "             genres  \n",
       "44295  Comedy,Drama  "
      ]
     },
     "execution_count": 476,
     "metadata": {},
     "output_type": "execute_result"
    }
   ],
   "source": [
    "mis_movie = movies[movies['primaryTitle'] == 'Mississippi Grind']\n",
    "mis_movie"
   ]
  },
  {
   "cell_type": "markdown",
   "metadata": {},
   "source": [
    "I removed movies with a value of \"1\" for `isAdult`, in order to remove adult movies from the database. "
   ]
  },
  {
   "cell_type": "code",
   "execution_count": 477,
   "metadata": {},
   "outputs": [],
   "source": [
    "movies = movies[movies['isAdult'] == 0]"
   ]
  },
  {
   "cell_type": "code",
   "execution_count": 478,
   "metadata": {},
   "outputs": [
    {
     "data": {
      "text/plain": [
       "tconst            object\n",
       "primaryTitle      object\n",
       "isAdult            int64\n",
       "startYear          int64\n",
       "runtimeMinutes    object\n",
       "genres            object\n",
       "dtype: object"
      ]
     },
     "execution_count": 478,
     "metadata": {},
     "output_type": "execute_result"
    }
   ],
   "source": [
    "movies.dtypes"
   ]
  },
  {
   "cell_type": "code",
   "execution_count": 479,
   "metadata": {},
   "outputs": [],
   "source": [
    "movies.shape\n",
    "movies = movies.drop(['isAdult'], axis=1)\n"
   ]
  },
  {
   "cell_type": "markdown",
   "metadata": {},
   "source": [
    "Since I wanted to compare the length of a movie with user preferences, I only investigated movies that had a value for `runtimeMinutes`. "
   ]
  },
  {
   "cell_type": "code",
   "execution_count": 480,
   "metadata": {},
   "outputs": [],
   "source": [
    "null_movies = movies[movies['runtimeMinutes'] == '\\\\N']"
   ]
  },
  {
   "cell_type": "code",
   "execution_count": 481,
   "metadata": {},
   "outputs": [
    {
     "data": {
      "text/html": [
       "<div>\n",
       "<style scoped>\n",
       "    .dataframe tbody tr th:only-of-type {\n",
       "        vertical-align: middle;\n",
       "    }\n",
       "\n",
       "    .dataframe tbody tr th {\n",
       "        vertical-align: top;\n",
       "    }\n",
       "\n",
       "    .dataframe thead th {\n",
       "        text-align: right;\n",
       "    }\n",
       "</style>\n",
       "<table border=\"1\" class=\"dataframe\">\n",
       "  <thead>\n",
       "    <tr style=\"text-align: right;\">\n",
       "      <th></th>\n",
       "      <th>tconst</th>\n",
       "      <th>primaryTitle</th>\n",
       "      <th>startYear</th>\n",
       "      <th>runtimeMinutes</th>\n",
       "      <th>genres</th>\n",
       "    </tr>\n",
       "  </thead>\n",
       "  <tbody>\n",
       "    <tr>\n",
       "      <td>1</td>\n",
       "      <td>tt0069204</td>\n",
       "      <td>Sabse Bada Sukh</td>\n",
       "      <td>2018</td>\n",
       "      <td>\\N</td>\n",
       "      <td>Comedy,Drama</td>\n",
       "    </tr>\n",
       "    <tr>\n",
       "      <td>5</td>\n",
       "      <td>tt0112502</td>\n",
       "      <td>Bigfoot</td>\n",
       "      <td>2017</td>\n",
       "      <td>\\N</td>\n",
       "      <td>Horror,Thriller</td>\n",
       "    </tr>\n",
       "    <tr>\n",
       "      <td>7</td>\n",
       "      <td>tt0139613</td>\n",
       "      <td>O Silêncio</td>\n",
       "      <td>2012</td>\n",
       "      <td>\\N</td>\n",
       "      <td>Documentary,History</td>\n",
       "    </tr>\n",
       "    <tr>\n",
       "      <td>15</td>\n",
       "      <td>tt0187902</td>\n",
       "      <td>How Huang Fei-hong Rescued the Orphan from the...</td>\n",
       "      <td>2011</td>\n",
       "      <td>\\N</td>\n",
       "      <td>\\N</td>\n",
       "    </tr>\n",
       "    <tr>\n",
       "      <td>23</td>\n",
       "      <td>tt0276132</td>\n",
       "      <td>The Fetishist</td>\n",
       "      <td>2019</td>\n",
       "      <td>\\N</td>\n",
       "      <td>Animation</td>\n",
       "    </tr>\n",
       "    <tr>\n",
       "      <td>25</td>\n",
       "      <td>tt0279481</td>\n",
       "      <td>Travel Daze</td>\n",
       "      <td>2019</td>\n",
       "      <td>\\N</td>\n",
       "      <td>\\N</td>\n",
       "    </tr>\n",
       "    <tr>\n",
       "      <td>29</td>\n",
       "      <td>tt0297400</td>\n",
       "      <td>Snowblind</td>\n",
       "      <td>2015</td>\n",
       "      <td>\\N</td>\n",
       "      <td>Crime,Drama</td>\n",
       "    </tr>\n",
       "    <tr>\n",
       "      <td>41</td>\n",
       "      <td>tt0330811</td>\n",
       "      <td>Regret Not Speaking</td>\n",
       "      <td>2011</td>\n",
       "      <td>\\N</td>\n",
       "      <td>\\N</td>\n",
       "    </tr>\n",
       "    <tr>\n",
       "      <td>46</td>\n",
       "      <td>tt0337882</td>\n",
       "      <td>Blind Sided</td>\n",
       "      <td>2010</td>\n",
       "      <td>\\N</td>\n",
       "      <td>Comedy,Crime,Drama</td>\n",
       "    </tr>\n",
       "    <tr>\n",
       "      <td>49</td>\n",
       "      <td>tt0338258</td>\n",
       "      <td>Instruments of Darkness</td>\n",
       "      <td>2014</td>\n",
       "      <td>\\N</td>\n",
       "      <td>Action,Drama,Fantasy</td>\n",
       "    </tr>\n",
       "    <tr>\n",
       "      <td>64</td>\n",
       "      <td>tt0378546</td>\n",
       "      <td>The Payback Man</td>\n",
       "      <td>2010</td>\n",
       "      <td>\\N</td>\n",
       "      <td>Crime,Drama,Thriller</td>\n",
       "    </tr>\n",
       "    <tr>\n",
       "      <td>73</td>\n",
       "      <td>tt0402887</td>\n",
       "      <td>Capture the Flag</td>\n",
       "      <td>2010</td>\n",
       "      <td>\\N</td>\n",
       "      <td>Drama</td>\n",
       "    </tr>\n",
       "    <tr>\n",
       "      <td>89</td>\n",
       "      <td>tt0426410</td>\n",
       "      <td>Beisbol</td>\n",
       "      <td>2010</td>\n",
       "      <td>\\N</td>\n",
       "      <td>Documentary</td>\n",
       "    </tr>\n",
       "    <tr>\n",
       "      <td>90</td>\n",
       "      <td>tt0426566</td>\n",
       "      <td>Pots and Pans</td>\n",
       "      <td>2012</td>\n",
       "      <td>\\N</td>\n",
       "      <td>Drama</td>\n",
       "    </tr>\n",
       "    <tr>\n",
       "      <td>100</td>\n",
       "      <td>tt0433787</td>\n",
       "      <td>L'apocalisse delle scimmie</td>\n",
       "      <td>2012</td>\n",
       "      <td>\\N</td>\n",
       "      <td>Drama</td>\n",
       "    </tr>\n",
       "    <tr>\n",
       "      <td>103</td>\n",
       "      <td>tt0436230</td>\n",
       "      <td>Mexican Devil</td>\n",
       "      <td>2010</td>\n",
       "      <td>\\N</td>\n",
       "      <td>Horror,Thriller</td>\n",
       "    </tr>\n",
       "    <tr>\n",
       "      <td>107</td>\n",
       "      <td>tt0438973</td>\n",
       "      <td>Sealand</td>\n",
       "      <td>2019</td>\n",
       "      <td>\\N</td>\n",
       "      <td>Biography,Drama</td>\n",
       "    </tr>\n",
       "    <tr>\n",
       "      <td>108</td>\n",
       "      <td>tt0439724</td>\n",
       "      <td>Moving Target</td>\n",
       "      <td>2011</td>\n",
       "      <td>\\N</td>\n",
       "      <td>Drama,Thriller</td>\n",
       "    </tr>\n",
       "    <tr>\n",
       "      <td>110</td>\n",
       "      <td>tt0441506</td>\n",
       "      <td>Stolen Memories</td>\n",
       "      <td>2012</td>\n",
       "      <td>\\N</td>\n",
       "      <td>Documentary</td>\n",
       "    </tr>\n",
       "    <tr>\n",
       "      <td>120</td>\n",
       "      <td>tt0446686</td>\n",
       "      <td>Dream Street</td>\n",
       "      <td>2010</td>\n",
       "      <td>\\N</td>\n",
       "      <td>Drama</td>\n",
       "    </tr>\n",
       "  </tbody>\n",
       "</table>\n",
       "</div>"
      ],
      "text/plain": [
       "        tconst                                       primaryTitle  startYear  \\\n",
       "1    tt0069204                                    Sabse Bada Sukh       2018   \n",
       "5    tt0112502                                            Bigfoot       2017   \n",
       "7    tt0139613                                         O Silêncio       2012   \n",
       "15   tt0187902  How Huang Fei-hong Rescued the Orphan from the...       2011   \n",
       "23   tt0276132                                      The Fetishist       2019   \n",
       "25   tt0279481                                        Travel Daze       2019   \n",
       "29   tt0297400                                          Snowblind       2015   \n",
       "41   tt0330811                                Regret Not Speaking       2011   \n",
       "46   tt0337882                                        Blind Sided       2010   \n",
       "49   tt0338258                            Instruments of Darkness       2014   \n",
       "64   tt0378546                                    The Payback Man       2010   \n",
       "73   tt0402887                                   Capture the Flag       2010   \n",
       "89   tt0426410                                            Beisbol       2010   \n",
       "90   tt0426566                                      Pots and Pans       2012   \n",
       "100  tt0433787                         L'apocalisse delle scimmie       2012   \n",
       "103  tt0436230                                      Mexican Devil       2010   \n",
       "107  tt0438973                                            Sealand       2019   \n",
       "108  tt0439724                                      Moving Target       2011   \n",
       "110  tt0441506                                    Stolen Memories       2012   \n",
       "120  tt0446686                                       Dream Street       2010   \n",
       "\n",
       "    runtimeMinutes                genres  \n",
       "1               \\N          Comedy,Drama  \n",
       "5               \\N       Horror,Thriller  \n",
       "7               \\N   Documentary,History  \n",
       "15              \\N                    \\N  \n",
       "23              \\N             Animation  \n",
       "25              \\N                    \\N  \n",
       "29              \\N           Crime,Drama  \n",
       "41              \\N                    \\N  \n",
       "46              \\N    Comedy,Crime,Drama  \n",
       "49              \\N  Action,Drama,Fantasy  \n",
       "64              \\N  Crime,Drama,Thriller  \n",
       "73              \\N                 Drama  \n",
       "89              \\N           Documentary  \n",
       "90              \\N                 Drama  \n",
       "100             \\N                 Drama  \n",
       "103             \\N       Horror,Thriller  \n",
       "107             \\N       Biography,Drama  \n",
       "108             \\N        Drama,Thriller  \n",
       "110             \\N           Documentary  \n",
       "120             \\N                 Drama  "
      ]
     },
     "execution_count": 481,
     "metadata": {},
     "output_type": "execute_result"
    }
   ],
   "source": [
    "null_movies.head(20)"
   ]
  },
  {
   "cell_type": "code",
   "execution_count": 482,
   "metadata": {},
   "outputs": [
    {
     "data": {
      "text/plain": [
       "(32263, 5)"
      ]
     },
     "execution_count": 482,
     "metadata": {},
     "output_type": "execute_result"
    }
   ],
   "source": [
    "null_movies.shape"
   ]
  },
  {
   "cell_type": "markdown",
   "metadata": {},
   "source": [
    "Using the above info, and searching [IMDB.com](https://www.imdb.com), it was apparent that the movies without a value for `runtimeMinutes` were obscure titles. Not only did IMDB lack information about the length of these films, but the database also lacked other details about these movies . I removed rows from the `movies` database. I also converted the `runtimeMinutes` column to an integer for further analysis and data cleaning."
   ]
  },
  {
   "cell_type": "code",
   "execution_count": 483,
   "metadata": {},
   "outputs": [
    {
     "data": {
      "text/plain": [
       "(121224, 5)"
      ]
     },
     "execution_count": 483,
     "metadata": {},
     "output_type": "execute_result"
    }
   ],
   "source": [
    "movies = movies[movies['runtimeMinutes'] != '\\\\N']\n",
    "movies.shape"
   ]
  },
  {
   "cell_type": "code",
   "execution_count": 484,
   "metadata": {},
   "outputs": [
    {
     "data": {
      "text/plain": [
       "tconst            object\n",
       "primaryTitle      object\n",
       "startYear          int64\n",
       "runtimeMinutes     int64\n",
       "genres            object\n",
       "dtype: object"
      ]
     },
     "execution_count": 484,
     "metadata": {},
     "output_type": "execute_result"
    }
   ],
   "source": [
    "#convert to integer\n",
    "movies['runtimeMinutes'] = movies['runtimeMinutes'].astype(int)\n",
    "movies.dtypes"
   ]
  },
  {
   "cell_type": "code",
   "execution_count": 485,
   "metadata": {},
   "outputs": [
    {
     "data": {
      "text/html": [
       "<div>\n",
       "<style scoped>\n",
       "    .dataframe tbody tr th:only-of-type {\n",
       "        vertical-align: middle;\n",
       "    }\n",
       "\n",
       "    .dataframe tbody tr th {\n",
       "        vertical-align: top;\n",
       "    }\n",
       "\n",
       "    .dataframe thead th {\n",
       "        text-align: right;\n",
       "    }\n",
       "</style>\n",
       "<table border=\"1\" class=\"dataframe\">\n",
       "  <thead>\n",
       "    <tr style=\"text-align: right;\">\n",
       "      <th></th>\n",
       "      <th>tconst</th>\n",
       "      <th>primaryTitle</th>\n",
       "      <th>startYear</th>\n",
       "      <th>runtimeMinutes</th>\n",
       "      <th>genres</th>\n",
       "    </tr>\n",
       "  </thead>\n",
       "  <tbody>\n",
       "    <tr>\n",
       "      <td>9247</td>\n",
       "      <td>tt10844584</td>\n",
       "      <td>100</td>\n",
       "      <td>2019</td>\n",
       "      <td>59460</td>\n",
       "      <td>Drama</td>\n",
       "    </tr>\n",
       "    <tr>\n",
       "      <td>139943</td>\n",
       "      <td>tt8273150</td>\n",
       "      <td>Logistics</td>\n",
       "      <td>2012</td>\n",
       "      <td>51420</td>\n",
       "      <td>Documentary</td>\n",
       "    </tr>\n",
       "    <tr>\n",
       "      <td>52039</td>\n",
       "      <td>tt2659636</td>\n",
       "      <td>Modern Times Forever</td>\n",
       "      <td>2011</td>\n",
       "      <td>14400</td>\n",
       "      <td>Documentary</td>\n",
       "    </tr>\n",
       "    <tr>\n",
       "      <td>9250</td>\n",
       "      <td>tt10844900</td>\n",
       "      <td>Qw</td>\n",
       "      <td>2019</td>\n",
       "      <td>10062</td>\n",
       "      <td>Drama</td>\n",
       "    </tr>\n",
       "    <tr>\n",
       "      <td>94512</td>\n",
       "      <td>tt5068890</td>\n",
       "      <td>Hunger!</td>\n",
       "      <td>2015</td>\n",
       "      <td>6000</td>\n",
       "      <td>Documentary,Drama</td>\n",
       "    </tr>\n",
       "    <tr>\n",
       "      <td>...</td>\n",
       "      <td>...</td>\n",
       "      <td>...</td>\n",
       "      <td>...</td>\n",
       "      <td>...</td>\n",
       "      <td>...</td>\n",
       "    </tr>\n",
       "    <tr>\n",
       "      <td>21702</td>\n",
       "      <td>tt1720130</td>\n",
       "      <td>Karamay</td>\n",
       "      <td>2010</td>\n",
       "      <td>356</td>\n",
       "      <td>Documentary</td>\n",
       "    </tr>\n",
       "    <tr>\n",
       "      <td>66019</td>\n",
       "      <td>tt3422702</td>\n",
       "      <td>Silent Memoirs: Life Stories from the Deaf</td>\n",
       "      <td>2010</td>\n",
       "      <td>354</td>\n",
       "      <td>Documentary</td>\n",
       "    </tr>\n",
       "    <tr>\n",
       "      <td>37262</td>\n",
       "      <td>tt2148482</td>\n",
       "      <td>The Ultimate Civil War Series: 150th Anniversa...</td>\n",
       "      <td>2012</td>\n",
       "      <td>353</td>\n",
       "      <td>Action,Documentary,Drama</td>\n",
       "    </tr>\n",
       "    <tr>\n",
       "      <td>68245</td>\n",
       "      <td>tt3526810</td>\n",
       "      <td>Adolf Hitler: The Greatest Story Never Told</td>\n",
       "      <td>2013</td>\n",
       "      <td>350</td>\n",
       "      <td>Biography,Documentary,History</td>\n",
       "    </tr>\n",
       "    <tr>\n",
       "      <td>3606</td>\n",
       "      <td>tt10366986</td>\n",
       "      <td>3 Games to Glory VI</td>\n",
       "      <td>2019</td>\n",
       "      <td>350</td>\n",
       "      <td>Sport</td>\n",
       "    </tr>\n",
       "  </tbody>\n",
       "</table>\n",
       "<p>100 rows × 5 columns</p>\n",
       "</div>"
      ],
      "text/plain": [
       "            tconst                                       primaryTitle  \\\n",
       "9247    tt10844584                                                100   \n",
       "139943   tt8273150                                          Logistics   \n",
       "52039    tt2659636                               Modern Times Forever   \n",
       "9250    tt10844900                                                 Qw   \n",
       "94512    tt5068890                                            Hunger!   \n",
       "...            ...                                                ...   \n",
       "21702    tt1720130                                            Karamay   \n",
       "66019    tt3422702         Silent Memoirs: Life Stories from the Deaf   \n",
       "37262    tt2148482  The Ultimate Civil War Series: 150th Anniversa...   \n",
       "68245    tt3526810        Adolf Hitler: The Greatest Story Never Told   \n",
       "3606    tt10366986                                3 Games to Glory VI   \n",
       "\n",
       "        startYear  runtimeMinutes                         genres  \n",
       "9247         2019           59460                          Drama  \n",
       "139943       2012           51420                    Documentary  \n",
       "52039        2011           14400                    Documentary  \n",
       "9250         2019           10062                          Drama  \n",
       "94512        2015            6000              Documentary,Drama  \n",
       "...           ...             ...                            ...  \n",
       "21702        2010             356                    Documentary  \n",
       "66019        2010             354                    Documentary  \n",
       "37262        2012             353       Action,Documentary,Drama  \n",
       "68245        2013             350  Biography,Documentary,History  \n",
       "3606         2019             350                          Sport  \n",
       "\n",
       "[100 rows x 5 columns]"
      ]
     },
     "execution_count": 485,
     "metadata": {},
     "output_type": "execute_result"
    }
   ],
   "source": [
    "movies.sort_values(by='runtimeMinutes', ascending=False).head(100)"
   ]
  },
  {
   "cell_type": "markdown",
   "metadata": {},
   "source": [
    "I noticed that some of the movies from IMDB had extremely long run times, and I decided that these movies should be removed or listed separately because these movies could not be considered mainstream or popular. The website Screenrant highlights some of the longest mainstream movies in this [article](https://screenrant.com/longest-hollywood-movies-ever/), with the movie Gettysburg topping the list at 248 minutes. Based on this I decided that 248 minutes was a good cutoff point. I removed any movies that were longer than 250 minutes based on this information."
   ]
  },
  {
   "cell_type": "code",
   "execution_count": 486,
   "metadata": {},
   "outputs": [
    {
     "data": {
      "text/plain": [
       "(190, 5)"
      ]
     },
     "execution_count": 486,
     "metadata": {},
     "output_type": "execute_result"
    }
   ],
   "source": [
    "long_movies = movies[movies['runtimeMinutes'] > 250]\n",
    "long_movies.shape\n",
    "                    "
   ]
  },
  {
   "cell_type": "code",
   "execution_count": 487,
   "metadata": {},
   "outputs": [
    {
     "data": {
      "text/plain": [
       "(121034, 5)"
      ]
     },
     "execution_count": 487,
     "metadata": {},
     "output_type": "execute_result"
    }
   ],
   "source": [
    "movies = movies[movies['runtimeMinutes'] <= 250]\n",
    "movies.shape"
   ]
  },
  {
   "cell_type": "markdown",
   "metadata": {},
   "source": [
    "Here I removed shorts under 40 minutes in length."
   ]
  },
  {
   "cell_type": "code",
   "execution_count": 488,
   "metadata": {},
   "outputs": [
    {
     "data": {
      "text/plain": [
       "(115481, 5)"
      ]
     },
     "execution_count": 488,
     "metadata": {},
     "output_type": "execute_result"
    }
   ],
   "source": [
    "movies = movies[movies['runtimeMinutes'] > 40]\n",
    "movies.shape"
   ]
  },
  {
   "cell_type": "markdown",
   "metadata": {},
   "source": [
    "Next, I inspected the data to make sure that the titles that should be there were included, and to ensure that none of my data contained duplicate titles or listed the same movie more than once. To do this I searched all of the `Avengers` movies since that movie, like the Star Wars series, has multiple titles or chapters. Since these are considered mainstream or popular movies, I determined that they would be listed in the IMDB database and that the database would list each of the Avengers movie titles or chapters. In addition to this quality control check, I checked for duplicates to ensure that titles were not considered more than once, skewing the results."
   ]
  },
  {
   "cell_type": "code",
   "execution_count": 489,
   "metadata": {},
   "outputs": [],
   "source": [
    "#checking the data for familiar titles\n",
    "#this is to test the database and ensure it is accurate\n",
    "avengers = movies[movies['primaryTitle'].str.startswith('Avengers', na=False) == True]"
   ]
  },
  {
   "cell_type": "code",
   "execution_count": 490,
   "metadata": {},
   "outputs": [
    {
     "data": {
      "text/html": [
       "<div>\n",
       "<style scoped>\n",
       "    .dataframe tbody tr th:only-of-type {\n",
       "        vertical-align: middle;\n",
       "    }\n",
       "\n",
       "    .dataframe tbody tr th {\n",
       "        vertical-align: top;\n",
       "    }\n",
       "\n",
       "    .dataframe thead th {\n",
       "        text-align: right;\n",
       "    }\n",
       "</style>\n",
       "<table border=\"1\" class=\"dataframe\">\n",
       "  <thead>\n",
       "    <tr style=\"text-align: right;\">\n",
       "      <th></th>\n",
       "      <th>tconst</th>\n",
       "      <th>primaryTitle</th>\n",
       "      <th>startYear</th>\n",
       "      <th>runtimeMinutes</th>\n",
       "      <th>genres</th>\n",
       "    </tr>\n",
       "  </thead>\n",
       "  <tbody>\n",
       "    <tr>\n",
       "      <td>46200</td>\n",
       "      <td>tt2395427</td>\n",
       "      <td>Avengers: Age of Ultron</td>\n",
       "      <td>2015</td>\n",
       "      <td>141</td>\n",
       "      <td>Action,Adventure,Sci-Fi</td>\n",
       "    </tr>\n",
       "    <tr>\n",
       "      <td>80035</td>\n",
       "      <td>tt4154756</td>\n",
       "      <td>Avengers: Infinity War</td>\n",
       "      <td>2018</td>\n",
       "      <td>149</td>\n",
       "      <td>Action,Adventure,Sci-Fi</td>\n",
       "    </tr>\n",
       "    <tr>\n",
       "      <td>80036</td>\n",
       "      <td>tt4154796</td>\n",
       "      <td>Avengers: Endgame</td>\n",
       "      <td>2019</td>\n",
       "      <td>181</td>\n",
       "      <td>Action,Adventure,Drama</td>\n",
       "    </tr>\n",
       "    <tr>\n",
       "      <td>112938</td>\n",
       "      <td>tt6172666</td>\n",
       "      <td>Avengers of Justice: Farce Wars</td>\n",
       "      <td>2018</td>\n",
       "      <td>87</td>\n",
       "      <td>Action,Comedy,Family</td>\n",
       "    </tr>\n",
       "    <tr>\n",
       "      <td>145777</td>\n",
       "      <td>tt8875872</td>\n",
       "      <td>Avengers: Reassembled</td>\n",
       "      <td>2018</td>\n",
       "      <td>52</td>\n",
       "      <td>Sci-Fi</td>\n",
       "    </tr>\n",
       "  </tbody>\n",
       "</table>\n",
       "</div>"
      ],
      "text/plain": [
       "           tconst                     primaryTitle  startYear  runtimeMinutes  \\\n",
       "46200   tt2395427          Avengers: Age of Ultron       2015             141   \n",
       "80035   tt4154756           Avengers: Infinity War       2018             149   \n",
       "80036   tt4154796                Avengers: Endgame       2019             181   \n",
       "112938  tt6172666  Avengers of Justice: Farce Wars       2018              87   \n",
       "145777  tt8875872            Avengers: Reassembled       2018              52   \n",
       "\n",
       "                         genres  \n",
       "46200   Action,Adventure,Sci-Fi  \n",
       "80035   Action,Adventure,Sci-Fi  \n",
       "80036    Action,Adventure,Drama  \n",
       "112938     Action,Comedy,Family  \n",
       "145777                   Sci-Fi  "
      ]
     },
     "execution_count": 490,
     "metadata": {},
     "output_type": "execute_result"
    }
   ],
   "source": [
    "avengers.head(10)"
   ]
  },
  {
   "cell_type": "code",
   "execution_count": 491,
   "metadata": {},
   "outputs": [
    {
     "name": "stdout",
     "output_type": "stream",
     "text": [
      "0\n",
      "[]\n"
     ]
    }
   ],
   "source": [
    "# checking for duplicate movies \n",
    "duplicate_movies = []\n",
    "unique_movies = []\n",
    "\n",
    "for m in movies:\n",
    "    name = m[0]\n",
    "    if name in unique_movies:\n",
    "        duplicate_movies.append(name)\n",
    "    unique_movies.append(name)\n",
    "\n",
    "print(len(duplicate_movies))\n",
    "print(duplicate_movies[:15])"
   ]
  },
  {
   "cell_type": "markdown",
   "metadata": {},
   "source": [
    "Next I inspected the `genres` column to understand the different types of genres, and to determine the percentage of null values. As long as the null values did not make up a large percentage of movies relevant to the project, I removed them. "
   ]
  },
  {
   "cell_type": "code",
   "execution_count": 492,
   "metadata": {},
   "outputs": [
    {
     "data": {
      "text/plain": [
       "Documentary              23908\n",
       "Drama                    16787\n",
       "Comedy                    6759\n",
       "Comedy,Drama              3333\n",
       "Horror                    3157\n",
       "\\N                        2241\n",
       "Thriller                  2040\n",
       "Drama,Romance             1934\n",
       "Biography,Documentary     1649\n",
       "Comedy,Drama,Romance      1506\n",
       "Name: genres, dtype: int64"
      ]
     },
     "execution_count": 492,
     "metadata": {},
     "output_type": "execute_result"
    }
   ],
   "source": [
    "movies['genres'].value_counts().head(10)"
   ]
  },
  {
   "cell_type": "code",
   "execution_count": 493,
   "metadata": {},
   "outputs": [
    {
     "data": {
      "text/plain": [
       "115481"
      ]
     },
     "execution_count": 493,
     "metadata": {},
     "output_type": "execute_result"
    }
   ],
   "source": [
    "movies['genres'].value_counts().sum()"
   ]
  },
  {
   "cell_type": "code",
   "execution_count": 494,
   "metadata": {},
   "outputs": [
    {
     "name": "stdout",
     "output_type": "stream",
     "text": [
      "(2241, 5)\n"
     ]
    },
    {
     "data": {
      "text/html": [
       "<div>\n",
       "<style scoped>\n",
       "    .dataframe tbody tr th:only-of-type {\n",
       "        vertical-align: middle;\n",
       "    }\n",
       "\n",
       "    .dataframe tbody tr th {\n",
       "        vertical-align: top;\n",
       "    }\n",
       "\n",
       "    .dataframe thead th {\n",
       "        text-align: right;\n",
       "    }\n",
       "</style>\n",
       "<table border=\"1\" class=\"dataframe\">\n",
       "  <thead>\n",
       "    <tr style=\"text-align: right;\">\n",
       "      <th></th>\n",
       "      <th>tconst</th>\n",
       "      <th>primaryTitle</th>\n",
       "      <th>startYear</th>\n",
       "      <th>runtimeMinutes</th>\n",
       "      <th>genres</th>\n",
       "    </tr>\n",
       "  </thead>\n",
       "  <tbody>\n",
       "    <tr>\n",
       "      <td>20</td>\n",
       "      <td>tt0253093</td>\n",
       "      <td>Gangavataran</td>\n",
       "      <td>2018</td>\n",
       "      <td>134</td>\n",
       "      <td>\\N</td>\n",
       "    </tr>\n",
       "    <tr>\n",
       "      <td>31</td>\n",
       "      <td>tt0306058</td>\n",
       "      <td>Second Coming</td>\n",
       "      <td>2012</td>\n",
       "      <td>95</td>\n",
       "      <td>\\N</td>\n",
       "    </tr>\n",
       "    <tr>\n",
       "      <td>36</td>\n",
       "      <td>tt0326592</td>\n",
       "      <td>The Overnight</td>\n",
       "      <td>2010</td>\n",
       "      <td>88</td>\n",
       "      <td>\\N</td>\n",
       "    </tr>\n",
       "    <tr>\n",
       "      <td>42</td>\n",
       "      <td>tt0330987</td>\n",
       "      <td>Tiden är en dröm, del 2</td>\n",
       "      <td>2014</td>\n",
       "      <td>109</td>\n",
       "      <td>\\N</td>\n",
       "    </tr>\n",
       "    <tr>\n",
       "      <td>395</td>\n",
       "      <td>tt0877604</td>\n",
       "      <td>Chûshingura</td>\n",
       "      <td>2016</td>\n",
       "      <td>76</td>\n",
       "      <td>\\N</td>\n",
       "    </tr>\n",
       "  </tbody>\n",
       "</table>\n",
       "</div>"
      ],
      "text/plain": [
       "        tconst             primaryTitle  startYear  runtimeMinutes genres\n",
       "20   tt0253093             Gangavataran       2018             134     \\N\n",
       "31   tt0306058            Second Coming       2012              95     \\N\n",
       "36   tt0326592            The Overnight       2010              88     \\N\n",
       "42   tt0330987  Tiden är en dröm, del 2       2014             109     \\N\n",
       "395  tt0877604              Chûshingura       2016              76     \\N"
      ]
     },
     "execution_count": 494,
     "metadata": {},
     "output_type": "execute_result"
    }
   ],
   "source": [
    "na_genre = movies[movies['genres'] == '\\\\N']\n",
    "print(na_genre.shape)\n",
    "na_genre.head()"
   ]
  },
  {
   "cell_type": "markdown",
   "metadata": {},
   "source": [
    "The movies with a null `genres` value appeared to be obscure titles, and they contained limited information about cast and credits. Due to this and the fact that they made up a small percentage of the data, I removed them from the `movies` dataset."
   ]
  },
  {
   "cell_type": "code",
   "execution_count": 495,
   "metadata": {},
   "outputs": [
    {
     "data": {
      "text/plain": [
       "(113240, 5)"
      ]
     },
     "execution_count": 495,
     "metadata": {},
     "output_type": "execute_result"
    }
   ],
   "source": [
    "movies = movies[movies['genres'] != '\\\\N']\n",
    "movies.shape"
   ]
  },
  {
   "cell_type": "markdown",
   "metadata": {},
   "source": [
    "## Ratings Data\n",
    "\n",
    "I used ratings data to identify popular and/or mainstream movies. I measured popularity using the `numVotes` column, since this column represents the number of reviews submitted for a movie. The more reviews a movie has, the more popular the movie. For this section I referenced the [IMDB website](https://www.imdb.com) and chose a number to determine the minimum number of reviews that any movie considered mainstream should have."
   ]
  },
  {
   "cell_type": "code",
   "execution_count": 496,
   "metadata": {},
   "outputs": [
    {
     "name": "stdout",
     "output_type": "stream",
     "text": [
      "(989143, 3)\n"
     ]
    },
    {
     "data": {
      "text/html": [
       "<div>\n",
       "<style scoped>\n",
       "    .dataframe tbody tr th:only-of-type {\n",
       "        vertical-align: middle;\n",
       "    }\n",
       "\n",
       "    .dataframe tbody tr th {\n",
       "        vertical-align: top;\n",
       "    }\n",
       "\n",
       "    .dataframe thead th {\n",
       "        text-align: right;\n",
       "    }\n",
       "</style>\n",
       "<table border=\"1\" class=\"dataframe\">\n",
       "  <thead>\n",
       "    <tr style=\"text-align: right;\">\n",
       "      <th></th>\n",
       "      <th>tconst</th>\n",
       "      <th>averageRating</th>\n",
       "      <th>numVotes</th>\n",
       "    </tr>\n",
       "  </thead>\n",
       "  <tbody>\n",
       "    <tr>\n",
       "      <td>0</td>\n",
       "      <td>tt0000001</td>\n",
       "      <td>5.6</td>\n",
       "      <td>1546</td>\n",
       "    </tr>\n",
       "    <tr>\n",
       "      <td>1</td>\n",
       "      <td>tt0000002</td>\n",
       "      <td>6.1</td>\n",
       "      <td>187</td>\n",
       "    </tr>\n",
       "    <tr>\n",
       "      <td>2</td>\n",
       "      <td>tt0000003</td>\n",
       "      <td>6.5</td>\n",
       "      <td>1203</td>\n",
       "    </tr>\n",
       "    <tr>\n",
       "      <td>3</td>\n",
       "      <td>tt0000004</td>\n",
       "      <td>6.2</td>\n",
       "      <td>114</td>\n",
       "    </tr>\n",
       "    <tr>\n",
       "      <td>4</td>\n",
       "      <td>tt0000005</td>\n",
       "      <td>6.1</td>\n",
       "      <td>1929</td>\n",
       "    </tr>\n",
       "  </tbody>\n",
       "</table>\n",
       "</div>"
      ],
      "text/plain": [
       "      tconst  averageRating  numVotes\n",
       "0  tt0000001            5.6      1546\n",
       "1  tt0000002            6.1       187\n",
       "2  tt0000003            6.5      1203\n",
       "3  tt0000004            6.2       114\n",
       "4  tt0000005            6.1      1929"
      ]
     },
     "execution_count": 496,
     "metadata": {},
     "output_type": "execute_result"
    }
   ],
   "source": [
    "ratings = pd.read_csv('ratings_imdb.csv')\n",
    "print(ratings.shape)\n",
    "ratings.head()"
   ]
  },
  {
   "cell_type": "code",
   "execution_count": 497,
   "metadata": {},
   "outputs": [
    {
     "data": {
      "text/plain": [
       "2156073"
      ]
     },
     "execution_count": 497,
     "metadata": {},
     "output_type": "execute_result"
    }
   ],
   "source": [
    "ratings['numVotes'].max()"
   ]
  },
  {
   "cell_type": "markdown",
   "metadata": {},
   "source": [
    "While exploring the [IMDB website](https://www.imdb.com), I learned that even the lesser known mainstream movies still had over 4,500 reviews on average. I referenced lesser known titles for movies released to theater in 2019 to verify this information because movies continuously get reviewed, and therefore the movies that have been released most recently have had the least amount of time to be reviewed. I found that even the lesser known mainstream movies released in 2019 had at least 4,500 reviews."
   ]
  },
  {
   "cell_type": "code",
   "execution_count": 498,
   "metadata": {},
   "outputs": [],
   "source": [
    "#based on IMDB current popular movies, 4500 votes seems to be a fair minimum\n",
    "#popular movies have quite a few more than 4500\n",
    "#This filters out movies that could skew results, \n",
    "# and that this project doesn't intend to analyze\n",
    "ratings = ratings[ratings['numVotes'] >= 4500]"
   ]
  },
  {
   "cell_type": "code",
   "execution_count": 499,
   "metadata": {},
   "outputs": [
    {
     "data": {
      "text/plain": [
       "(16752, 3)"
      ]
     },
     "execution_count": 499,
     "metadata": {},
     "output_type": "execute_result"
    }
   ],
   "source": [
    "ratings.shape"
   ]
  },
  {
   "cell_type": "markdown",
   "metadata": {},
   "source": [
    "## Director and Movie Credits Data\n",
    "\n",
    "I imported and inspected data about movie directors, and I did not need to modify this data."
   ]
  },
  {
   "cell_type": "code",
   "execution_count": 500,
   "metadata": {
    "scrolled": true
   },
   "outputs": [
    {
     "name": "stdout",
     "output_type": "stream",
     "text": [
      "(146720, 3)\n"
     ]
    },
    {
     "data": {
      "text/html": [
       "<div>\n",
       "<style scoped>\n",
       "    .dataframe tbody tr th:only-of-type {\n",
       "        vertical-align: middle;\n",
       "    }\n",
       "\n",
       "    .dataframe tbody tr th {\n",
       "        vertical-align: top;\n",
       "    }\n",
       "\n",
       "    .dataframe thead th {\n",
       "        text-align: right;\n",
       "    }\n",
       "</style>\n",
       "<table border=\"1\" class=\"dataframe\">\n",
       "  <thead>\n",
       "    <tr style=\"text-align: right;\">\n",
       "      <th></th>\n",
       "      <th>nconst</th>\n",
       "      <th>primaryName</th>\n",
       "      <th>tconst</th>\n",
       "    </tr>\n",
       "  </thead>\n",
       "  <tbody>\n",
       "    <tr>\n",
       "      <td>0</td>\n",
       "      <td>nm0000095</td>\n",
       "      <td>Woody Allen</td>\n",
       "      <td>tt1182350</td>\n",
       "    </tr>\n",
       "    <tr>\n",
       "      <td>1</td>\n",
       "      <td>nm0000095</td>\n",
       "      <td>Woody Allen</td>\n",
       "      <td>tt1605783</td>\n",
       "    </tr>\n",
       "    <tr>\n",
       "      <td>2</td>\n",
       "      <td>nm0000095</td>\n",
       "      <td>Woody Allen</td>\n",
       "      <td>tt1859650</td>\n",
       "    </tr>\n",
       "    <tr>\n",
       "      <td>3</td>\n",
       "      <td>nm0000095</td>\n",
       "      <td>Woody Allen</td>\n",
       "      <td>tt2334873</td>\n",
       "    </tr>\n",
       "    <tr>\n",
       "      <td>4</td>\n",
       "      <td>nm0000095</td>\n",
       "      <td>Woody Allen</td>\n",
       "      <td>tt2870756</td>\n",
       "    </tr>\n",
       "  </tbody>\n",
       "</table>\n",
       "</div>"
      ],
      "text/plain": [
       "      nconst  primaryName     tconst\n",
       "0  nm0000095  Woody Allen  tt1182350\n",
       "1  nm0000095  Woody Allen  tt1605783\n",
       "2  nm0000095  Woody Allen  tt1859650\n",
       "3  nm0000095  Woody Allen  tt2334873\n",
       "4  nm0000095  Woody Allen  tt2870756"
      ]
     },
     "execution_count": 500,
     "metadata": {},
     "output_type": "execute_result"
    }
   ],
   "source": [
    "directors = pd.read_csv('directors_imdb.csv')\n",
    "print(directors.shape)\n",
    "directors.head()"
   ]
  },
  {
   "cell_type": "markdown",
   "metadata": {},
   "source": [
    "## Actor/Actress Names Data\n",
    "\n",
    "I imported and inspected data about the movies' actors/actresses, and I did not need to modify this data."
   ]
  },
  {
   "cell_type": "code",
   "execution_count": 501,
   "metadata": {},
   "outputs": [
    {
     "name": "stdout",
     "output_type": "stream",
     "text": [
      "(257617, 3)\n"
     ]
    },
    {
     "data": {
      "text/html": [
       "<div>\n",
       "<style scoped>\n",
       "    .dataframe tbody tr th:only-of-type {\n",
       "        vertical-align: middle;\n",
       "    }\n",
       "\n",
       "    .dataframe tbody tr th {\n",
       "        vertical-align: top;\n",
       "    }\n",
       "\n",
       "    .dataframe thead th {\n",
       "        text-align: right;\n",
       "    }\n",
       "</style>\n",
       "<table border=\"1\" class=\"dataframe\">\n",
       "  <thead>\n",
       "    <tr style=\"text-align: right;\">\n",
       "      <th></th>\n",
       "      <th>nconst</th>\n",
       "      <th>primaryName</th>\n",
       "      <th>birthYear</th>\n",
       "    </tr>\n",
       "  </thead>\n",
       "  <tbody>\n",
       "    <tr>\n",
       "      <td>0</td>\n",
       "      <td>nm0000002</td>\n",
       "      <td>Lauren Bacall</td>\n",
       "      <td>1924</td>\n",
       "    </tr>\n",
       "    <tr>\n",
       "      <td>1</td>\n",
       "      <td>nm0000084</td>\n",
       "      <td>Li Gong</td>\n",
       "      <td>1965</td>\n",
       "    </tr>\n",
       "    <tr>\n",
       "      <td>2</td>\n",
       "      <td>nm0000087</td>\n",
       "      <td>Elena Koreneva</td>\n",
       "      <td>1953</td>\n",
       "    </tr>\n",
       "    <tr>\n",
       "      <td>3</td>\n",
       "      <td>nm0000090</td>\n",
       "      <td>Armin Mueller-Stahl</td>\n",
       "      <td>1930</td>\n",
       "    </tr>\n",
       "    <tr>\n",
       "      <td>4</td>\n",
       "      <td>nm0000092</td>\n",
       "      <td>John Cleese</td>\n",
       "      <td>1939</td>\n",
       "    </tr>\n",
       "  </tbody>\n",
       "</table>\n",
       "</div>"
      ],
      "text/plain": [
       "      nconst          primaryName birthYear\n",
       "0  nm0000002        Lauren Bacall      1924\n",
       "1  nm0000084              Li Gong      1965\n",
       "2  nm0000087       Elena Koreneva      1953\n",
       "3  nm0000090  Armin Mueller-Stahl      1930\n",
       "4  nm0000092          John Cleese      1939"
      ]
     },
     "execution_count": 501,
     "metadata": {},
     "output_type": "execute_result"
    }
   ],
   "source": [
    "act_names = pd.read_csv('act_names_imdb.csv')\n",
    "print(act_names.shape)\n",
    "act_names.head()"
   ]
  },
  {
   "cell_type": "markdown",
   "metadata": {},
   "source": [
    "## Movie Main Credits\n",
    "\n",
    "I imported and inspected movie credits for the starring actors/actresses of all movies analyzed. The `tconst` column represents the movie title, while the `nconst` represents the actor/actress's name. Later I translated the codes to names by referencing or joining the movie and the actor/actress names dataframes."
   ]
  },
  {
   "cell_type": "code",
   "execution_count": 502,
   "metadata": {},
   "outputs": [
    {
     "name": "stdout",
     "output_type": "stream",
     "text": [
      "(422815, 3)\n"
     ]
    },
    {
     "data": {
      "text/html": [
       "<div>\n",
       "<style scoped>\n",
       "    .dataframe tbody tr th:only-of-type {\n",
       "        vertical-align: middle;\n",
       "    }\n",
       "\n",
       "    .dataframe tbody tr th {\n",
       "        vertical-align: top;\n",
       "    }\n",
       "\n",
       "    .dataframe thead th {\n",
       "        text-align: right;\n",
       "    }\n",
       "</style>\n",
       "<table border=\"1\" class=\"dataframe\">\n",
       "  <thead>\n",
       "    <tr style=\"text-align: right;\">\n",
       "      <th></th>\n",
       "      <th>tconst</th>\n",
       "      <th>nconst</th>\n",
       "      <th>category</th>\n",
       "    </tr>\n",
       "  </thead>\n",
       "  <tbody>\n",
       "    <tr>\n",
       "      <td>0</td>\n",
       "      <td>tt0069049</td>\n",
       "      <td>nm0001379</td>\n",
       "      <td>actor</td>\n",
       "    </tr>\n",
       "    <tr>\n",
       "      <td>1</td>\n",
       "      <td>tt0069049</td>\n",
       "      <td>nm0462648</td>\n",
       "      <td>actress</td>\n",
       "    </tr>\n",
       "    <tr>\n",
       "      <td>2</td>\n",
       "      <td>tt0069049</td>\n",
       "      <td>nm0000953</td>\n",
       "      <td>actor</td>\n",
       "    </tr>\n",
       "    <tr>\n",
       "      <td>3</td>\n",
       "      <td>tt0069049</td>\n",
       "      <td>nm0001782</td>\n",
       "      <td>actress</td>\n",
       "    </tr>\n",
       "    <tr>\n",
       "      <td>4</td>\n",
       "      <td>tt0069204</td>\n",
       "      <td>nm0315917</td>\n",
       "      <td>actor</td>\n",
       "    </tr>\n",
       "  </tbody>\n",
       "</table>\n",
       "</div>"
      ],
      "text/plain": [
       "      tconst     nconst category\n",
       "0  tt0069049  nm0001379    actor\n",
       "1  tt0069049  nm0462648  actress\n",
       "2  tt0069049  nm0000953    actor\n",
       "3  tt0069049  nm0001782  actress\n",
       "4  tt0069204  nm0315917    actor"
      ]
     },
     "execution_count": 502,
     "metadata": {},
     "output_type": "execute_result"
    }
   ],
   "source": [
    "act_credits = pd.read_csv('cast_crew_imdb.csv')\n",
    "print(act_credits.shape)\n",
    "act_credits.head()"
   ]
  },
  {
   "cell_type": "markdown",
   "metadata": {},
   "source": [
    "<a id='sql_join'></a>\n",
    "\n",
    "# Joining Tables with SQLite\n",
    "\n",
    "Now, the data is contained in several tables or dataframes. To analyze the data, I cross-referenced the codes/keys (ex. `tconst`) and the movie titles, the directors, the ratings, and the actor/actress's names. I completed several table joins using SQLite in Python. "
   ]
  },
  {
   "cell_type": "code",
   "execution_count": 503,
   "metadata": {},
   "outputs": [],
   "source": [
    "# These helper functions will be useful \n",
    "# with the SQLite database from python\n",
    "\n",
    "DB = \"films.db\"\n",
    "\n",
    "def run_query(q):\n",
    "    with sqlite3.connect(DB) as conn:\n",
    "        return pd.read_sql(q,conn)\n",
    "\n",
    "def run_command(c):\n",
    "    with sqlite3.connect(DB) as conn:\n",
    "        conn.execute('PRAGMA foreign_keys = ON;')\n",
    "        conn.isolation_level = None\n",
    "        conn.execute(c)\n",
    "\n",
    "def show_tables():\n",
    "    q = '''\n",
    "    SELECT\n",
    "        name,\n",
    "        type\n",
    "    FROM sqlite_master\n",
    "    WHERE type IN (\"table\",\"view\");\n",
    "    '''\n",
    "    return run_query(q)"
   ]
  },
  {
   "cell_type": "code",
   "execution_count": 504,
   "metadata": {},
   "outputs": [],
   "source": [
    "tables = {\n",
    "    \"films\": movies,\n",
    "    \"reviews\": ratings,\n",
    "    \"directors_log\": directors,\n",
    "    \"a_names\": act_names,\n",
    "    'credits': act_credits\n",
    "}\n",
    "\n",
    "with sqlite3.connect(DB) as conn:    \n",
    "    for name, data in tables.items():\n",
    "        conn.execute(\"DROP TABLE IF EXISTS {};\".format(name))\n",
    "        data.to_sql(name,conn,index=False)"
   ]
  },
  {
   "cell_type": "code",
   "execution_count": 505,
   "metadata": {},
   "outputs": [
    {
     "data": {
      "text/html": [
       "<div>\n",
       "<style scoped>\n",
       "    .dataframe tbody tr th:only-of-type {\n",
       "        vertical-align: middle;\n",
       "    }\n",
       "\n",
       "    .dataframe tbody tr th {\n",
       "        vertical-align: top;\n",
       "    }\n",
       "\n",
       "    .dataframe thead th {\n",
       "        text-align: right;\n",
       "    }\n",
       "</style>\n",
       "<table border=\"1\" class=\"dataframe\">\n",
       "  <thead>\n",
       "    <tr style=\"text-align: right;\">\n",
       "      <th></th>\n",
       "      <th>name</th>\n",
       "      <th>type</th>\n",
       "    </tr>\n",
       "  </thead>\n",
       "  <tbody>\n",
       "    <tr>\n",
       "      <td>0</td>\n",
       "      <td>films</td>\n",
       "      <td>table</td>\n",
       "    </tr>\n",
       "    <tr>\n",
       "      <td>1</td>\n",
       "      <td>reviews</td>\n",
       "      <td>table</td>\n",
       "    </tr>\n",
       "    <tr>\n",
       "      <td>2</td>\n",
       "      <td>directors_log</td>\n",
       "      <td>table</td>\n",
       "    </tr>\n",
       "    <tr>\n",
       "      <td>3</td>\n",
       "      <td>a_names</td>\n",
       "      <td>table</td>\n",
       "    </tr>\n",
       "    <tr>\n",
       "      <td>4</td>\n",
       "      <td>credits</td>\n",
       "      <td>table</td>\n",
       "    </tr>\n",
       "  </tbody>\n",
       "</table>\n",
       "</div>"
      ],
      "text/plain": [
       "            name   type\n",
       "0          films  table\n",
       "1        reviews  table\n",
       "2  directors_log  table\n",
       "3        a_names  table\n",
       "4        credits  table"
      ]
     },
     "execution_count": 505,
     "metadata": {},
     "output_type": "execute_result"
    }
   ],
   "source": [
    "show_tables()"
   ]
  },
  {
   "cell_type": "markdown",
   "metadata": {},
   "source": [
    "I imported these tables into SQLite:\n",
    "- films\n",
    "- reviews\n",
    "- directors_log\n",
    "- a_names\n",
    "- credits\n",
    "\n",
    "Below is a sample query examining the first 5 rows from the `credits` table."
   ]
  },
  {
   "cell_type": "code",
   "execution_count": 506,
   "metadata": {},
   "outputs": [
    {
     "data": {
      "text/html": [
       "<div>\n",
       "<style scoped>\n",
       "    .dataframe tbody tr th:only-of-type {\n",
       "        vertical-align: middle;\n",
       "    }\n",
       "\n",
       "    .dataframe tbody tr th {\n",
       "        vertical-align: top;\n",
       "    }\n",
       "\n",
       "    .dataframe thead th {\n",
       "        text-align: right;\n",
       "    }\n",
       "</style>\n",
       "<table border=\"1\" class=\"dataframe\">\n",
       "  <thead>\n",
       "    <tr style=\"text-align: right;\">\n",
       "      <th></th>\n",
       "      <th>tconst</th>\n",
       "      <th>nconst</th>\n",
       "      <th>category</th>\n",
       "    </tr>\n",
       "  </thead>\n",
       "  <tbody>\n",
       "    <tr>\n",
       "      <td>0</td>\n",
       "      <td>tt0069049</td>\n",
       "      <td>nm0001379</td>\n",
       "      <td>actor</td>\n",
       "    </tr>\n",
       "    <tr>\n",
       "      <td>1</td>\n",
       "      <td>tt0069049</td>\n",
       "      <td>nm0462648</td>\n",
       "      <td>actress</td>\n",
       "    </tr>\n",
       "    <tr>\n",
       "      <td>2</td>\n",
       "      <td>tt0069049</td>\n",
       "      <td>nm0000953</td>\n",
       "      <td>actor</td>\n",
       "    </tr>\n",
       "    <tr>\n",
       "      <td>3</td>\n",
       "      <td>tt0069049</td>\n",
       "      <td>nm0001782</td>\n",
       "      <td>actress</td>\n",
       "    </tr>\n",
       "    <tr>\n",
       "      <td>4</td>\n",
       "      <td>tt0069204</td>\n",
       "      <td>nm0315917</td>\n",
       "      <td>actor</td>\n",
       "    </tr>\n",
       "  </tbody>\n",
       "</table>\n",
       "</div>"
      ],
      "text/plain": [
       "      tconst     nconst category\n",
       "0  tt0069049  nm0001379    actor\n",
       "1  tt0069049  nm0462648  actress\n",
       "2  tt0069049  nm0000953    actor\n",
       "3  tt0069049  nm0001782  actress\n",
       "4  tt0069204  nm0315917    actor"
      ]
     },
     "execution_count": 506,
     "metadata": {},
     "output_type": "execute_result"
    }
   ],
   "source": [
    "q = \"\"\"\n",
    "SELECT *\n",
    "FROM credits\n",
    "LIMIT 5;\n",
    "\"\"\"\n",
    "\n",
    "run_query(q)"
   ]
  },
  {
   "cell_type": "code",
   "execution_count": 507,
   "metadata": {
    "scrolled": true
   },
   "outputs": [
    {
     "data": {
      "text/html": [
       "<div>\n",
       "<style scoped>\n",
       "    .dataframe tbody tr th:only-of-type {\n",
       "        vertical-align: middle;\n",
       "    }\n",
       "\n",
       "    .dataframe tbody tr th {\n",
       "        vertical-align: top;\n",
       "    }\n",
       "\n",
       "    .dataframe thead th {\n",
       "        text-align: right;\n",
       "    }\n",
       "</style>\n",
       "<table border=\"1\" class=\"dataframe\">\n",
       "  <thead>\n",
       "    <tr style=\"text-align: right;\">\n",
       "      <th></th>\n",
       "      <th>cid</th>\n",
       "      <th>name</th>\n",
       "      <th>type</th>\n",
       "      <th>notnull</th>\n",
       "      <th>dflt_value</th>\n",
       "      <th>pk</th>\n",
       "    </tr>\n",
       "  </thead>\n",
       "  <tbody>\n",
       "    <tr>\n",
       "      <td>0</td>\n",
       "      <td>0</td>\n",
       "      <td>nconst</td>\n",
       "      <td>TEXT</td>\n",
       "      <td>0</td>\n",
       "      <td>None</td>\n",
       "      <td>0</td>\n",
       "    </tr>\n",
       "    <tr>\n",
       "      <td>1</td>\n",
       "      <td>1</td>\n",
       "      <td>primaryName</td>\n",
       "      <td>TEXT</td>\n",
       "      <td>0</td>\n",
       "      <td>None</td>\n",
       "      <td>0</td>\n",
       "    </tr>\n",
       "    <tr>\n",
       "      <td>2</td>\n",
       "      <td>2</td>\n",
       "      <td>birthYear</td>\n",
       "      <td>TEXT</td>\n",
       "      <td>0</td>\n",
       "      <td>None</td>\n",
       "      <td>0</td>\n",
       "    </tr>\n",
       "  </tbody>\n",
       "</table>\n",
       "</div>"
      ],
      "text/plain": [
       "   cid         name  type  notnull dflt_value  pk\n",
       "0    0       nconst  TEXT        0       None   0\n",
       "1    1  primaryName  TEXT        0       None   0\n",
       "2    2    birthYear  TEXT        0       None   0"
      ]
     },
     "execution_count": 507,
     "metadata": {},
     "output_type": "execute_result"
    }
   ],
   "source": [
    "q = \"\"\"\n",
    "pragma table_info(a_names);\n",
    "\"\"\"\n",
    "\n",
    "run_query(q)"
   ]
  },
  {
   "cell_type": "markdown",
   "metadata": {},
   "source": [
    "To get a better idea of the columns and the `type`, I ran the `pragma table_info()` query. I did this for all five of the tables. I included an example above. Below is a visual schema displaying the inner joins that I made."
   ]
  },
  {
   "cell_type": "markdown",
   "metadata": {},
   "source": [
    " ![](film_project/movie_schema_2.pdf)"
   ]
  },
  {
   "cell_type": "markdown",
   "metadata": {},
   "source": [
    "I joined the actor/actress names table with the credits table to make it easier and more efficient for a movie watcher to reference a movie's lead actors/actresses."
   ]
  },
  {
   "cell_type": "code",
   "execution_count": 508,
   "metadata": {},
   "outputs": [
    {
     "data": {
      "text/html": [
       "<div>\n",
       "<style scoped>\n",
       "    .dataframe tbody tr th:only-of-type {\n",
       "        vertical-align: middle;\n",
       "    }\n",
       "\n",
       "    .dataframe tbody tr th {\n",
       "        vertical-align: top;\n",
       "    }\n",
       "\n",
       "    .dataframe thead th {\n",
       "        text-align: right;\n",
       "    }\n",
       "</style>\n",
       "<table border=\"1\" class=\"dataframe\">\n",
       "  <thead>\n",
       "    <tr style=\"text-align: right;\">\n",
       "      <th></th>\n",
       "      <th>nconst</th>\n",
       "      <th>primaryName</th>\n",
       "      <th>birthYear</th>\n",
       "      <th>tconst</th>\n",
       "      <th>category</th>\n",
       "    </tr>\n",
       "  </thead>\n",
       "  <tbody>\n",
       "    <tr>\n",
       "      <td>0</td>\n",
       "      <td>nm0000002</td>\n",
       "      <td>Lauren Bacall</td>\n",
       "      <td>1924</td>\n",
       "      <td>tt0858500</td>\n",
       "      <td>actress</td>\n",
       "    </tr>\n",
       "    <tr>\n",
       "      <td>1</td>\n",
       "      <td>nm0000002</td>\n",
       "      <td>Lauren Bacall</td>\n",
       "      <td>1924</td>\n",
       "      <td>tt1368858</td>\n",
       "      <td>actress</td>\n",
       "    </tr>\n",
       "    <tr>\n",
       "      <td>2</td>\n",
       "      <td>nm0000084</td>\n",
       "      <td>Li Gong</td>\n",
       "      <td>1965</td>\n",
       "      <td>tt1092634</td>\n",
       "      <td>actress</td>\n",
       "    </tr>\n",
       "    <tr>\n",
       "      <td>3</td>\n",
       "      <td>nm0000084</td>\n",
       "      <td>Li Gong</td>\n",
       "      <td>1965</td>\n",
       "      <td>tt1667150</td>\n",
       "      <td>actress</td>\n",
       "    </tr>\n",
       "    <tr>\n",
       "      <td>4</td>\n",
       "      <td>nm0000084</td>\n",
       "      <td>Li Gong</td>\n",
       "      <td>1965</td>\n",
       "      <td>tt3125472</td>\n",
       "      <td>actress</td>\n",
       "    </tr>\n",
       "    <tr>\n",
       "      <td>5</td>\n",
       "      <td>nm0000084</td>\n",
       "      <td>Li Gong</td>\n",
       "      <td>1965</td>\n",
       "      <td>tt4591310</td>\n",
       "      <td>actress</td>\n",
       "    </tr>\n",
       "    <tr>\n",
       "      <td>6</td>\n",
       "      <td>nm0000084</td>\n",
       "      <td>Li Gong</td>\n",
       "      <td>1965</td>\n",
       "      <td>tt8499638</td>\n",
       "      <td>actress</td>\n",
       "    </tr>\n",
       "    <tr>\n",
       "      <td>7</td>\n",
       "      <td>nm0000087</td>\n",
       "      <td>Elena Koreneva</td>\n",
       "      <td>1953</td>\n",
       "      <td>tt5847740</td>\n",
       "      <td>actress</td>\n",
       "    </tr>\n",
       "    <tr>\n",
       "      <td>8</td>\n",
       "      <td>nm0000087</td>\n",
       "      <td>Elena Koreneva</td>\n",
       "      <td>1953</td>\n",
       "      <td>tt7529350</td>\n",
       "      <td>actress</td>\n",
       "    </tr>\n",
       "    <tr>\n",
       "      <td>9</td>\n",
       "      <td>nm0000090</td>\n",
       "      <td>Armin Mueller-Stahl</td>\n",
       "      <td>1930</td>\n",
       "      <td>tt3493020</td>\n",
       "      <td>actor</td>\n",
       "    </tr>\n",
       "  </tbody>\n",
       "</table>\n",
       "</div>"
      ],
      "text/plain": [
       "      nconst          primaryName birthYear     tconst category\n",
       "0  nm0000002        Lauren Bacall      1924  tt0858500  actress\n",
       "1  nm0000002        Lauren Bacall      1924  tt1368858  actress\n",
       "2  nm0000084              Li Gong      1965  tt1092634  actress\n",
       "3  nm0000084              Li Gong      1965  tt1667150  actress\n",
       "4  nm0000084              Li Gong      1965  tt3125472  actress\n",
       "5  nm0000084              Li Gong      1965  tt4591310  actress\n",
       "6  nm0000084              Li Gong      1965  tt8499638  actress\n",
       "7  nm0000087       Elena Koreneva      1953  tt5847740  actress\n",
       "8  nm0000087       Elena Koreneva      1953  tt7529350  actress\n",
       "9  nm0000090  Armin Mueller-Stahl      1930  tt3493020    actor"
      ]
     },
     "execution_count": 508,
     "metadata": {},
     "output_type": "execute_result"
    }
   ],
   "source": [
    "act = \"\"\"\n",
    "    SELECT \n",
    "    a_names.*,\n",
    "    credits.tconst,\n",
    "    credits.category\n",
    "    FROM a_names\n",
    "    INNER JOIN credits\n",
    "    ON a_names.nconst = credits.nconst\n",
    "    LIMIT 10;\n",
    "\"\"\"\n",
    "\n",
    "run_query(act)"
   ]
  },
  {
   "cell_type": "code",
   "execution_count": 509,
   "metadata": {},
   "outputs": [],
   "source": [
    "act = \"\"\"\n",
    "    SELECT \n",
    "    a_names.*,\n",
    "    credits.tconst,\n",
    "    credits.category\n",
    "    FROM a_names\n",
    "    INNER JOIN credits\n",
    "    ON a_names.nconst = credits.nconst;\n",
    "\"\"\"\n",
    "\n",
    "cast_info = run_query(act)"
   ]
  },
  {
   "cell_type": "code",
   "execution_count": 510,
   "metadata": {},
   "outputs": [
    {
     "data": {
      "text/html": [
       "<div>\n",
       "<style scoped>\n",
       "    .dataframe tbody tr th:only-of-type {\n",
       "        vertical-align: middle;\n",
       "    }\n",
       "\n",
       "    .dataframe tbody tr th {\n",
       "        vertical-align: top;\n",
       "    }\n",
       "\n",
       "    .dataframe thead th {\n",
       "        text-align: right;\n",
       "    }\n",
       "</style>\n",
       "<table border=\"1\" class=\"dataframe\">\n",
       "  <thead>\n",
       "    <tr style=\"text-align: right;\">\n",
       "      <th></th>\n",
       "      <th>nconst</th>\n",
       "      <th>castMember</th>\n",
       "      <th>birthYear</th>\n",
       "      <th>tconst</th>\n",
       "      <th>category</th>\n",
       "    </tr>\n",
       "  </thead>\n",
       "  <tbody>\n",
       "    <tr>\n",
       "      <td>0</td>\n",
       "      <td>nm0000002</td>\n",
       "      <td>Lauren Bacall</td>\n",
       "      <td>1924</td>\n",
       "      <td>tt0858500</td>\n",
       "      <td>actress</td>\n",
       "    </tr>\n",
       "    <tr>\n",
       "      <td>1</td>\n",
       "      <td>nm0000002</td>\n",
       "      <td>Lauren Bacall</td>\n",
       "      <td>1924</td>\n",
       "      <td>tt1368858</td>\n",
       "      <td>actress</td>\n",
       "    </tr>\n",
       "    <tr>\n",
       "      <td>2</td>\n",
       "      <td>nm0000084</td>\n",
       "      <td>Li Gong</td>\n",
       "      <td>1965</td>\n",
       "      <td>tt1092634</td>\n",
       "      <td>actress</td>\n",
       "    </tr>\n",
       "    <tr>\n",
       "      <td>3</td>\n",
       "      <td>nm0000084</td>\n",
       "      <td>Li Gong</td>\n",
       "      <td>1965</td>\n",
       "      <td>tt1667150</td>\n",
       "      <td>actress</td>\n",
       "    </tr>\n",
       "    <tr>\n",
       "      <td>4</td>\n",
       "      <td>nm0000084</td>\n",
       "      <td>Li Gong</td>\n",
       "      <td>1965</td>\n",
       "      <td>tt3125472</td>\n",
       "      <td>actress</td>\n",
       "    </tr>\n",
       "  </tbody>\n",
       "</table>\n",
       "</div>"
      ],
      "text/plain": [
       "      nconst     castMember birthYear     tconst category\n",
       "0  nm0000002  Lauren Bacall      1924  tt0858500  actress\n",
       "1  nm0000002  Lauren Bacall      1924  tt1368858  actress\n",
       "2  nm0000084        Li Gong      1965  tt1092634  actress\n",
       "3  nm0000084        Li Gong      1965  tt1667150  actress\n",
       "4  nm0000084        Li Gong      1965  tt3125472  actress"
      ]
     },
     "execution_count": 510,
     "metadata": {},
     "output_type": "execute_result"
    }
   ],
   "source": [
    "cast_info = cast_info.rename(columns={'primaryName': 'castMember'})\n",
    "cast_info.head()"
   ]
  },
  {
   "cell_type": "markdown",
   "metadata": {},
   "source": [
    "## Joining Movie Titles, Director Information, and Ratings\n",
    "\n",
    "Using SQLite I joined the `films`, `reviews`, and `directors_log` tables to form one master table. By joining these three tables, the single table now contains only popular movies because I used an inner join with the `ratings` table. Since the `ratings` had previously been narrowed down to include only movies with `numVotes` over 4,500, that filter was also used on the new master table. I assigned this resulting dataframe to a variable `movies_info`. Later I used this dataframe for analysis with Pandas."
   ]
  },
  {
   "cell_type": "code",
   "execution_count": 511,
   "metadata": {},
   "outputs": [],
   "source": [
    "movies_info_query = \"\"\"\n",
    "    SELECT \n",
    "    films.*,\n",
    "    averageRating,\n",
    "    numVotes,\n",
    "    primaryName\n",
    "    FROM films\n",
    "    INNER JOIN reviews\n",
    "    ON films.tconst = reviews.tconst\n",
    "    INNER JOIN directors_log\n",
    "    ON films.tconst = directors_log.tconst;\n",
    "\"\"\"\n",
    "\n",
    "movies_info = run_query(movies_info_query)"
   ]
  },
  {
   "cell_type": "code",
   "execution_count": 512,
   "metadata": {},
   "outputs": [
    {
     "data": {
      "text/html": [
       "<div>\n",
       "<style scoped>\n",
       "    .dataframe tbody tr th:only-of-type {\n",
       "        vertical-align: middle;\n",
       "    }\n",
       "\n",
       "    .dataframe tbody tr th {\n",
       "        vertical-align: top;\n",
       "    }\n",
       "\n",
       "    .dataframe thead th {\n",
       "        text-align: right;\n",
       "    }\n",
       "</style>\n",
       "<table border=\"1\" class=\"dataframe\">\n",
       "  <thead>\n",
       "    <tr style=\"text-align: right;\">\n",
       "      <th></th>\n",
       "      <th>tconst</th>\n",
       "      <th>primaryTitle</th>\n",
       "      <th>startYear</th>\n",
       "      <th>runtimeMinutes</th>\n",
       "      <th>genres</th>\n",
       "      <th>averageRating</th>\n",
       "      <th>numVotes</th>\n",
       "      <th>primaryName</th>\n",
       "    </tr>\n",
       "  </thead>\n",
       "  <tbody>\n",
       "    <tr>\n",
       "      <td>4367</td>\n",
       "      <td>tt9252508</td>\n",
       "      <td>Tall Girl</td>\n",
       "      <td>2019</td>\n",
       "      <td>101</td>\n",
       "      <td>Comedy</td>\n",
       "      <td>5.3</td>\n",
       "      <td>10528</td>\n",
       "      <td>Nzingha Stewart</td>\n",
       "    </tr>\n",
       "    <tr>\n",
       "      <td>4368</td>\n",
       "      <td>tt9260636</td>\n",
       "      <td>Bigil</td>\n",
       "      <td>2019</td>\n",
       "      <td>179</td>\n",
       "      <td>Action,Drama,Sport</td>\n",
       "      <td>7.7</td>\n",
       "      <td>6594</td>\n",
       "      <td>Atlee Kumar</td>\n",
       "    </tr>\n",
       "    <tr>\n",
       "      <td>4369</td>\n",
       "      <td>tt9358052</td>\n",
       "      <td>Knock Down the House</td>\n",
       "      <td>2019</td>\n",
       "      <td>86</td>\n",
       "      <td>Documentary</td>\n",
       "      <td>6.8</td>\n",
       "      <td>8485</td>\n",
       "      <td>Rachel Lears</td>\n",
       "    </tr>\n",
       "    <tr>\n",
       "      <td>4370</td>\n",
       "      <td>tt9358204</td>\n",
       "      <td>The Great Hack</td>\n",
       "      <td>2019</td>\n",
       "      <td>113</td>\n",
       "      <td>Documentary</td>\n",
       "      <td>7.0</td>\n",
       "      <td>12551</td>\n",
       "      <td>Karim Amer</td>\n",
       "    </tr>\n",
       "    <tr>\n",
       "      <td>4371</td>\n",
       "      <td>tt9398640</td>\n",
       "      <td>Between Two Ferns: The Movie</td>\n",
       "      <td>2019</td>\n",
       "      <td>82</td>\n",
       "      <td>Comedy</td>\n",
       "      <td>6.1</td>\n",
       "      <td>17982</td>\n",
       "      <td>Scott Aukerman</td>\n",
       "    </tr>\n",
       "    <tr>\n",
       "      <td>4372</td>\n",
       "      <td>tt9412098</td>\n",
       "      <td>Fyre</td>\n",
       "      <td>2019</td>\n",
       "      <td>97</td>\n",
       "      <td>Documentary,Music</td>\n",
       "      <td>7.2</td>\n",
       "      <td>28850</td>\n",
       "      <td>Chris Smith</td>\n",
       "    </tr>\n",
       "    <tr>\n",
       "      <td>4373</td>\n",
       "      <td>tt9419834</td>\n",
       "      <td>Secret Obsession</td>\n",
       "      <td>2019</td>\n",
       "      <td>97</td>\n",
       "      <td>Drama,Mystery,Thriller</td>\n",
       "      <td>4.3</td>\n",
       "      <td>14060</td>\n",
       "      <td>Peter Sullivan</td>\n",
       "    </tr>\n",
       "    <tr>\n",
       "      <td>4374</td>\n",
       "      <td>tt9495224</td>\n",
       "      <td>Black Mirror: Bandersnatch</td>\n",
       "      <td>2018</td>\n",
       "      <td>90</td>\n",
       "      <td>Drama,Mystery,Sci-Fi</td>\n",
       "      <td>7.2</td>\n",
       "      <td>98678</td>\n",
       "      <td>David Slade</td>\n",
       "    </tr>\n",
       "    <tr>\n",
       "      <td>4375</td>\n",
       "      <td>tt9573980</td>\n",
       "      <td>Leaving Neverland</td>\n",
       "      <td>2019</td>\n",
       "      <td>240</td>\n",
       "      <td>Documentary</td>\n",
       "      <td>7.0</td>\n",
       "      <td>22343</td>\n",
       "      <td>Dan Reed</td>\n",
       "    </tr>\n",
       "    <tr>\n",
       "      <td>4376</td>\n",
       "      <td>tt9860728</td>\n",
       "      <td>Falling Inn Love</td>\n",
       "      <td>2019</td>\n",
       "      <td>98</td>\n",
       "      <td>Comedy,Romance</td>\n",
       "      <td>5.6</td>\n",
       "      <td>9443</td>\n",
       "      <td>Roger Kumble</td>\n",
       "    </tr>\n",
       "  </tbody>\n",
       "</table>\n",
       "</div>"
      ],
      "text/plain": [
       "         tconst                  primaryTitle  startYear  runtimeMinutes  \\\n",
       "4367  tt9252508                     Tall Girl       2019             101   \n",
       "4368  tt9260636                         Bigil       2019             179   \n",
       "4369  tt9358052          Knock Down the House       2019              86   \n",
       "4370  tt9358204                The Great Hack       2019             113   \n",
       "4371  tt9398640  Between Two Ferns: The Movie       2019              82   \n",
       "4372  tt9412098                          Fyre       2019              97   \n",
       "4373  tt9419834              Secret Obsession       2019              97   \n",
       "4374  tt9495224    Black Mirror: Bandersnatch       2018              90   \n",
       "4375  tt9573980             Leaving Neverland       2019             240   \n",
       "4376  tt9860728              Falling Inn Love       2019              98   \n",
       "\n",
       "                      genres  averageRating  numVotes      primaryName  \n",
       "4367                  Comedy            5.3     10528  Nzingha Stewart  \n",
       "4368      Action,Drama,Sport            7.7      6594      Atlee Kumar  \n",
       "4369             Documentary            6.8      8485     Rachel Lears  \n",
       "4370             Documentary            7.0     12551       Karim Amer  \n",
       "4371                  Comedy            6.1     17982   Scott Aukerman  \n",
       "4372       Documentary,Music            7.2     28850      Chris Smith  \n",
       "4373  Drama,Mystery,Thriller            4.3     14060   Peter Sullivan  \n",
       "4374    Drama,Mystery,Sci-Fi            7.2     98678      David Slade  \n",
       "4375             Documentary            7.0     22343         Dan Reed  \n",
       "4376          Comedy,Romance            5.6      9443     Roger Kumble  "
      ]
     },
     "execution_count": 512,
     "metadata": {},
     "output_type": "execute_result"
    }
   ],
   "source": [
    "movies_info.tail(10)"
   ]
  },
  {
   "cell_type": "markdown",
   "metadata": {},
   "source": [
    "<a id='analysis'></a>\n",
    "\n",
    "# Analysis\n",
    "My goal was to answer the following questions:\n",
    "- What genres are the most common?\n",
    "- Are the same genres still the most common genres when I look at only popular or mainstream movies?\n",
    "- Can we see any trends or changes in genre types for movies released in the past 10 years?\n",
    "\n",
    "\n"
   ]
  },
  {
   "cell_type": "markdown",
   "metadata": {},
   "source": [
    "## The Most Common Genres\n",
    "\n",
    "When I first started analyzing movie genres, I examined movies that were labeled as a single genre only. I eventually realized that most movies are not labeled as a single genre, but rather reference at least two genres. For example, one of the more popular movie types is the romantic-comedy or \"rom-com,\" which is both a romance and a comedy rather than just one genre. Because I did not reach this conclusion right away, I started by using SQLite to aggregate a count for movies that were categorized as only one genre, and then I grouped the movies by that genre. "
   ]
  },
  {
   "cell_type": "code",
   "execution_count": 513,
   "metadata": {},
   "outputs": [
    {
     "data": {
      "text/html": [
       "<div>\n",
       "<style scoped>\n",
       "    .dataframe tbody tr th:only-of-type {\n",
       "        vertical-align: middle;\n",
       "    }\n",
       "\n",
       "    .dataframe tbody tr th {\n",
       "        vertical-align: top;\n",
       "    }\n",
       "\n",
       "    .dataframe thead th {\n",
       "        text-align: right;\n",
       "    }\n",
       "</style>\n",
       "<table border=\"1\" class=\"dataframe\">\n",
       "  <thead>\n",
       "    <tr style=\"text-align: right;\">\n",
       "      <th></th>\n",
       "      <th>genres</th>\n",
       "      <th>count</th>\n",
       "      <th>percentage_count</th>\n",
       "    </tr>\n",
       "  </thead>\n",
       "  <tbody>\n",
       "    <tr>\n",
       "      <td>0</td>\n",
       "      <td>Documentary</td>\n",
       "      <td>23908</td>\n",
       "      <td>0.396655</td>\n",
       "    </tr>\n",
       "    <tr>\n",
       "      <td>1</td>\n",
       "      <td>Drama</td>\n",
       "      <td>16787</td>\n",
       "      <td>0.278511</td>\n",
       "    </tr>\n",
       "    <tr>\n",
       "      <td>2</td>\n",
       "      <td>Comedy</td>\n",
       "      <td>6759</td>\n",
       "      <td>0.112138</td>\n",
       "    </tr>\n",
       "    <tr>\n",
       "      <td>3</td>\n",
       "      <td>Horror</td>\n",
       "      <td>3157</td>\n",
       "      <td>0.052377</td>\n",
       "    </tr>\n",
       "    <tr>\n",
       "      <td>4</td>\n",
       "      <td>Thriller</td>\n",
       "      <td>2040</td>\n",
       "      <td>0.033845</td>\n",
       "    </tr>\n",
       "    <tr>\n",
       "      <td>5</td>\n",
       "      <td>Action</td>\n",
       "      <td>1245</td>\n",
       "      <td>0.020656</td>\n",
       "    </tr>\n",
       "    <tr>\n",
       "      <td>6</td>\n",
       "      <td>Sport</td>\n",
       "      <td>1001</td>\n",
       "      <td>0.016607</td>\n",
       "    </tr>\n",
       "    <tr>\n",
       "      <td>7</td>\n",
       "      <td>Romance</td>\n",
       "      <td>877</td>\n",
       "      <td>0.014550</td>\n",
       "    </tr>\n",
       "    <tr>\n",
       "      <td>8</td>\n",
       "      <td>Family</td>\n",
       "      <td>671</td>\n",
       "      <td>0.011132</td>\n",
       "    </tr>\n",
       "    <tr>\n",
       "      <td>9</td>\n",
       "      <td>Animation</td>\n",
       "      <td>575</td>\n",
       "      <td>0.009540</td>\n",
       "    </tr>\n",
       "  </tbody>\n",
       "</table>\n",
       "</div>"
      ],
      "text/plain": [
       "        genres  count  percentage_count\n",
       "0  Documentary  23908          0.396655\n",
       "1        Drama  16787          0.278511\n",
       "2       Comedy   6759          0.112138\n",
       "3       Horror   3157          0.052377\n",
       "4     Thriller   2040          0.033845\n",
       "5       Action   1245          0.020656\n",
       "6        Sport   1001          0.016607\n",
       "7      Romance    877          0.014550\n",
       "8       Family    671          0.011132\n",
       "9    Animation    575          0.009540"
      ]
     },
     "execution_count": 513,
     "metadata": {},
     "output_type": "execute_result"
    }
   ],
   "source": [
    "genre_table = \"\"\"\n",
    "WITH pure_genre AS\n",
    "    (\n",
    "    SELECT genres\n",
    "    FROM films\n",
    "    WHERE genres NOT LIKE '%,%'\n",
    "    )\n",
    "\n",
    "SELECT \n",
    "genres, \n",
    "count(genres) count,\n",
    "cast(count(genres) AS FLOAT) / (\n",
    "        SELECT COUNT(*) from pure_genre\n",
    "    ) percentage_count\n",
    "FROM pure_genre\n",
    "GROUP BY genres\n",
    "ORDER BY 2 DESC\n",
    "LIMIT 10;\n",
    "\"\"\"\n",
    "\n",
    "run_query(genre_table)"
   ]
  },
  {
   "cell_type": "code",
   "execution_count": 550,
   "metadata": {},
   "outputs": [
    {
     "data": {
      "image/png": "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\n",
      "text/plain": [
       "<Figure size 432x288 with 1 Axes>"
      ]
     },
     "metadata": {},
     "output_type": "display_data"
    }
   ],
   "source": [
    "\n",
    "genre_pcts = run_query(genre_table)\n",
    "genre_pcts.set_index(\"genres\", inplace=True, drop=True)\n",
    "\n",
    "genre_pcts[\"count\"].plot.barh(\n",
    "    title=\"Most Common Single Genre Titles\",\n",
    "    xlim=(0, 28000),\n",
    "    colormap=plt.cm.Accent\n",
    ")\n",
    "\n",
    "plt.ylabel('')\n",
    "\n",
    "for i, label in enumerate(list(genre_pcts.index)):\n",
    "    score = genre_pcts.loc[label, \"count\"]\n",
    "    label = (genre_pcts.loc[label, \"percentage_count\"] * 100\n",
    "            ).astype(int).astype(str) + \"%\"\n",
    "    plt.annotate(str(label), (score + 10, i - 0.15))\n",
    "\n",
    "plt.show()"
   ]
  },
  {
   "cell_type": "markdown",
   "metadata": {},
   "source": [
    "As demonstrated by the bar graph above, the documentary genre made up the majority of all movies when considering only movies categorized as a single genre with 39%. Drama came in second at 27%. Action, thriller, and horror each made up about 5% or less of the movies categorized by a single genre.\n",
    "\n",
    "One important thing to note about this first graph is that it includes all movies from the IMDB database, and does not filter out movies that contain fewer than 4,500 reviews. At the beginning of the project I made the decision to narrow the scope of the project to movies that are considered mainstream or popular and that only contain more than 4,500 reviews. Next I filtered out the movies with less than 4,500 reviews and compared the two datasets. To filter out the movies with less reviews I joined the `films` table with the `ratings` table."
   ]
  },
  {
   "cell_type": "code",
   "execution_count": 515,
   "metadata": {},
   "outputs": [
    {
     "data": {
      "text/html": [
       "<div>\n",
       "<style scoped>\n",
       "    .dataframe tbody tr th:only-of-type {\n",
       "        vertical-align: middle;\n",
       "    }\n",
       "\n",
       "    .dataframe tbody tr th {\n",
       "        vertical-align: top;\n",
       "    }\n",
       "\n",
       "    .dataframe thead th {\n",
       "        text-align: right;\n",
       "    }\n",
       "</style>\n",
       "<table border=\"1\" class=\"dataframe\">\n",
       "  <thead>\n",
       "    <tr style=\"text-align: right;\">\n",
       "      <th></th>\n",
       "      <th>genres</th>\n",
       "      <th>count</th>\n",
       "      <th>percentage_count</th>\n",
       "    </tr>\n",
       "  </thead>\n",
       "  <tbody>\n",
       "    <tr>\n",
       "      <td>0</td>\n",
       "      <td>Drama</td>\n",
       "      <td>214</td>\n",
       "      <td>0.409178</td>\n",
       "    </tr>\n",
       "    <tr>\n",
       "      <td>1</td>\n",
       "      <td>Comedy</td>\n",
       "      <td>161</td>\n",
       "      <td>0.307839</td>\n",
       "    </tr>\n",
       "    <tr>\n",
       "      <td>2</td>\n",
       "      <td>Documentary</td>\n",
       "      <td>69</td>\n",
       "      <td>0.131931</td>\n",
       "    </tr>\n",
       "    <tr>\n",
       "      <td>3</td>\n",
       "      <td>Horror</td>\n",
       "      <td>45</td>\n",
       "      <td>0.086042</td>\n",
       "    </tr>\n",
       "    <tr>\n",
       "      <td>4</td>\n",
       "      <td>Thriller</td>\n",
       "      <td>14</td>\n",
       "      <td>0.026769</td>\n",
       "    </tr>\n",
       "    <tr>\n",
       "      <td>5</td>\n",
       "      <td>Action</td>\n",
       "      <td>13</td>\n",
       "      <td>0.024857</td>\n",
       "    </tr>\n",
       "    <tr>\n",
       "      <td>6</td>\n",
       "      <td>Romance</td>\n",
       "      <td>3</td>\n",
       "      <td>0.005736</td>\n",
       "    </tr>\n",
       "    <tr>\n",
       "      <td>7</td>\n",
       "      <td>Fantasy</td>\n",
       "      <td>2</td>\n",
       "      <td>0.003824</td>\n",
       "    </tr>\n",
       "    <tr>\n",
       "      <td>8</td>\n",
       "      <td>Sci-Fi</td>\n",
       "      <td>1</td>\n",
       "      <td>0.001912</td>\n",
       "    </tr>\n",
       "    <tr>\n",
       "      <td>9</td>\n",
       "      <td>Music</td>\n",
       "      <td>1</td>\n",
       "      <td>0.001912</td>\n",
       "    </tr>\n",
       "  </tbody>\n",
       "</table>\n",
       "</div>"
      ],
      "text/plain": [
       "        genres  count  percentage_count\n",
       "0        Drama    214          0.409178\n",
       "1       Comedy    161          0.307839\n",
       "2  Documentary     69          0.131931\n",
       "3       Horror     45          0.086042\n",
       "4     Thriller     14          0.026769\n",
       "5       Action     13          0.024857\n",
       "6      Romance      3          0.005736\n",
       "7      Fantasy      2          0.003824\n",
       "8       Sci-Fi      1          0.001912\n",
       "9        Music      1          0.001912"
      ]
     },
     "execution_count": 515,
     "metadata": {},
     "output_type": "execute_result"
    }
   ],
   "source": [
    "pop_genre_table = \"\"\"\n",
    "WITH joined_genre AS\n",
    "    (\n",
    "    SELECT genres\n",
    "    FROM films\n",
    "    INNER JOIN reviews\n",
    "    ON films.tconst = reviews.tconst\n",
    "    WHERE genres NOT LIKE '%,%'\n",
    "    )\n",
    "\n",
    "SELECT \n",
    "genres, \n",
    "count(genres) count,\n",
    "cast(count(genres) AS FLOAT) / (\n",
    "        SELECT COUNT(*) from joined_genre\n",
    "    ) percentage_count\n",
    "FROM joined_genre\n",
    "GROUP BY genres\n",
    "ORDER BY 2 DESC\n",
    "LIMIT 10;\n",
    "\"\"\"\n",
    "\n",
    "run_query(pop_genre_table)"
   ]
  },
  {
   "cell_type": "code",
   "execution_count": 516,
   "metadata": {},
   "outputs": [
    {
     "data": {
      "text/html": [
       "<div>\n",
       "<style scoped>\n",
       "    .dataframe tbody tr th:only-of-type {\n",
       "        vertical-align: middle;\n",
       "    }\n",
       "\n",
       "    .dataframe tbody tr th {\n",
       "        vertical-align: top;\n",
       "    }\n",
       "\n",
       "    .dataframe thead th {\n",
       "        text-align: right;\n",
       "    }\n",
       "</style>\n",
       "<table border=\"1\" class=\"dataframe\">\n",
       "  <thead>\n",
       "    <tr style=\"text-align: right;\">\n",
       "      <th></th>\n",
       "      <th>genres</th>\n",
       "      <th>count</th>\n",
       "      <th>total_percent</th>\n",
       "      <th>pop_movie_percent</th>\n",
       "    </tr>\n",
       "  </thead>\n",
       "  <tbody>\n",
       "    <tr>\n",
       "      <td>0</td>\n",
       "      <td>Documentary</td>\n",
       "      <td>23908</td>\n",
       "      <td>39.665527</td>\n",
       "      <td>13.193117</td>\n",
       "    </tr>\n",
       "    <tr>\n",
       "      <td>1</td>\n",
       "      <td>Drama</td>\n",
       "      <td>16787</td>\n",
       "      <td>27.851146</td>\n",
       "      <td>40.917782</td>\n",
       "    </tr>\n",
       "    <tr>\n",
       "      <td>2</td>\n",
       "      <td>Comedy</td>\n",
       "      <td>6759</td>\n",
       "      <td>11.213790</td>\n",
       "      <td>30.783939</td>\n",
       "    </tr>\n",
       "    <tr>\n",
       "      <td>3</td>\n",
       "      <td>Horror</td>\n",
       "      <td>3157</td>\n",
       "      <td>5.237748</td>\n",
       "      <td>8.604207</td>\n",
       "    </tr>\n",
       "    <tr>\n",
       "      <td>4</td>\n",
       "      <td>Thriller</td>\n",
       "      <td>2040</td>\n",
       "      <td>3.384544</td>\n",
       "      <td>2.676864</td>\n",
       "    </tr>\n",
       "    <tr>\n",
       "      <td>5</td>\n",
       "      <td>Action</td>\n",
       "      <td>1245</td>\n",
       "      <td>2.065567</td>\n",
       "      <td>2.485660</td>\n",
       "    </tr>\n",
       "  </tbody>\n",
       "</table>\n",
       "</div>"
      ],
      "text/plain": [
       "        genres  count  total_percent  pop_movie_percent\n",
       "0  Documentary  23908      39.665527          13.193117\n",
       "1        Drama  16787      27.851146          40.917782\n",
       "2       Comedy   6759      11.213790          30.783939\n",
       "3       Horror   3157       5.237748           8.604207\n",
       "4     Thriller   2040       3.384544           2.676864\n",
       "5       Action   1245       2.065567           2.485660"
      ]
     },
     "execution_count": 516,
     "metadata": {},
     "output_type": "execute_result"
    }
   ],
   "source": [
    "one_genre = \"\"\"\n",
    "WITH pure_genre \n",
    "AS\n",
    "    (\n",
    "    SELECT \n",
    "    genres\n",
    "    FROM films\n",
    "    WHERE genres NOT LIKE '%,%'\n",
    "    ),\n",
    "\n",
    "non_pop \n",
    "AS\n",
    "    (\n",
    "    SELECT\n",
    "    genres, \n",
    "    count(genres) count,\n",
    "    cast(count(genres) AS FLOAT) / (\n",
    "        SELECT COUNT(*) from pure_genre\n",
    "    ) * 100 total_percent\n",
    "    FROM pure_genre\n",
    "    GROUP BY genres\n",
    "    ),\n",
    "\n",
    "joined_genre \n",
    "AS\n",
    "    (\n",
    "    SELECT \n",
    "    genres\n",
    "    FROM films\n",
    "    INNER JOIN reviews\n",
    "    ON films.tconst = reviews.tconst\n",
    "    WHERE genres NOT LIKE '%,%'\n",
    "    ),\n",
    "\n",
    "pop_genre \n",
    "AS\n",
    "    (\n",
    "SELECT\n",
    "genres, \n",
    "count(genres) count,\n",
    "cast(count(genres) AS FLOAT) / (\n",
    "        SELECT COUNT(*) from joined_genre\n",
    "    ) * 100 pop_movie_percent\n",
    "FROM joined_genre\n",
    "GROUP BY genres\n",
    "    )\n",
    "\n",
    "SELECT \n",
    "non_pop.*,\n",
    "pop_genre.pop_movie_percent\n",
    "FROM non_pop\n",
    "INNER JOIN pop_genre\n",
    "ON non_pop.genres = pop_genre.genres\n",
    "ORDER BY 2 DESC\n",
    "LIMIT 6\n",
    ";    \n",
    "    \n",
    "\n",
    "\"\"\"\n",
    "\n",
    "run_query(one_genre)\n"
   ]
  },
  {
   "cell_type": "code",
   "execution_count": 517,
   "metadata": {},
   "outputs": [
    {
     "data": {
      "image/png": "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\n",
      "text/plain": [
       "<Figure size 432x288 with 1 Axes>"
      ]
     },
     "metadata": {
      "needs_background": "light"
     },
     "output_type": "display_data"
    }
   ],
   "source": [
    "one_genre_tbl = run_query(one_genre)\n",
    "one_genre_tbl.set_index('genres', drop=True, inplace=True)\n",
    "\n",
    "tvp_cols = [\"total_percent\",\"pop_movie_percent\"]\n",
    "tot_vs_pop = one_genre_tbl[tvp_cols].copy()\n",
    "tot_vs_pop.index.name = ''\n",
    "tot_vs_pop.plot.bar(\n",
    "    colormap=plt.cm.Set1,\n",
    "    title=\"Genre Percent (All vs Popular Films)\"\n",
    ")\n",
    "plt.tick_params(top=\"off\", right=\"off\", left=\"off\", bottom=\"off\")\n",
    "#ax.spines[\"top\"].set_visible(False)\n",
    "#ax.spines[\"right\"].set_visible(False)\n",
    "\n"
   ]
  },
  {
   "cell_type": "markdown",
   "metadata": {},
   "source": [
    "In comparing all movies to the data for popular and or mainstream movies only, the number of movies released that are categorized as drama and comedy increase, and these are the top genres when considering only popular or mainstream movies. At the same time, the number from the documentary movie genre decreases, and when looking only at the popular or mainstream movies it comes in below drama and comedy."
   ]
  },
  {
   "cell_type": "markdown",
   "metadata": {},
   "source": [
    "## Movies Labeled by a Single Genre Do Not Represent the Data for Popular or Mainstream Movies\n",
    "\n",
    "Although the previous graphs demonstrated some info about movies with only one genre type, it does not tell us much about the the typical hollywood movie because as mentioned above, I learned that most movies are not considered a single genre, but instead categorized by at least two genres, for example romantic-comedies."
   ]
  },
  {
   "cell_type": "code",
   "execution_count": 518,
   "metadata": {},
   "outputs": [
    {
     "data": {
      "text/plain": [
       "Documentary                      23908\n",
       "Drama                            16787\n",
       "Comedy                            6759\n",
       "Comedy,Drama                      3333\n",
       "Horror                            3157\n",
       "Thriller                          2040\n",
       "Drama,Romance                     1934\n",
       "Biography,Documentary             1649\n",
       "Comedy,Drama,Romance              1506\n",
       "Comedy,Romance                    1366\n",
       "Action                            1245\n",
       "Documentary,Drama                 1237\n",
       "Drama,Thriller                    1224\n",
       "Documentary,Music                 1187\n",
       "Horror,Thriller                   1125\n",
       "Biography,Documentary,History     1076\n",
       "Documentary,History               1025\n",
       "Sport                             1001\n",
       "Romance                            877\n",
       "Biography,Documentary,Drama        873\n",
       "Drama,Family                       745\n",
       "Action,Crime,Drama                 688\n",
       "Crime,Drama                        676\n",
       "Family                             671\n",
       "Comedy,Horror                      637\n",
       "Crime,Drama,Thriller               635\n",
       "Animation                          575\n",
       "Documentary,Sport                  554\n",
       "Biography,Documentary,Music        491\n",
       "Action,Drama                       468\n",
       "Name: genres, dtype: int64"
      ]
     },
     "execution_count": 518,
     "metadata": {},
     "output_type": "execute_result"
    }
   ],
   "source": [
    "movies['genres'].value_counts().head(30)"
   ]
  },
  {
   "cell_type": "markdown",
   "metadata": {},
   "source": [
    "A simple search on [IMDB](https://www.imdb.com) confirmed that most, if not all movies considered popular and/or mainstream, are categorized by more than one genre."
   ]
  },
  {
   "cell_type": "markdown",
   "metadata": {},
   "source": [
    "## Trends in Genres for Popular or Mainstream Movies Over the Last Ten Years\n",
    "\n",
    "After learning that most movies are categorized by multiple genres I included movies with multiple genres. I used the `movies_info` dataframe to create a line graph showing the number of popular titles in each genre over the last ten years. Keep in mind this dataframe has already filtered out unpopular movies, so it includes just those that recieved more than 4,500 `numVotes`."
   ]
  },
  {
   "cell_type": "code",
   "execution_count": 519,
   "metadata": {},
   "outputs": [],
   "source": [
    "drama_movies = movies_info[movies_info['genres'].str.contains('Drama') == True]\n",
    "thriller_movies = movies_info[movies_info['genres'].str.contains('Thriller') == True]\n",
    "docu_movies = movies_info[movies_info['genres'].str.contains('Documentary') == True]\n",
    "action_movies = movies_info[movies_info['genres'].str.contains('Action') == True]\n",
    "horror_movies = movies_info[movies_info['genres'].str.contains('Horror') == True]\n",
    "comedy_movies = movies_info[movies_info['genres'].str.contains('Comedy') == True]\n"
   ]
  },
  {
   "cell_type": "code",
   "execution_count": 520,
   "metadata": {},
   "outputs": [],
   "source": [
    "drama_count = drama_movies.groupby('startYear', as_index=False)['primaryTitle'].agg({'movieCount':'count'})\n",
    "thriller_count = thriller_movies.groupby('startYear', as_index=False)['primaryTitle'].agg({'movieCount':'count'})\n",
    "docu_count = docu_movies.groupby('startYear', as_index=False)['primaryTitle'].agg({'movieCount':'count'})\n",
    "action_count = action_movies.groupby('startYear', as_index=False)['primaryTitle'].agg({'movieCount':'count'})\n",
    "horror_count = horror_movies.groupby('startYear', as_index=False)['primaryTitle'].agg({'movieCount':'count'})\n",
    "comedy_count = comedy_movies.groupby('startYear', as_index=False)['primaryTitle'].agg({'movieCount':'count'})\n"
   ]
  },
  {
   "cell_type": "code",
   "execution_count": 551,
   "metadata": {},
   "outputs": [
    {
     "data": {
      "image/png": "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\n",
      "text/plain": [
       "<Figure size 684x468 with 1 Axes>"
      ]
     },
     "metadata": {},
     "output_type": "display_data"
    }
   ],
   "source": [
    "\n",
    "drama_count.plot(x = 'startYear', y = 'movieCount', label='Drama', legend = True, figsize = (9.5,6.5))\n",
    "plt.plot(thriller_count['startYear'], thriller_count['movieCount'], label = 'Thriller')\n",
    "plt.plot(docu_count['startYear'], docu_count['movieCount'], label = 'Documentary')\n",
    "plt.plot(action_count['startYear'], action_count['movieCount'], label = 'Action')\n",
    "plt.plot(comedy_count['startYear'], comedy_count['movieCount'], label = 'Comedy')\n",
    "plt.plot(horror_count['startYear'], horror_count['movieCount'], label = 'Horror')\n",
    "\n",
    "plt.legend()\n",
    "plt.title(\"Comparing Genres over Ten Years\",\n",
    "          ) # the `y` parameter pads the title upward\n",
    "plt.xlabel('Years')\n",
    "plt.xlim(2009,2020) # Years\n",
    "plt.ylim(0,350)\n",
    "plt.show()"
   ]
  },
  {
   "cell_type": "markdown",
   "metadata": {},
   "source": [
    "Here are some other trends:\n",
    "\n",
    "**Documentaries:** The `Documentary` genre now represents the least number of released movies. The change between this graph and the graph analyzing single genre movies makes sense because most documentaries are simply that and could not be considered another genre.\n",
    "\n",
    "**Dramas Lead:** The most released movie genre in the last 10 years are dramas, at least in part. This makes sense due to the fact that in cross-referencing IMDB I noted that a very high number of movies are listed in part as dramas. \n",
    "\n",
    "**Comedy Decline:** Since 2015 less comedies are being released, closing the gap between the comedy genre and those below it. \n",
    "\n",
    "**Steady Pattern:** With the exception of the slight decline in the comedy genre after 2015, and the brief uptick of thrillers in 2013, the relative numbers between all genres was to fairly consistent over the last ten years.\n",
    "\n",
    "**Decrease in Movies Released Since 2018:** Since 2018 there was a decrease in all genres of movies released. This can be attributed to the fact that this data was pulled at the end of 2019, and therefore some of the movies at the end of 2019 were filtered out due to their lack of `numVotes`. If this data was pulled six months later, there would likely be less of a drop after 2018."
   ]
  },
  {
   "cell_type": "markdown",
   "metadata": {},
   "source": [
    "## Genres with the Best Reviews\n",
    "\n",
    "Although the frequency of genres is good to know, it may be more helpful to know how each genre stacks up against one another when examining the quality of a movie. By quality of movie, I relied on a movie's user ratings score. To do this I determined a distribution of ratings for all movies in order to display which movies are considered above average, and which are considered below average using `percentiles`. Once determined, I displayed each genre over those intervals to determine the proportion of positive and negative ratings each genre tends to receive. This display was be done by using a kernel density plot."
   ]
  },
  {
   "cell_type": "code",
   "execution_count": 522,
   "metadata": {},
   "outputs": [
    {
     "data": {
      "text/plain": [
       "count    4377.000000\n",
       "mean        6.422458\n",
       "std         1.031499\n",
       "min         1.000000\n",
       "5%          4.700000\n",
       "25%         5.800000\n",
       "50%         6.500000\n",
       "75%         7.100000\n",
       "95%         8.000000\n",
       "max         9.300000\n",
       "Name: averageRating, dtype: float64"
      ]
     },
     "execution_count": 522,
     "metadata": {},
     "output_type": "execute_result"
    }
   ],
   "source": [
    "#using percentiles to determine movie rank\n",
    "movies_info['averageRating'].describe(percentiles = [.05, .25, .5, .75, .95])"
   ]
  },
  {
   "cell_type": "code",
   "execution_count": 523,
   "metadata": {},
   "outputs": [
    {
     "data": {
      "image/png": "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\n",
      "text/plain": [
       "<Figure size 576x396 with 1 Axes>"
      ]
     },
     "metadata": {},
     "output_type": "display_data"
    }
   ],
   "source": [
    "#Kernel density plot displaying the range of ratings\n",
    "plt.style.use('fivethirtyeight')\n",
    "\n",
    "movies_info['averageRating'].plot.kde(label = 'Average Rating', legend = True, figsize = (8,5.5))\n",
    "\n",
    "\n",
    "plt.title(\"Distribution of Average Ratings\",\n",
    "          y = 1.07) # the `y` parameter pads the title upward\n",
    "plt.xlabel('Rating')\n",
    "plt.xticks(np.arange(0, 11, 1)) \n",
    "\n",
    "plt.text(5.85, .25, 'average')\n",
    "plt.text(4.85, .25, 'bad')\n",
    "plt.text(7.2, .25, 'good')\n",
    "plt.text(3.2, .25, 'very bad')\n",
    "plt.text(8.2, .25, 'excellent')\n",
    "\n",
    "\n",
    "plt.axvline(x=6.42, ymin=0, ymax=1, color='black', ls='--', lw=1)\n",
    "plt.axvline(x=5.8, ymin=0, ymax=1, color= 'red')\n",
    "plt.axvline(x=7.1, ymin=0, ymax=1, color= 'olive')\n",
    "plt.axvline(x=4.7, ymin=0, ymax=1, color= 'darkred')\n",
    "plt.axvline(x=8, ymin=0, ymax=1, color= 'darkgreen')\n",
    "\n",
    "\n",
    "\n",
    "plt.arrow(5.4, 1008, .4, 0, color= 'black')\n",
    "\n",
    "plt.xlim(0,10, 1) # because ratings start at 0 and end at 10\n",
    "plt.show()"
   ]
  },
  {
   "cell_type": "markdown",
   "metadata": {},
   "source": [
    "The above kernel density plot shows specific categories of movies. Next, I displayed the intervals over kernel density plots for each of the common genre types."
   ]
  },
  {
   "cell_type": "code",
   "execution_count": 524,
   "metadata": {},
   "outputs": [
    {
     "data": {
      "image/png": "iVBORw0KGgoAAAANSUhEUgAAAlsAAAGhCAYAAABWJHGTAAAABHNCSVQICAgIfAhkiAAAAAlwSFlzAAALEgAACxIB0t1+/AAAADh0RVh0U29mdHdhcmUAbWF0cGxvdGxpYiB2ZXJzaW9uMy4xLjEsIGh0dHA6Ly9tYXRwbG90bGliLm9yZy8QZhcZAAAgAElEQVR4nOzdd1QU19vA8e+ysIAF1gIIKIhdFLAQCxZQYxQb9p4YYyz5WZIYA2oSo0ZFY+9GTSyJqMSuoMaCBbGFWFCwxYAiVhBQUNru+wfvrqy7IH1F7+ccz3Hv3Jl5ZrbMw7137kji4+OVCIIgCIIgCEXCQN8BCIIgCIIgvMtEsiUIgiAIglCERLIlCIIgCIJQhESyJQiCIAiCUIREsiUIgiAIglCERLIlCIIgCIJQhESyJQhCkTh58iRyuRxfX199h1Ko5HI5nTt31tv+O3fujFwu1yhTnesvvvhCT1Fl+uKLL5DL5URFRek1DkF424hkSxBy4datW0ycOJEWLVpgZ2eHhYUFNWvWpEePHqxevZrExER9hyjkkq+vL3K5XP2vXLlyVK5cmfr169OrVy9+/vlnIiMji2TfUVFRek/WCkKVTJ08eVLfoQhCiWKo7wAE4W03f/58Zs6ciUKhoHHjxvTr1w8zMzOePHnC6dOn8fb2Zvbs2dy+fVvfob5VGjduzLlz56hQoYK+Q9GpRYsWtGzZEoAXL17w6NEj/v77b44cOcKcOXMYM2YMP/74IwYGmn+Tnjt3DlNTU32EDMCqVat48eKF3vafkx9//JGvv/4aGxsbfYciCG8VkWwJQg4WLVrETz/9hK2tLb/99htNmzbVqnPq1Cm8vb31EN3brVSpUtSqVUvfYWSrZcuWTJo0Sas8KCiIMWPGsHjxYpKTk5k7d67Gcn0fU5UqVfS6/5xUqlSJSpUq6TsMQXjriG5EQcjGnTt3mDlzJkZGRmzZskVnogWZLSRHjx7VKj9x4gR9+vTBwcEBS0tLXFxc8PHx4fHjx1p1s3bPbNu2DXd3d6ytralTpw6TJ08mJSUFyEwEOnXqROXKlbGzs2PEiBHExcVpbc/JyQm5XE5KSgozZszA2dkZS0tLGjZsyM8//0xqaqrWOvv27WP48OE0atQIGxsbbG1tad26NStWrCAjIyPHmDdt2oS7uzs2Njbq1qLsxmypxhxFRUWxbt063NzcsLKyombNmowbN474+Hid5/nQoUN89NFHWFtbU7VqVQYOHMiNGzcKvWurTZs2bN++HZlMxtq1awkLC9NYrqsbMCEhgTlz5tC8eXOqVKmCra0tzs7ODB48WB3Xpk2bcHFxATIT9KxdmapzlLWbMSYmhlGjRlGrVi3Kly/Pvn37NM5fdm7cuMGAAQOoWrUqNjY2eHp6cuzYMa16qu7U7M7b68fp5OTE5s2bAejatatG/Co5jdnavXs3nTt3xs7ODisrK5o0acKMGTN49uyZVt38fEYuXbrEsGHDcHJywsrKimrVquHm5sY333xDQkJCtudLEIqDaNkShGxs2rSJtLQ0evTogZOTU451jY2NNV6vW7eO8ePHY2pqipeXF5UqVeLs2bP88ssvBAQEsH//fp0tFKtXr1YnVG5ubhw4cIAVK1YQFxeHp6cnI0eOpGPHjgwZMoTjx4/j7+9PXFwc27Zt0xnXp59+ysWLF+natSuGhoYEBAQwa9YsLl68iJ+fn0bdadOmYWBggKurKzY2NiQkJHD8+HEmT57MP//8w9q1a3XuY+nSpZw4cQJPT088PDzUieGb/Pjjjxw9epSOHTvSpk0bTp48ycaNG7l16xaBgYEadf/8809GjBiBsbEx3bt3x9ramvPnz9O+fXvq16+fq/3lRZ06dejevTv+/v5s27Ytx/dfqVTSu3dvzp8/T+PGjRk8eDAymYz79+8TEhLC8ePHadWqFU5OTowaNYpVq1ZRpUoVBg4cqN6GKkFVefr0KR999BFmZmZ0796d9PR0ypUr98a4o6KiaN++PfXq1WPo0KHExMSwa9cuevbsybp16/Dy8sr3Ofniiy/w8/PjypUrDBgwADs7u1yvO336dBYsWEC5cuXo2bMn5ubmBAUFMW/ePAIDAzlw4ABmZmZa6+X2M3L58mU++ugjJBIJHTt2xMHBgefPn3Pnzh38/PwYPXo05ubm+T52QSgokWwJQjZOnz4NZLZ05MWdO3fw8fGhVKlSHD58mLp166qXzZgxg3nz5vHNN9/g7++vte7Jkyc5ceIE1apVA2DixIk0btyYrVu38tdffxEQEEDjxo0BSE1NxcPDg8OHD3P58mWcnZ21tnfjxg1Onz6tbn344Ycf6Ny5M4GBgWzbto3evXur6/r7++Pg4KCxvkKhYNSoUfj7+zNy5Eg++OADrX0EBwfz119/6dx/TkJDQzl9+jS2trYApKen07VrV0JCQvj7779xdXUFIDExkW+++QapVMqBAwdo0KCBehs//fQT8+fPz9N+c6tly5b4+/vz999/51jv6tWrnD9/Hk9PT3XLj4pSqeTp06cAODs7Y25uzqpVq7Czs9PZhakSHh5Ov379WL58OYaGuf+ZDgkJYezYsfz000/qsuHDh9OhQwe++uor2rVrR5kyZXK9vaz+97//ERYWxpUrVxg4cCCtWrXK1Xrnzp1jwYIF2NjYcOTIEaytrQGYOnUqX3zxBVu2bGH69OnMmzdPa93cfka2bNlCSkoKv//+O127dtXYxrNnz5DJZPk6ZkEoLKIbURCy8fDhQ4A8D/b19/cnNTWVYcOGaSRaAN9++y3W1tb89ddfxMTEaK07atQodaIFYG5uTseOHVEqlXh6eqoTLQCZTEb37t0BuHLlis5Yvv32W41uHlNTU77//nsA/vjjD426rydaAAYGBvzvf/8D0NlVCvDJJ5/kOdEC8Pb2Vl9EAQwNDRk8eDAA//zzj7o8MDCQxMREevXqpZFoAYwfPz7HLrWCUCUFT548ybGeagB9qVKltJZJJBLKly+f533LZDJmzJiRp0QLwMzMTGv8oKurKz169ODp06daLYbFQfU5Gz9+vPqcQua5mT59OqampmzevJm0tDStdXP7GcnpPShbtqxWy7MgFDeRbAlCNpRKJZB5UciLS5cuAdC6dWutZcbGxjRr1gzI7Pp4na6kRTXgWFdXlmqZrsQNMseTvc7NzQ2JRKK1/7i4OKZOnYqbmxu2trbq8TgeHh4A3L9/X+c+VK0LefV64gSoL6xZx+So4mzevLlW/dKlSxdJN2JWb3r/a9euTYMGDdi+fTvt27dn4cKFhISE8PLly3zvUzW9SF65uLhQtmxZrXLV50DXZ66o5fR9sLS0xNHRkaSkJG7evKm1PLefkV69emFoaMigQYMYMWIEf/zxBzdu3CisQxCEAhPdiIKQjUqVKnHjxg3u3buXp/VUc25ZWlrqXG5lZaVRLytdF0qpVPrGZbpaBbKLwcTEhLJly2rsPz4+njZt2hAVFUXjxo3p378/5cqVQyqVkpCQwKpVq7Idi5Xdcb6JrjE6quPJOiBfNYA6u+Qjv/t/E1Vy+aapK6RSKbt27WL+/Pns2rWLadOmAZmtLD169GD69Ol5nv4iv8eU3Xqqc6eP+eAK8n3I7WekYcOGHDx4kHnz5rFv3z51F72dnR1fffUVn332WcEOQhAKSLRsCUI2VC0px48fz9N6qgvEo0ePdC5XdU/qupAUNl0xvHz5kmfPnmns//fffycqKgofHx+OHDnC/Pnz+f7775k0aRI9e/bMcR95bfnLK1WSqesuTsj+PBdUcHAwgM5xaq+Ty+X89NNPhIWFcfHiRVasWIGLiwubNm1i6NChed53fs9pdudCde6yvueqrjddd5pmd0dofhTX96Fx48Zs3ryZyMhIDh8+zOTJk3nx4gXjx49ny5YtBdq2IBSUSLYEIRuDBg3CyMiIPXv2EB4enmPdrK0+qtv7dd1Sn5KSwtmzZzXqFaVTp05plYWEhKBUKjW6LFUTsnbr1i1X2yhOqjhVNyxklZSUlO14tYK4du0au3btQiKRaNxEkBuqaSn27t1L5cqVOXHihHrqAVWrjEKhKPSYIbPLTtdUCqr3MOt7rhrrFh0drVX/woULOrefn/hz+j48efKEiIgISpcuTc2aNXO9zZzIZDJcXV3x9vbml19+AVBPmyEI+iKSLUHIhp2dHd999x1paWn07duX8+fP66x35swZPvzwQ/Xrvn37IpPJ+PXXX7XGjSxYsICYmBj1fFFFbe7cuRqtFC9evGDGjBlAZjKporqN//UL4qVLl1i4cGGRx5mTTp06YWZmxo4dO7h48aLGsgULFhRqKwxktmT27t2b1NRUhg8f/sYxYZGRkTqT8efPn5OUlIShoaF6oHu5cuWQSCTcvXu3UGNWSUxM5Oeff9Yo+/vvv9m5cydyuZxOnTqpy1Utdn/88YdGN3RsbCw//PCDzu2rukPzEr9qQPuCBQvUrViQOSZyypQpJCcnM2DAAIyMjHK9zdeFhITo/Byo9mdiYpLvbQtCYRBjtgQhB1999RXp6enMmjWL9u3b4+rqSqNGjShbtiyxsbGcO3eO8PBwjTE5dnZ2zJkzh/Hjx9OmTRu6d++OlZUVZ8+e5dSpU9ja2hbZdAWvq127Ns2bN6dbt27qebYiIyPp1KmTRotN//79WbJkCZMnTyY4OJjq1avz77//cvDgQbp27cqOHTuKJV5dzMzMmD9/PiNGjMDT01Njnq3Lly/TokULTp06pfVYnTcJDg5WTyaakpLCw4cPOX/+PLdu3UIqlTJu3DimTp36xu1cuXKFwYMH4+zsjKOjI9bW1sTHx3Pw4EGePn3K6NGjKV26NJA5oL9Zs2acPn2afv360aBBAwwNDXFzc9N5M0Neubm5sXHjRkJDQ2nWrBkxMTHs3LkTpVLJ4sWLNaZ9aNSoEe7u7hw/fhwPDw88PDx4+vQpf/31F+7u7jpbDNu2bcvixYuZPn06ERER6taxb7/9NtuYmjRpwvjx41mwYAHNmzene/fumJmZERQUxKVLl3B0dMw2ucutZcuWcfToUVq2bEnVqlUpW7Yst27d4uDBg5iamur9Ad2CIJItQXiDCRMm0L17d9auXcuJEyfYsmULycnJyOVyHB0dmTNnjsYElQBDhw6lWrVqLF26lICAAJKSkrC2tmbEiBFMmDChyAZ1v27dunX8/PPP+Pv78/DhQ6ytrZk0aRJff/21xrgga2tr9u/fz9SpUzlz5gxHjx6lZs2azJ8/H3d3d70mWwB9+vRBLpczd+5cdu3ahUwmw83NjUOHDqkv1Hkd83Pq1ClOnTqFRCKhVKlSyOVyatWqRZ8+fejXrx9Vq1bN1XYaNmzIN998Q3BwMEFBQTx9+pTy5ctTq1YtZs2apZ6eQ2XVqlV89913hISEcOjQIRQKBT4+PoWSbNnb27No0SJ+/PFHfv31V1JTU2nUqBE+Pj7qu0qz+v3335k2bRr79u1jzZo12NnZMXbsWMaMGcP27du16ru7u/Pzzz+zbt061q5dq+4+zynZApgyZQrOzs6sXr2aP//8k5SUFOzt7ZkwYQJffvmlzps/8uLzzz+nXLlyhIaGcu7cOdLS0rC2tqZ///6MGTNG749YEgRJfHy8Ut9BCIJQuJycnLh7926hd7G9bTIyMnBxceH+/fvcvXtX5zxLgiAI+ibGbAmC8NZLSEggOTlZo0ypVDJ37lyio6Np3769SLQEQXhriW5EQRDeehcuXOCTTz6hTZs22NnZkZSUxPnz5wkLC6N8+fLMnDlT3yEKgiBkSyRbgiC89apVq0anTp04d+4cR44cITU1FSsrKz799FPGjx+fp4ciC4IgFDcxZksQBEEQBKEIiTFbgiAIgiAIRUgkW4IgCIIgCEVIJFtCobpw4QI9evSgRo0ayOVynJyc9B2S8B4YMWIEcrk8zw8NFwRBKA4i2RIKTWJiIn379iUkJIROnTrh4+PzVszc3KpVK+RyOU2bNtV3KO+cjh07IpfLNf7Z2Njg5ubG1KlTefr0aaHsR5VM6Xo+4rvIzc0NuVyOm5ubvkMpEZRKJYGBgXz22Wc4OztjY2ODlZUVjo6O9O7dm1WrVhEbG6vvMIX3mLgbUSg0//zzD48fP2bo0KF6f56eSmhoKGFhYUgkEq5fv05ISIi4gBWBQYMGUblyZZRKJY8ePeLAgQMsWrSI3bt3ExQUpH6sS1GZPn06EyZMwMrKqkj3UxzOnj1LeHg4EomE8PBwzp07R5MmTfQd1lvr4cOHDB06lJCQEEqXLk3Lli2pXr06JiYmPHz4kHPnzjFx4kR++uknzpw5Q5UqVfQdsvAeEsmWUGju378PUGyPosmNdevWAfDNN98wb9481q9fL5KtIjB48GCaN2+ufv38+XPatWvH9evXWbt2LRMmTCjS/VeqVIlKlSoV6T6Ky+uf2XXr1olkKxtJSUn06tWLK1eu0KtXL+bNm0e5cuW06oWGhjJ9+nRevHihhygFQXQjCoUgKioKuVyu7jKcM2eOuktp06ZN6noPHz7k22+/xcXFBUtLSxwcHOjbty/BwcFa2zx58qR6m9euXWPw4MFUq1YNuVzO5cuXcxVXYmIiO3fupHLlykyaNAkHBwf27Nmjs2urUaNGWFhYZNvVsHr1auRyObNnz9Yov3//Pj4+PjRq1AgrKyvs7e3p1asXJ06c0NrGxo0b1c/3CwkJoXv37tjZ2SGXy3n+/DkAe/bs4fPPP6dRo0bY2Nhga2uLu7s7q1atQqFQ6Izt+vXrDBo0CDs7O2xtbenQoQOHDh3S2N/r4uPjmTFjBs2aNcPa2poqVarg6enJ7t2733hec6NMmTL07dsXyGzxfN3x48cZM2YMTZo0oUqVKlhbW9O8eXNmz57Ny5cvNeo6Ojri7+8PgKenp/qzlfXh37rGbN2+fRu5XI6XlxdPnjxh7Nix1KpVC0tLS5o3b67x2czq5cuXzJgxAycnJywtLXFxcWHmzJnq52E2bNhQq/6yZcto1aoV9vb2WFtbU79+ffr27cu+ffvydN7i4+PZvXs3dnZ2TJo0CTs7O3bt2pXtY5dU3bjR0dGsWrWKpk2bYmVlhZOTEwsXLkSpzJzZx9/fHw8PD6ytralRowbe3t7q5xq+7tixY/Tq1YuqVatiaWlJgwYNmDRpEk+ePNGqm7V7d8eOHbRp0wZra2scHBwYNmwYMTExOvdx7tw5vLy8sLW1xc7Oju7duxMaGsqMGTOQy+Vs3bo1V+dr6dKlXLlyhZYtW7JmzRqdiRZA48aN2b17N9WqVdNalt/v8KVLl+jduzd2dnbY2NjQuXNnzp07p7VO1mMKCAigQ4cOVK5cmerVq2vUu3DhAkOHDqVOnTpYWFhQp04dRo0aRWRkpM6YJ0+ejKurKzY2NtjZ2dGoUSOGDx/O1atXc3XuhOIlWraEAjM3N8fHx4ewsDACAwNp0aIFLVu2BFAPkI+KisLT05OYmBhatGhBz549efDgAbt27eLw4cMsWrSITz75RGvb//33Hx999BG1a9emf//+JCQk5PqxLP7+/iQlJfHFF18glUoZOHAgM2fOxM/Pj9GjR2vUHTBgADNnzsTf31/nOLPNmzcjkUjo37+/uuzy5cv07NmT2NhY2rVrR6dOnYiNjSUgIIDu3buzbNkyrQdUA5w+fZo5c+bQqlUrhgwZwr179zAwyPy758cff8TY2Fj9I5qQkMCxY8eYOHEiFy5c4JdfftHYVnh4OB07diQxMZEOHTpQr149IiMjGThwIB9++KHO8xIdHU3Xrl3577//cHNzo23btiQlJXHw4EGGDBnCd99998YHC+eFkZGRVtmCBQuIjIzkgw8+oGPHjrx48YKQkBBmz55NcHAwu3fvRiqVAvC///0PPz8/wsPD1d2VgPqcvcnTp0/Vj/Pp3r07L1++ZNeuXYwePRqpVKrxnioUCgYMGEBQUBDVq1dn+PDhpKWlsWnTJsLDw3Vuf/jw4ezduxdHR0f69+9PqVKliImJITQ0lICAALp06ZLrc7VlyxZevHjBwIEDkUqlDBgwgDlz5rB161ZGjhyZ7XqTJk3i7NmzfPTRR7Ru3Zrdu3czbdo00tLSMDY2Zv78+Xh6etK8eXP279/P6tWr1Y87ymrNmjV4e3tTqlQpvLy8sLKy4syZM6xcuZJ9+/Zx4MABbG1ttfb/yy+/cODAATp16kTLli05f/4827dvJywsjODgYGQymbru8ePH6dOnDxkZGXTr1g0HBweuXr1K586d1b8bubVx40YAvL29c/V5MDTUvOTl9zscGhrK/Pnzad68OZ988gl3795lz549eHl5cfLkSWrUqKG1zrZt2zh69CgdOnRg2LBhPHr0SL1s8+bNjB07FmNjYzw9PbGxseHff//F39+fAwcOEBAQQL169YDMVuOPPvqIu3fv4uHhQceOHQG4d+8eR48excPDQ11XeHuISU2FQrNp0yZGjx6Nj48PkyZN0ljWs2dPjh49ysSJE5k4caK6/OrVq3z44YcoFApCQ0PVF9KTJ0/StWtXAMaPH8+UKVPyHE/Lli25cuUKFy5cwMHBgejoaJydnalRo4bWX6CqZfXq1ePkyZMay65du0azZs1o2bKluqUiPT2dJk2aEBMTw86dOzW60GJiYmjbti2JiYlcvnyZihUrApkXhnHjxgGZf5F//PHHWjH/999/ODg4aJRlZGQwYsQItm/fTlBQkEbLiqenJ6dPn2b+/PkMGzZMXX7o0CH69OkDoJU8de7cmZCQENatW0f37t3V5fHx8XTu3Jnw8HBOnTqFo6PjG89xx44dOXPmDPv379c4B8nJybRt25Zr164xe/ZsRo0apbFeZGQk9vb2SCQSjfIpU6awZMkSNmzYgJeXl7p8xIgR+Pv7a+3n9eVXr15VJwO3b9+mUaNGAHz++ef8/PPP6gvy1atXadWqFXXq1CEkJES9HdV71Lx5c3bv3q1OEuLj4/nwww+5desWDg4OXLhwAYC4uDiqV69Ow4YNOXTokDpBVImNjdVogXsTNzc3IiIiuHjxIvb29kRFRdGgQQPq1q2rEaeK6vzXqFGD/fv3Y2FhoT6/rq6uyGQyzMzMOHDgAFWrVlUfS8OGDUlOTiYiIoLy5cur1/nggw8wMTHh8OHD1K5dW72fadOmsXDhQjw9Pdm8ebPWeTczM+Pw4cPUqlULyBywPnToUHbt2qXxXmZkZNCwYUPu3LnDn3/+Sfv27dXb+vXXX/nmm2+AzOStX79+OZ6ryMhIGjRogEwmIzo6WiOhy42CfofXrl1L79691eusWbOGb7/9luHDh2sksTNmzGDevHkYGBiwY8cOPDw8NOK4efMmLVq0oEqVKgQEBGh0hx8/fpwePXrQoEEDjh49CmS2fn/yySeMHj1a6zFV6enpPH/+vMjHSAp5J7oRhSKn+ovLxsaG8ePHayyrV68en332GSkpKTq7DiwtLfHx8cnzPv/++2+uXLmCm5ubOnmpXLky7u7u3Lhxg1OnTmnUr1y5Mq1btyYsLIwrV65oLPPz8wPQ+At3//793L59mxEjRmhd/G1sbBgzZgzJycns3btXK7YGDRroTLQArUQLQCqVqlvbVD+4kHmxOX36NNWqVWPo0KEa67Rv355WrVppbevSpUucOnUKLy8vjUQLQC6X4+Pjg1Kp5M8//9QZX3b++OMPfH19mTVrFl9//TWNGzfm2rVrtG7dmk8//VSrftWqVbUSLYAxY8ZoHWdBlS1blmnTpmm0fNSrV48mTZoQERGhMY5ny5YtAHz//fcaF2+5XK5OBLIyMDBAqVRibGyss2UlL4nWmTNnCA8PV3dHAtjb29OyZUvCw8M5e/Zstut6e3urEy3IPL9NmjQhOTmZ4cOHqxMt1bF06NCBlJQUbty4oXHsaWlpDB8+XCPRUm3f0tKSAwcOaLTIqIwePVqdaAFIJBL1+65KTAFOnTrFnTt3aNWqlUaiBTB06FCd3XzZefjwIQAVK1bUmWjt27cPX19fjX/Hjx9XLy/Id7hVq1YaiRbAJ598goGBgcbxZtWlSxetRAsyk7bU1FR8fX21xh26u7vz0Ucf8c8//3Dz5k3gVYuuqamp1rYMDQ1FovWWEt2IQpFTjbFq1qyZzh9FDw8Pli9fzqVLl7SW1a9fH2Nj4zzvUzXIeNCgQRrlgwYNIigoiA0bNtCiRQuNZQMHDuTYsWP4+fkxa9YsIPMv8T///JMyZcpotLSoLnx37tzB19dXa/+3bt0C0LiYqbi6umYbd2xsLIsXL+bw4cNERUWRlJSksVx1EwK8Oq8ffPCBzgt906ZNtVrpVHEnJCTojPvx48fZxp0TXeOfOnTogJ+fn1ZrD2R2haxcuZKAgAD+/fdfnj9/rh5fBJrHWVA1atSgdOnSWuU2NjYolUoSEhLUF66wsDAMDAx0ThPSrFkzrTJV4nLw4EFatmxJly5daN68Oa6urpQpUyZPceb0mT158iTr16/PdvoSZ2dnrTLVhVvXXHeqZVnHVKm+f61bt9aqb2pqStOmTdm7dy+XL1/W6qJu0KCB1jo2NjYAGuPNsv4WvM7AwABXV1du376ttUwX1edFV9IOEBAQoNEKBzBhwgTc3d2Bgn2HdR2vsbExFStWzHZ8XXbfe1UcwcHBhIaGai1XjSO9ceMGNWvWpFWrVtjY2DB//nz++ecf2rdvT9OmTXF2dtbqJhXeHuKdEYpcYmIikP1diqrb9VX1ssrPnY2qgfGlS5fWSJAg869Lc3Nzdu/ezezZs9VdKABdu3bFzMyMP//8k+nTp2NoaEhQUBD3799n4MCBGhfsuLg4AHbt2pVjLK8nSzkd09OnT/Hw8ODu3bu4urrSv39/ypUrh1Qq5enTp6xevVpjUPOzZ89y3J6uclXcQUFBBAUF5SnunKi699LS0rh16xZTp07l4MGDfPfdd1o3FaSmptKlSxcuXryIo6MjPXv2pGLFihgaGqJQKJg7d262g7fzw8zMTGe56sKUkZGhLnv27BkVKlTQedHK2nKU1fr161myZAnbtm1jzpw5AMhkMjw9PZkxY0auphqIj49nz549lC1bVt19rtKtWze+/fZbdu3aha+vr86Wi7Jly2Z7fDktS7OqX9sAACAASURBVEtLU5e96XuqStB0fU91nePszm9O+8jL910Vz+PHj0lLS9MaG7hy5UpWrlwJaHb/qRTkO5zTZyrr8WaV3bGp4liyZEmu4jA3N+fw4cPMnj2b/fv3q1uB5XI5H3/8MZMnT9bZ6iXol0i2hCKn+mHS1f0Ar7oDdP2AZfdXa062bt1KcnIygHoMmC5+fn7qbivI/Ou9R48ebNiwgb/++otOnTrp7ELMGqufnx+dOnXKU3zZHdP69eu5e/euzgHqISEhrF69WqNMdRHN7rzqKlfFrWscVWEwMjKibt26/P777+q7KNu3b0+7du3Udfbu3cvFixf5+OOPWbp0qcb60dHROu+eLC5ly5bl6dOnpKenayVcqla/15mamuLj44OPjw8xMTGcPn0af39/du/ezfXr1wkODn5ji8PmzZvV3ZmqFiFdtmzZUiTvG2h+T3WN13vw4IFGvfzIz2c2O1WrVsXa2pr79+9z+vRpnS1yOSnIdzg/svveq+K4c+dOrs+tjY0NS5YsQalUqj9jv/32G0uXLuXZs2csWrSo0OIWCocYsyUUOVUXx9mzZ0lNTdVarhpHoatpPj82bNgAQPfu3fn444+1/qmmJFDdyZSVKqnavHkzCQkJBAYGYm9vr9XlqJr3qDBnNFd1n3Tr1k1r2etjzODVeT1//rzOaSF0jfEpirh1kclk6hat7777TiO+vB4nvBqnkl2rQWFxcnJCoVDoPHdnzpx54/o2Njb06tWLrVu3qsetqbqjcqL6LPbs2VPnZ1Z1s4Pqs10UXFxcALS6niFzeotz584hkUh0dlnmlmpdXedSoVDw999/52l7qjuY582bp9ENnRvF9V0oyjgkEgl16tTh888/Z//+/RgZGeV5uhGheIhkSyhytra2tGvXjnv37rF48WKNZREREfz2228YGxurk6CCOH/+PFeuXMHBwYF169axdOlSrX+rV6/GxcWFGzduaM3x1bRpU2rWrMnBgwdZu3YtL1++ZMCAAVp/lXbp0gV7e3vWrl3LwYMHdcZy8eLFbMdv6GJnZwdoX+wuXLigdd4g8y/75s2bc/v2bfV4H5VDhw7pvGi6urrSrFkz9u7dy++//67zAnXjxg2io6NzHXd23N3dcXd359q1axo3P2R3nP/99x/Tp0/XuS3VQPPCiCsnqmkgZsyYofGHQUJCAvPnz9eq/+jRI50JwsuXL0lISADAxMQkx32ePn2aiIgIatasqW6deP3fmjVrqFevHhEREblK+vKjf//+GBkZsWbNGq0Ecd68eTx8+JCOHTsWaNLiFi1aYGdnx8mTJzl06JDGsnXr1uV6vJbK2LFjcXR05MSJE4wcOTLbx0Op3ousiuI7nB8jRozAyMiIyZMnqwfBZ5Wenq7xXbl69SpRUVFa9eLi4khPT3/j503QD9GNKBSLBQsW0LFjR2bOnMmJEyf44IMP1PNsvXjxgsWLF+fY5Zdb69evB2DIkCE5dkEOGTKE8ePHs2HDBq25fQYMGMD06dOZPXu21txaKjKZjE2bNtGrVy/69etHkyZNcHZ2xtTUlJiYGC5dusStW7cICQnJ9d1BAwcOZNmyZfj4+HD8+HGqVavGrVu3OHjwIN26dWPHjh1a68yfP5+OHTvyzTff8Ndff1G/fn0iIyPZs2cPnp6e7N+/X2vw/K+//oqXlxdjx45l1apVuLq6Uq5cOWJiYoiIiCAsLIwtW7YUyvvxww8/cPz4cXx9fenVqxcymYxOnTphb2/PkiVLuHr1KvXr1+fu3bscPHiQDh066DzOtm3bsnz5cqZOncqVK1cwNzfHwMBA5x2CBTF48GB27txJUFAQzZs3x9PTk7S0NPbu3UvDhg25deuWxvm8d+8eH374IbVq1aJBgwbY2NiQlJTEkSNHuH37Nj169NC4E1AX1WdW1zxzWQ0ZMgRvb2/Wr1+vc4B5QVWtWpVZs2bh7e2Nh4cH3bt3x8LCgrNnzxISEkLlypWZN29egfYhlUpZunQpffr0YcCAAep5tq5cucLx48f58MMPOXz4cK7nUCtTpgzbt29n6NCh+Pv7ExAQQMuWLalZsyYymYxHjx5x6dIlwsLCKFOmjEarXFF8h/OjTp06LFu2jLFjx9K8eXPatWtHjRo1SE9PJzo6mrNnz6JQKNSJ6NGjR5kyZQpNmjShVq1aWFhY8ODBAwIDA1EqlXz11VdFFquQf6JlSygW9vb2HDt2jOHDhxMZGcnSpUvVE6Cq5o0pqISEBHbu3ImhoaHOiQiz6t27N6VLl2bPnj3qAaoq/fv3x8DAgLS0NFq0aJHtxbJ+/fqcOnWK8ePH8/z5c/z8/Pj1118JDQ2lZs2aLF26NE+3stva2rJ//34+/PBDQkJCWLNmDffu3WPhwoV8//33OtdxdHRUjy87ffo0K1eu5O7du/j5+am7J14fB2Jra8uxY8eYMmUKRkZGbN++nZUrV3L69GksLCz4+eefC+1i7urqSseOHblz5446qShbtiz79u2jd+/eXL16lV9++YXw8HAmTpyoHtD8unbt2qkHh69Zs4aZM2eq7xgtTAYGBvj5+TFhwgRSU1NZvXo1+/fvZ9CgQepu0azn08HBgUmTJmFlZcXJkydZsWIFu3btwtLSUt0ilRPVjPEymYwBAwbkWLdv376YmprmOKN8QQ0fPpydO3eq7zxctmwZ9+7dY9SoURw7dkznhKZ55e7uzr59+2jRogUHDx5U3/gREBCgvpkgL+PCrK2tCQwM5Pfff6d9+/aEh4ezdu1ali9fzpEjR7C0tGTWrFlcunRJq+u6sL/D+dWvXz+OHTtGv379iIiIYM2aNWzevJlbt27RoUMHVq1apa774YcfMmrUKFJSUggMDGTZsmWcOHFCPTfc559/XuTxCnknJjUVhHfU0KFD2blzJ7t371bf7i7kn2qi2H79+mnN5C8Ujnbt2hEaGsrFixff2CIoCCWJaNkShBJMoVDovIPr6NGj7N69W/0cQCH3VHfdZRUbG8u0adMAtKYTEfImOTlZZ8vcxo0bCQ0NxcnJSSRawjtHjNkShBIsNTUVR0dHWrduTc2aNZFKpURERBAUFIShoSHz58/P82NM3neTJ0/m6tWrfPDBB1SsWJF79+5x6NAh4uPj6dq1a7FME/Aui46OpnXr1rRp0wYHBwfS0tK4fPkyZ8+epVSpUixYsEDfIQpCoRPJliCUYEZGRgwbNozg4GD++ecfnj9/Trly5ejcuTNffvmletyWkHvdunUjLi6OQ4cO8fTpU2QyGTVr1qR///5iPEwhsLS0pH///pw+fZpTp07x4sULLCws6Nu3L+PHj6dOnTr6DlEQCp0YsyUIgiAIglCExJgtQRAEQRCEIiSSLUEQBEEQhCIkki1BEARBEIQiJJKtEkbX4xxKunfxmODdPK637ZieRUWxRi7nmY7Hl+TW23ZM2ZFERWEulyPJxbEW5TH5+voW2bbf5PXjSkiIYtEiOQkJ+X//9SkqLgr5BDlRcSUz/uyUlO9UcRLJliAIgpBrkyZN0ncIglDiiGRLEARByDUxNYMg5J1ItgRBEIRc0zXDviAIORPJliAIgiAIQhHS+wzya9euZcmSJTx8+JA6derg6+uLm5tbtvVTU1OZO3cuW7du5cGDB1haWjJmzBhGjRqV532npKTw8uXLgoRf7ExMTEhISNB3GIWqJB6TgYEBZcqUQSKR6DsUQShWLi4u+g5BEEocvSZbO3bsYOLEicyfP59mzZqxdu1a+vTpw5kzZ6hSpYrOdYYNG8a9e/dYvHgx1apV4/Hjx7x48SLP+05KSgLAzMysRF0wjY2NMTEx0XcYhaokHlNqairPnz+nbNmy+g5FEIrV8ePH9R2CIJQ4eu1GXL58OQMHDmTIkCHUrl2buXPnYmVlxW+//aaz/tGjRzl+/Dh//vknbdq0wd7eHldXV1q1apXnfaenp1O6dOkSlWgJbw+ZTIZCodB3GIJQ7L788kt9hyAIJY7ekq3U1FQuXrxI27ZtNcrbtm3L2bNnda4TEBBAw4YNWb58OY6OjjRq1Ahvb2+eP39eHCELgiC89zZs2KDvEAShxNFbN2JsbCwZGRlYWFholFtYWPDo0SOd60RGRnLmzBmMjY3ZuHEjCQkJeHt78+DBAzZu3JjtvnRNsGZiYoKxsXHBDkJPSto4s9woiceUmJiY7WdV5V2c3O9tOqYXMTEA/BcZiWlqar638zYdU3ZkMTE4k/k7mJqLYy3KY9Ln+cq67+TkzPc/MjKSUqXy//7rS8yzV/Gnxpa8+HNSEr5TuVWzZs0Cb0PvA+Rf78ZTKpXZdu0pFAokEglr1qzB3NwcgLlz59KzZ08ePXqEpaWlzvV0naiEhIQSN04IMpOSkhh3TkrqMZmZmWU7thAyf2wK40v6NnnbjumZTMZZwKFqVcra2+drG2/bMWVHIpMBULVqVZRvONaiPiZ9na/Xjysh4dU5MTfP3/ufGxnPbpN+bx+KxAiUGSkYmNogtWyFYaV2SAzyfxmVxb2K37580cVf3ErKd6o46S3ZqlChAlKpVKtl4MmTJ1qtXSpWVlZYW1urEy2AWrVqARAdHZ1tsiUIgiAUjoiICH2HUGyUygzS/l1H2p3tgFJdnvEihoy4v0m7ux2TepMxKFNVbzEKJYPexmzJZDIaNGhAUFCQRnlQUBBNmzbVuU6zZs148OCBxhitf//9FyDHFoZ3ybhx45DL5cjlcipWrEiNGjXo0qULa9asIS0tTd/hCYLwjrt48aK+QygWSkUGKVd8SbuzjayJlkadpDu8CB1PRkJ48QYnlDh6vRtx9OjR+Pn5sXHjRq5fv46Pjw8PHjxg6NChAIwcOZKRI0eq6/fu3Zvy5cszevRoIiIiOHPmDBMnTsTLyyvb1rB3kYeHB9evX+fy5cvs2LGDjh074uvri6enp3pKi9flZoyHIAjCmwwYMEDfIRSL1Fu/kPE4+M0VM5J5eWkKiuR7RR+UUGLpdcxWz549iYuLY+7cuTx8+JC6devi7++PnZ0dkNk1mFWZMmXYtWsX3t7etG3bFrlcTufOnfnxxx8LJR75uuL9ssQPtc3XesbGxlhZWQFgY2ODs7Mzbdu2xd3dncWLFzN58mScnJwYOHAg0dHR7N27lzZt2rBhwwamTp3Kvn37iI6OxsLCgh49ejB58mT1mClfX1/27NnD2LFj8fX1JS4uDi8vLxYtWsTGjRtZuHAhycnJDBgwgBkzZmBgkJmvb926lVWrVnHz5k1MTExo0aIFvr6+2NjYFM7JEgRBKCbpsedJj96jUSYxrois5kgkpjak391B+oMjWVZ4TspVX0waLyrQGC7h3aX3T8Xnn3/O559/rnNZQECAVlnNmjXZuXNnUYdV4jg6OtKuXTv27t3L5MmTAVixYgUTJkzg2LFjKJWZzeClSpVi2bJlWFtbc/36dcaPH49MJuP7779Xb+vOnTsEBgaydetW7t+/zyeffKK+AWHHjh3cuHGDoUOH0rRpU7y8vIDMlrNJkyZRq1YtYmNj+fHHHxk2bBj79+8v/pMhCIKQT8q0Z6RGLNQokxhbYtJ4PgYmmT0oUsdvkZhYkRbpp66jeHaLtDvbkFXtX6zxCiWD3pMtofDUqVNHY3ZnNzc3rQkIvb291f+3t7dn/PjxLF26VCPZysjIYPny5Zibm6uTuFOnThEREYFMJqN27do0bdqU4OBgdbL18ccfq9evWrUqCxYsoEmTJty7dw9b2/y14AmC8PZZtGiRvkMoUqn//Y4yNS5LiQHGTt+pEy0VI4ePUSTd0ehqTPtvE4YWLTAo/X6MIRZyTyRb75DXp81o2LChVp3du3ezcuVKbt++TVJSEhkZGWRkZGjUqVy5ssYdn5aWltSoUQPZ/996rip7/Pix+vXFixeZM2cOYWFhxMfHq1vSoqOjRbIlCO+QTz/9VN8hFBnFi4ek3wvUKDOy74vUrLZWXYlEgnHtMSTHh0Ha/z/bVZlG6u31mDj9UBzhCiWISLayyO8YqrfFtWvXqFq1qvp16dKlNZafP3+ezz77DB8fH2bNmoW5uTmBgYH88IPmD4ORkZHGa4lEgqGhoVaZKklLSkqiV69eeHh48Msvv2BhYUFsbCyenp5iYL4gvGPkcjnx8fH6DqNIpEX6gTJd/VpiYoWRw8Bs60tkcoxrjiIlfI66LOPxKTISbyI1E/NMCa/o9W5EofCEh4dz5MgRunXrlm2dM2fOYG1tjbe3N40aNaJ69ercvXu3wPu+efMmsbGx/PDDD7Ro0YJatWpptHoJgiC87RQvHpD+4JBGmZHDICQGsmzWyCS18sCgrGZilXZbPNJI0CSSrRIoJSWFhw8fcv/+fcLCwli2bBldunShQYMGjB07Ntv1atSowf379/H39ycyMpJff/2V7du3FzieypUrY2xszJo1a4iMjOTgwYPMmjWrwNsVBEEoLun39oHy1cPlJaUqY2jV7o3rSSQSjKoN0SjLiPubjGe3Cz1GoeQSyVYJdOzYMWrXrk39+vXx8vJi//79+Pj4EBgYqNV1mJWnpyfjxo1j0qRJtGjRgqCgIPWdiwVRsWJFVq5cSUBAAE2bNmXOnDnMnDmzwNsVBOHt06FDB32HUOiUGS9JizmgUWZk1weJgTRX60vLN8bA3FGjLD16V6HFJ5R8kvj4eN1T477jEhISNAaBlxQl9TmCOSmpx/Smz9C7+Hywt+2YnkVFscXFhf6XLr37z0aMisLMxYXES5f0/mxEfdF+NmIU69a5MHTopQI9GzEt5iCp17JM92BYllIt/kAiNc71NtIfnyIl7KdXBQZGlHL7A4ks+9+IqLgoXGa5cGnyJfFsxHecaNkSBEEQcq1fv376DqHQpd/TnNPRyKZDnhItAGnFZkhMsjyfV5FGWoyYZ1DIJJItQRAEIdcOHjyo7xAKlSLpLopnN7KUSDC07ZLn7UgkUowqa96glB5zUD0NjvB+E8mWIAiC8N5Kfxik8dpA7oyBaaV8bcvQugMYvJo6R/nyPoqEqwWKT3g3iGRLEARBeC8plUrSH2gmW4aV2uZ7exKjskgrNtcoS79/KJvawvtEJFuCIAhCrr1LE5oqEiNQvrz/qsDACEPLlgXapqF1e43X6Y9Oosx4WaBtCiWfSLYEQRCEXFu/fr2+Qyg06Y9OaryWVmiKxDD76XNyQ1quERJZuVcFGclkPDlToG0KJZ9ItgRBEIRc++qrr/QdQqFQKpVkPA7RKDO08ijwdiUGUqRWml2Rryd1wvtHJFuCIAjCe0fx/D+ULx++KjCQIa3gWijbNrRqrfE6I/Y8yvQXhbJtoWQSyZYgCILw3sl4otmqJS3fEIm0cCZXNihb67U5t1LJiD1XKNsWSiaRbL1joqKikMvlXLhwIc/rbtq0CVtb21y/FgTh/bN582Z9h1AoMh6f1ngtrehWaNuWSCRILVpplImuxPebSLZKELlcTqVKlZDL5Tr/ffHFFwXafs+ePbl48WIhRSsIwruoQYMG+g6hwBQvH6N4/m+WEgMMKzYt1H0YWmomWxmx51FmpBbqPoSSw1DfAQi5d/36dVJSUjA2NubgwYOMGzeO69evq5ebmJjk+7bstLQ0TE1NMTU1LaxwdUpNTUUmkxXpPgRBKDp169Yt8dM/ZMT+rfHawLwuEpm8UPdhYFYbiXFFlClPMgsUKWTEX8awkMaFCSWLSLayKDPEo1j393zDsTzVt7KyUj+0WfUAZCsrK406qh/BO3fuMG3aNM6ePYudnR2zZ8+mTZs2AJw8eZKuXbvi7+/P7NmzCQsL4/fffyc2NhZvb2/u3buX65j279/P7NmzuXbtGlZWVvTp0wcfHx91QuXk5MTAgQOJjo5m7969tGnThg0bNuTpuAVBEApTRlyoxuvCGhiflUQiQVrhA9KzPB8xI/acSLbeU6Ib8R01Y8YMRo4cSXBwMA0bNuSzzz7j+fPnGnWmTp3K999/z/nz53F1zfsPwJEjRxgxYgTDhw/nzJkzLFu2jN27dzN9+nSNeitWrKBWrVocO3aMKVOmFOi4BEEQCkKpSCcj7h+NMmn5okmApBWaaLzOeHJOPCvxPSWSrXfU//73Pzw9PalevTpTpkzh6dOnhIWFadTx8fGhbdu2VK1alYoVK+Z5H/PmzWPs2LEMHjwYBwcHWrduzdSpU1m3bp3GD4qbmxtffvkl1apVo3r16gU+NkEQ9GfIkCH6DqFAFInXICP5VYGROQZli+Z3SVq+4WvPSnyAMvlukexLeLuJbsR3VL169dT/t7a2BuDx48cadRo2bFigfVy6dIl//vmHxYsXq8sUCgUvXrzg4cOHVKpUqVD2IwjC2yPr970ken28lrR8IySSoml3kEhNkMqdNbotM2LPY1Darkj2J7y9RLKVRV7HUL3NjIxe/TUlkUgAtJqvS5cu2GMpFAoFPj4+dO/eXWtZ1paygu5HEIS3h7u7O8ePH9d3GPmW8VRzWpyiHkMlrdBEI9lKf3IOI7teRbpP4e0jki0h31xcXLhx4wbVqlXTdyiCIBSTS5cu6TuEfFOmJ6F4dlOjzKBc0U5lIa3wAdxcqX6tSLiCMj2pwM9gFEoWkWwJ+ebt7U2/fv2oUqUKPXr0wNDQkIiICEJDQ7UGyQuCIOhbRkI4KBXq15JSVTAwrlCk+zQoZYOkVGWUydGZBcoMMuL+0ZqHS3i3iQHyQr61a9cOf39/goODadeuHe3atWPhwoVUrlxZ36EJglBEVGMxSyLFU81WOWk552LZr9ZdiU/F5NHvG9GyVUJ5eXnpnFjQ3t5eZ3nWslatWumsM2jQIAYNGpTr1wBt27albVvNJ9xn9fodkIIglGzXrl3Tdwj5lvH0ssZrqdylWPYrLd+Q9Ls7XsURJ5Kt941o2RIEQRByzdfXV98h5EvmeK1bGmXSck7Fsm+peX2QSF/F8uIeipePc1hDeNeIZEsQBEHItTlz5ug7hHzJiL8CZB2vZYdEVq5Y9i0xNMXArI5mPK/dFSm820SyJQiCILzzFPGvdSEW03itV/vTvOtRdCW+X0SyJQiCILzztMZr6TnZUjy9COLJPe8NkWwJgiAIuXbs2DF9h5BnmeO1/tUok8qLN9kyMK8DBsavYkqNQ/kiplhjEPRHJFuCIAjCOy0jIQKN8Vql7ZDI5MUag8TACKm8/mtxhRdrDIL+iGRLEARByDUPDw99h5BniteSGql5/WxqFq3XZ6vPSBTJ1vtCJFuCIAjCO+31FiQDc0e9xCEt/9q4rYTreolDKH4i2RIEQRDeWUpFBopEzYlYpXpKtgzKVANpqVcF6c/1EodQ/ESyJQiCIOSaj4+PvkPIE0XSf5Dx8lWBkTkSU2u9xCKRSJHK6+ll34J+6T3ZWrt2Lc7OzlhZWeHu7k5ISEi2dU+ePIlcLtf6d+PGjWKMWL/GjRunPu6KFStSo0YNunTpwpo1a0hLS9N3eMXmiy++oF+/fvoOQxDeO5MmTdJ3CHmiPV6rHhKJRE/RgIG5SLbeR3pNtnbs2MHEiRP55ptvOHHiBE2aNKFPnz7cvXs3x/XOnDnD9evX1f+qV69eTBG/HTw8PLh+/TqXL19mx44ddOzYEV9fXzw9PUlKStJ3eCVKeno6SqWY7EYQcqtOnTpvrvQW0R6vVVdPkWR6/Y5E4f2g1wdRL1++nIEDBzJkyBAA5s6dy5EjR/jtt9/48ccfs13PwsKCChUqFHo8SUc7Fvo2c1K67YF8rWdsbIyVlRUANjY2ODs707ZtW9zd3Vm8eDGTJ08mPj6eiRMnsn//flJSUmjatCmzZ8+mbt1XPzTnz59n+vTphIaGYmhoSIMGDfjll1+wtramc+fOODo6MnfuXHX9L774gri4OLZu3QpA586dqV27NqampmzatAmpVMqECRP47LPP+O677/D398fMzIzvv/+e/v37q7cTExPD999/z5EjRwBwdXXl559/VifNvr6+7NmzhwkTJvDTTz/x5MkTWrduzdKlS6lQoQK+vr5s3rwZALk88/btvXv30qpVK6ZOncq+ffuIjo7GwsKCHj16MHnyZExMTDS2PWbMGObOncudO3dYvnw5kydP5tq1axgbv5oHZ/jw4Tx79owtW7bk630ShHfRgwcP9B1Cnmi3bOlnvJaKgVktMDACxaueCGVKLGCvv6CEIqe3lq3U1FQuXrxI27ZtNcrbtm3L2bNnc1zXw8OD2rVr061bN06cOFGUYZYYjo6OtGvXjr179wKZiVFoaCh+fn4cOXIEU1NTevfuzYsXLwAICwuja9euVKtWjQMHDnDo0CF69OhBenp6nvb7559/UqZMGY4cOcJXX33FpEmTGDRoENWrV+fYsWP079+fcePGcf/+fQCSk5Pp2rUrxsbGBAQEcOjQIaysrPDy8iI5OVm93Tt37rBjxw7++OMPduzYweXLl/npp58AGDt2LD169FC38F2/fp2mTZsCUKpUKZYtW8bZs2eZP38+O3bsYN68eRoxR0VFsW3bNtavX09wcDBdunRBoVAQGBiorpOQkMC+ffv4+OOP8/hOCILwtlCkPEH58tGrAokRBmVr6i8gQGIgw6BsbY0yReL7MxTmfaW3lq3Y2FgyMjKwsLDQKLewsODRo0c616lUqRILFiygUaNGpKamsnXrVry8vNi3bx8tWrTIdl83b97UKjMxMdFoxdCHly9fvrmSDhkZGTrXrVGjBsePHyc8PJz9+/ezc+dOGjduDMCSJUto3Lgxfn5+DBo0iIULF+Lo6KjxUFl7e3t1XAqFgvT0dI39ZGRkaOxboVBQq1Ytvv76awA+//xzFi5ciIGBAUOHDgXgyy+/ZPHixQQHB9O1a1e2bNmCQqFgwYIF6nETc+fOpX79+uzduxcvLy/S09NJT09n4cKFmJmZATB48GC2bNnCy5cvMTQ0xMjICENDQ8zNzdWxvHz5knHjxqnjtbKyYuzYsaxcuZIJeKFytgAAIABJREFUEyYAmd2GqampLFmyROOz17NnTzZu3IinpycAmzdvpkyZMri7u2f7PiUmJmb7WVXR9dkr6d6mY3oRkzkD93+RkZimpuZ7O2/TMWVHFhODMxAZGUlqLo61qI6pTp06ej1fWfednJz5/kdGRlKqlPY5MUm+QPksr1ONKhNzO6qoQ3yjsgobynJF/Tr+3t/cNGisx4gKX0n4TuVWzZoFT9D12o0IaA1UVCqV2Q5erFmzpsZBN2nShDt37rB06dIcky1dJyohIUHdtaRS3KOdXt9/bkmlUp3rSqVSJBIJkZGRGBgY0LJlS4yMjNT7qlevHv/++y8mJiZcvXqVLl26ZBuDgYEBhoaGGsulUqnGvg0MDHByctKoY2lpqVFmYmKCXC5Xn+/w8HDu3LlDjRo11OsolUpevHjBvXv3MDExwdDQkCpVqmBpaamuU7lyZWJjY9XbfT0Wld27d7Ny5Upu375NUlKSOkFU1TM0NMTGxoYqVaporPfZZ5/h7u5ObGwstra2bN26lYEDB1KmTJls3wczMzOt7WR18+bNQvmSvk3etmN6JpNxFnCoWpWy9vnrhnnbjik7EpkMgKpVq6J8w7EW5TGdOXOmSLabG68fV0LCq3Nibq59TlJuHiU99tXrUlaN3or3Oj22FSmX/lK/Ls39tyKuwlJSvlPFSW/JVoUKFZBKpVotA0+ePNFq7cpJ48aN2bFjR6HElN8xVG+La9euZf4Q5zDgW5XIvmlQuIGBgVYdXV2MqmQu6/YNDQ21yhSKzEdlKBQKnJyc+O2339TLU1JSMDY2ply5cjluV7WN7Jw/f57PPvsMHx8fZs2ahbm5OYGBgfzwww8a9UqXLq21rpOTEy4uLvj5+dG5c2cuXLjA6tWrc9yfILyPVK3VJYEiUXPSUKmeB8erZI4be9WooEy+hzItEYmRmf6CEoqU3sZsyWQyGjRoQFBQkEZ5UFCQevxNboSFhakHi7/PwsPDOXLkCN26daNOnTooFArOnTunXp6YmEh4eDi1a2eOFXBxcclxvFvFihW1BsJeuXIlm9q55+Liwu3btylfvjzVqlWjWrVqODg4UK1aNY1k601kMhkZGRkaZWfOnMHa2hpvb28aNWpE9erV33hna1ZDhgzBz8+PjRs30qxZM/GXmSDosGHDBn2HkCtKRTqKZ7c0ygzMamdTu3hJDEtnTnCahXhO4rtNr1M/jB49Wn1xu379Oj4+Pjx48EA93mfkyJGMHDlSXX/FihXs27ePf//9l4iICKZNm0ZAQADDhw/X1yHoRUpKCg8fPuT+/fuEhYWxbNkyunTpQoMGDRg7dizVq1enU6dOfP3114SEhHD16lVGjBhB2bJl6dOnD5A5yPzy5ct8+eWXhIWFcfPmTTZu3KhOTlq3bs3hw4cJDAzk5s2bTJ48mXv37hU49j59+mBpacnAgQMJDg4mMjKS06dP89133/Hvv//mejt2dnZERERw8+ZNYmNjSUtLo0aNGty/fx9/f38iIyP59ddf2b59e6632atXLx49esRvv/3G4MGD83N4giC8JRRJUaB4NY5LIiuHxLiiHiPSZPDa5KaKhGvZ1BTeBXods9WzZ0/i4uKYO3cuDx8+pG7duvj7+2NnZwdAdHS0Rv20tDR++OEH7t+/j4mJibr+Rx99pI/w9ebYsWPUrl0bqVSKubk5devWxcfHh6FDhyL7/3EdK1asYOLEiQwYMEA99cO2bdswNTUFwNnZmV27djF9+nTat2+PTCajYcOG6nM5ePBgrl69ypgxYwAYNmwYnTt3Ji4urkCxlypVisDAQKZOncqnn35KYmIiVlZWtG7dWj2NQ24MGTKE4OBg2rRpw/P/Y++846Oq0j7+u3dKeu8JaSSQQglVehJACFVEUISoKCi4Ivvu+6Ir7LuCLros4r6oiLqKqChFQKRILyF0CBASShqQShLSe6be+/4xZu6cmUlPmBk838+Hj55zz7333Eky88xTfk9dHQ4cOIDJkyfjz3/+M1asWAGZTIaxY8fib3/7G5YtW9amazo4OODpp5/Gvn37MHPmzI4+IoVCMQP0Q4isY5hJxUz1ETmSemXqGmpsPc4wVVVVf0hFx+rqam0lmyUhk8k6nFhvrpjTM82ePRu+vr747LPPWl3b2u/Q45gkam7PVJubix1RUXg+JeXxT5DPzYVjVBRqUlJMmiBfVFQEHx/TtLsxTJDPxXffReGVV1IMEuTlaeuhKjqqHUt6zoc0aO4j22trcA2FyDw1D8NP38Cl2AHwd3CBbfRuMIzI1FvrNJbyN/UoMXk1IoViDlRWVuL06dM4deoUzp07Z+rtUChmy40bN0xmbLUHrpbUrmIdeptoJ8ZhbHwA3YR4dSP4+jww9sGm2xSl26DGFoUCTY5aVVUVVq5cichI0ypMUyjmzNy5c1FVVWXqbbQIr5aBqyP1tESOZmZsMQxY+xAAQqGSujodLDW2HkuosUWhQFPVSqFQHg80VYiCVAxj4wdG4mC6DTUD60D29eVq0gC/ySbaDaU7MWk1IoVCoVAoXY1hcrx5ebWaENmTxpaaViQ+tlBji0KhUCht5pNPPjH1FlpFrddrUGQm+lr66IcM+YY88Mo6E+2G0p1QY4tCoVAobebll1829RZaxVI8WxDbGEyp9fZOeTygxhaFQqFQ2kx79PBMAa+oAi/T6X7BiH5PRLcMOKq39VhCjS0KhUKhPDbohxBZ+2AwIisT7ab9UGPr8YQaWxQKhUJ5bDB3fa3WUFengee51hdSLApqbFEAAP369cOGDRtMvQ0KhWLmxMXFmXoLLWKsTY/ZI9LJ3VLVgW/ofB9ainlBjS0LJSUlBa6uru1+41uzZg1GjBhhMJ+QkICFCxd21fYoFMpjys8//2zqLTQLz/NGKhHN37Oln1Omrkkz0U4o3QU1tiyULVu2YOHChUhLS0NGRuerV9zd3WFra9sFO6NQKI8zc+bMMfUWmoVXlAPKamGCtQJjG2C6DbURQ3HTzGZWUiwVqiCvw7vfz3+k91v98g8dOq+xsRG7du3CoUOH0NjYiB9//BEffPCB9nhRURFWrlyJEydOQCaTISQkBP/85z+Rn5+PtWvXAhAqijZu3Ij4+Hj069cPixYtwtKlSwEA+fn5WL58ORITEwEAsbGxWLt2Lfz8/ABoPGT79+/HW2+9hdWrV6OsrAzR0dHYsGED3NzcOvyaUCh/VJRKJSoqKlBTUwOO4yCRSODs7AxnZ2ewrPl8Lz569Gjri0yERjlegLUPBsOaf2Nn1r4nUCGMudos022G0i1QY8sC2bdvH/z9/dG3b1/MmTMHr7zyClatWgWJRIL6+npMnToVHh4e+Omnn+Dr66ttRfPMM88gLS0NR48exW+//QYAcHR0NLg+z/OIj4+HtbU19u/fD4Zh8PbbbyM+Ph4JCQlgGAYAkJeXhz179uCnn35CQ0MDFixYgNWrV1uE6CGFYg7wPI+8vDykpaXhwYMH4DjDxGgrKysEBgain4MDDP9aKbpwNaSRwjr0MtFO2gdrH0SMubr74DklGFZimg1RuhxqbFkgW7ZswfPPPw8AGD16NGxsbHDo0CHMmDEDu3fvRklJCY4fP671MAUHCyrFdnZ2EIvF8PLyavb6p0+fxq1bt5CcnIzAwEAAwKZNmzBw4EAkJiYiNjYWAKBSqfDFF1/AyckJgEbscOvWrd3xyBTKY8fDhw9x/vx5lJeXt7hOLpcjMzMTxRUVWASgurqaGl3NwNXpebYcQk20k/bBSJ3BWLmDl5dpJjgluPpciCxk/5TWMR/fNKVNZGdn4/Lly5g9ezYATef45557Dj/++CMAIDU1FX369OlUKC8jIwM+Pj5aQwsAgoKC4OPjg/R0QQPG399fa2gBgLe3N8rKyjp8Xwrlj4BarcbFixexf//+Vg0tYxw5cgRJSUlQqVTdsLvWqaqqMsl92wJXe48YW4qxBRh64Wje1uMF9Wzp0NEcqkfJ1q1boVar0bdvX+0cz/MAgIKCAu3/dwae57WhQn105yUSicExY2EQCoWiobGxEcePH8fDhw+NHndwcIC7uzvEYjEaGxtRWloKuVxOrOF5Hjdu3EBeXh7Gjx//yBXdv//+e7Ns2cMrKgXPEAAwErB25p8c3wTr2BvqsovaMc3berygxpYFoVKpsHPnTqxatcpA8mHx4sXYunUroqKisHPnTpSXlxv1bkmlUqjV6hbvEx4ejsLCQuTm5mq9Wzk5OSgqKkJ4eHjXPRCF8geirq4OBw8eRE1NjcGx4OBgREVFwd3dnfhCw3EcCgoKkJqaivqKCuKciooK7N27F9HR0ejZs2e377+Jv/zlL2ZpbKn1vVr2QRaV80Q9W4831NiyII4ePYqKigrMnz8frq6uxLFZs2bh22+/xaVLl7B+/XrEx8dj5cqV8PX1xZ07d2Bvb4/o6GgEBAQgPz8fN27cgL+/P+zt7WFlRbayiI2NRd++fbFo0SKsXbsWPM/jr3/9K6KiohAdHf0oH5lCeSyoqqrCoUOHUF9fT8w3/V02Vfnqw7IsAgIC4O/vj0IXF4PjSqUSJ0+eRFVVFQYOHNisR/pxpVap8eRfeijHQD4DdjrHLCmECAAifWOrPge8WgFGJDXRjihdCc3ZsiB+/PFHjBo1ysDQAoCnn34a+fn5uHz5Mg4ePAgfHx88//zzGDFiBNasWaN9E37qqacwYcIEzJgxAyEhIdi9e7fBtRiGwdatW+Hm5oZp06Zh+vTp8PT0xNatW/9wb+YUSmepq6szamj5+flh5syZzRpaujAMgx49egAAkUvZxLVr13D69OlWvdaPC6nlCsSfLEf0vhIAwOKzVTideZtYY2nGFiN1AmOtU7jEq8HVZ5tuQ5QuhXq2LIgdO3ZAJpMZPRYUFEQkrn733XdG11lZWWHLli0G803yEE34+/tj27Ztze5lxYoVWLFiBTEXHx+P+Pj4Zs+hUP5oyOVyHDlyxMDQCg4OxtixYyEStV8DasSIEXCsr8fFixeJHMm7d++ivr4eEydO7PS+W2L79u3dev2W4Hhg7Y0arL1RC44HdLPV+lnlEWt5O1Io1BJgHXpBLRPy+biaDIgsod0QpVWoZ4tCoVC6AbVajWPHjqGyspKY7927N8aNG9chQ6uJyMhITJkyxSAFoKioCAcPHoRCoejwtVtjwIAB3XbtlmhQcXgnTYo1yRpDSxdHph4BYiE5XsmL8FaqS5cUDD1K9Ps46uuGUSwXamxRKBRKN3Dp0iUUFxcTc4GBgRgzZkyXKML7+PhgxowZBsLEZWVlSE5ORl1dXYevzfM8KrMrkXsmB7lnc1CdV6U1XCIiIjq1747QqOIx90QFTlcYD8ZMcishxplKX2y5p8KGWx1/DUyBft6WmlYkPjbQMCKFQqF0MZmZmbhz5w4x5+3tjXHjxnVp6x0nJyfMmDEDR48eRUmJYHA0NjZi//79mDJlSrukIeS1cqR8dx23dqSi9kEtea8gZ/R/4dF7tWQqHi+cKkdiESmB4WbFYv1AZ9w/Cvy1VwWgY9feVGgkH/5xrQYxvlaIcrOMJHP9PDO+Pg+8WgZGZG2iHVG6CurZolAolC6koqIC586dI+bs7e0xYcIEiMVd//3W2toaU6ZMMUi0r6+vx4EDB9osNFyY9ABb477HxX+fNzC0AKA6pwpnPzgNACi6XtjpfbcFJcdj/ukKnHxAGlqRLmIkPOWBGF9NGJWrzyWO31RoighUPPDOpWqLCScyEnswNro/R85AqJVimVBji0KhULoIlUqFhIQEoipQJBJhwoQJsLbuPu+ERCJBXFwc0ZoLAGQyGQ4dOtSqwXXju+vY/dwOo0aWPoMlA7Fr9nbc3nmz1bWdgeN5vHG2EkfzyaKgSGcxDkxyR4C9YLjy9TnEmlsKoWLzUokCe7Ibu3WvXQnr2JsYU3HTxwNqbFEoFEoXkZSUhAo98dExY8bA3d292+8tEokwbtw4A+FhuVzeosGV/O01JL53Crxe1rnYWgy/YT3gM9gXIqmQzP+U7VTwah4n3j6K618ndf2DQJMz9tdL1dh1nzSSgm047JvkDjdrsriAl+nmxrHw8SArEVcm1UCutgzvlkHeVk2GiXZC6UqosUWhUChdwIMHD3Dr1i1iLjQ0FL169WrmjK6HZVmMHj1aq8nVRJPBpd+L8db2VJz5R4LBdQYsHIxXk/6E2Tufx3N75mHBpcXoM6cfAOCr2k3adWc/TMSt7ald/hwfXq/FpnRSLiPIQYSNfeXwsGm5ipOx64H3nvCGROfT7UGDGjvvNXT5PrsDQ88WDSM+DlBji0KhUDqJSqUymqc1atSoR74XhmEQEhKCfv36EfNNml+1tZpQ4YOkAiS8e4JYI7YW46nNMxGzciysHAVZCVs3Wzz5URymfPkUijiywvLU/x5HTsL9Ltk7z/P4x7VqfJxKhjO9bVjsjXOHh1Xr3inWPhQhTmIsCLMj5j+/VQfOAnK3WHuy9RLfkA9ebVxfkWI5UGOLQqFQOklycrJBz8PY2FhIpaapgmMYBsOGDTMwuBoaGnD48GGU55bh0J/2g1MKoqgiKzGmfzsTweObFwPtNUXjdRFb6+RLqXkc/vNBVOdVNXdam5CpePz5fBX+L5WUa3CxYvBrnDuCHNpWXCD6vaJvSV97iHQaXmRUq3CswPyNFkZsq5ckz4Or6xpjlmI6qLFFoVAonaCiogIpKSnEXGRkJHx8fEy0Iw1NBldkZCQxX1VVhV8W7URDKRlWi/tkCgJGG7YC0sfb2xuTPpsK6Bgyiho5Di05AJVc1aG93qlUIu5QKX7MIvdkL2awe4I7Ilza3lC6ST4hwF6MZ4JtiGNf3K43dorZwTqQBi9Xe9dEO6F0FdTYsjD+/Oc/Y86cOQbzycnJcHZ2Rm5urpGzKBRKd8DzPC5cuEBIC9ja2mLo0KEm3JUAwzAYOXIkevYUQlOqawo0ppNGzYjBdYjEdTA1lfqXMODqzTso6OcPvDKcmC9JfYj/W3YC36XX40SBDBlVStTreM704Xge10oVePNcJUbvK0FKuZI47mrF4sBkdwz2aME7yMkNpnQNlTf72hPHzhTJkVPbMYPwUaKvt0XztiwfKmpKAQAoFAqjIY/m5jt6PQrlcSI3NxdFRUXE3MiRI83qd59hGMTGxqKxvg4PMoqhPEGG0gKcyhFrfxHsz6ch/fV7KGa+DOWk5wA98dUbZQp8eacOu7/4GOq4JYB/EJ4PL0BEeoF2jeTALax390JeoKd2zknKwM9WBB87EezEDHgAZTIOaZVKVCmM51AFO4iw40k3hDm37NHi6vPJZ7XxAyMWcrWi3KQY4iHB1VLBkNt+twErBpKq++YGa6/n2aqjxpalQ40tHb755ptHer/XXnut2659/vx5rFy5Erdu3YKjoyNmz56N999/X/shMHXqVISFhcHW1hbbt29HQEAAEhIS4OzsjHXr1iExMRGnTp3CggUL8MEHH3T4ehTK4wrHcbhy5Qox16NHDwQFBZlmQy0gycvC9LO78GXyAEDXsSMFogfe1YY4GIUMVj9/BVFaMmSv/x2wc0CVnMM/rtXgu4x68ABw5AsgbgnAMNg7Yxi8iyrhUq0Jz7EAnt53GV++PhlKqebjpVrBo1qhwp2qtnmUngq0xobRLnCSth544fT0tfQ9QgDwQi87XC0V8sm23W3AOwMcwDKMwVpzQaQfRqzLAc8pwbBtD6dSzAsaRnwMKSwsxLPPPov+/fvjzJkz2LBhA3755Re8//77xLqdO3eC53kcPnwYX331lXZ+7dq1mDhxIi5cuIBXX32109ejUB5H7ty5g+rqau24KUeKMbMPcfHFk7D5cClKMhoh19PHlE6wwfmoQeBA7lmcehk2H/8VeaU1GP9bCTY3GVp6yGyk2Pv0MGLOraIO40+mGFndMj0dRNg23hU/jHVtk6EFGCrHGzO2ZgbbwEYnUz6/To2zRYbhR3OCkTqDsdLRZuNV4OrzTLchSqehni0L5MSJEwatOThOyI349ttv4eXlhX//+99gWRZhYWFYtWoV/vu//xv/+7//C1tbWwBAQEAAPvzwQ4Prz5w5Ey+99JJ2vHr16k5dj0J53FAoFLh+/ToxFxYWBldXVxPtyDjixIOw+u5jcGrgeFYf4hjrK4JogAQPGXdcnPwyRp75BUy9UFEpup+Gin8uR37fvwJ6HpUediLE+Foh3FkMl9HOqK14CMWB29rjw69komxIEJI93dCSlqijlMFobyvEh9pior81JGz7DFW+LocY63uEAMBJymJ6oDV26gik7r7fiBhf8+43yDqEQC0XhGi52rtGn49iGVBjywIZOXIkPv30U2Luzp07eOGFFwAAGRkZGDp0KNHwdsSIEVAoFLh//z769u0LABgwwHhT2YEDBxLjzl6PQnncSEtLg1wueEckEgkGDx5swh0ZIj5/DNab1wEArhcGobSBzFOSxFlrvXBJdUoEvPV/8P3p3xDdS9OuGV1xB2vu7cCyXi8CAEIcRVi44whej/MiwnCKteOxNTkfNQUaY43hgZdPXsfhAy+gQsWgqEGNogY15GpNYryrNQs/OxFCHMUdDufxagW4xgfEHOtgXEB2TqgtYWz9lteI/+Oc223cPUpY+1Coyy5rxzRvy7KhxpYO3ZlD1ZXY2toS1UUAiHAGz/PNhjJ05+3s7Iyu0Z/v7PUolMcJpVKJ1FRSNb1v375aD6854HD/Dqx+/gwAUK+QIjE7jDjee2Y4ykOr0NioMUB4nse522kY9fpylH3/AfjSB3CWqxFYI8d/PTiCUy59YPvEKGwY5YL0W8UGBpLUToonP5qEPfN2aufK08uQ+l0yBi8eCi9bEbr6qxhXnw3wQg9KxtoLjMTB6NpoHyu4WDGolGvcbJVyHueL5Yg1Y++WYUUilX+wZEyes7Vp0yb0798fXl5eiImJwYULF9p03sWLF+Hm5oYRI0Z08w4tj/DwcCQlJRGhxYsXL0IqlRo0qjXF9SgUSyY9PR0ymVDRJ5FItN5dc4DNu4fg3V+C+b0Z9unsMMjVQhhQai9F9N/GGqjbFxcX4z+/bcCPngr81McDnw/yxt9H+2N7uBs25G3CfwaJYC3WVDYaw39UACJmkZpelz+5gJoHNUbXdxZ948NYvlYTEpbB1ABSc2uvmTenNjC26u6D1zEuKZaFSY2tPXv2YPny5Vi2bBnOnDmDJ554As8++yzy8/NbPK+qqgqvv/46YmJiHtFOLYuFCxeiuLgYy5YtQ0ZGBo4ePYr3338fr732Woe+fXf19SgUS0WlUhkImPbp0wfW1mbiIamtgvX6FRApNMZgUa0TbhQFEEuG/dcI2HnaISgoCF7ensQxZ3UgwAteK7mYxRUfe3w+wBGXf1lD6IkZY/TfYmDlJLwWygYlzrx/qrNPZZT2GFsAMCOINLZ+y5NBxZlv+x7Gyh2Q6IR+1TLwDYWm2xClU5jU2Nq4cSPmzZuH+fPnIywsDOvWrYOXlxc2b97c4nlvvvkm5s6dazbCgeaGr68vdu3ahdTUVIwZMwZvvvkmZs2ahZUrV5rF9SgUSyUrK0sbegMAsVhs0BLHZHBqWH/5AdiKEgAAzwNHs/pAV+rdJcQVUS8PAgDklWQhreY0eAgeazGs4cAZKt8rRSwOoQi7Dq1tcQu27nYYtXwMMXfv6F3cP9H1+UbtNbZifKzgKBVeizIZh8slii7fV1fBMIyh3hYNJVosJsvZUigUuHHjBpYuXUrMjxs3DpcvX27mLE3YsaSkBG+//TY++uij7t6m2fHZZ58Z/RY9cOBAVFUJWjKjRo3CyZMnm73OwYMHjc7rXkOXjl6PQnlc4Hket2/fJuYiIyPNxqsl3fsDxLevase3HvrhQQ1ZHRm9cixEUhEKSu/hh+ProFQpIGaL4MgJ1c32XCBSGRd4MTmwZcj2NjdL0xA3ezSUKgUkYuPCrX2f7487O2+hOFkQez296iT8R/pDYts1Yq88pwRnUInYsrElFTGY5G+NnfcEY/l4gQyjvK1aOMu0iBxCwVUma8eaJPmxptsQpcOYzNgqLy+HWq2Gh4cHMe/h4YGSkhKj59y+fRtr167F8ePHIRKJ2nyvrKwsgzlra2tYWZnvH1lL6OaLPC5Y4jPV1NQ0+7vahLHfPUvHnJ6psVATVsnOyYGNouNeirY8U0VFBSoryXY2tra2j+z1kBYWoj+AnJwcKPSe1TErFSH7tmjHcpUIJ3NJj5vnCG8o/VS4lnoZh1O/h1KluUYNmw97zgvs7x8HEohQxw9Hneuz+DO3D5fLr6JBIrzf9h7ths0HP0JsxLNgGePBkdDXw/DwT8Xgfw/T1RbU4Mj7hxH+aqTR9e0hKysLYkUBPHlBFV7NOuJubhmAsuZPBBAlFmEnhPf9A/dqEO/U8t9wd1JYq/n9zcnJgaLc8PfXusEOuuZy3cObKOfN5++vJczpfaKz9OplvMq1PZi8GlG/yq25yje5XI6FCxdi9erV7VZoNvZCVVdXm8030vYgk8ksct8tYanP5OjoCH9//2aPZ2VldckfqTlhbs9UK5XiMoDgoCA4BLbeRNkYbX2mo0ePEuPg4OBHGkJkfu/WEBQUBF7nWZnSItj+9j2x9mxRH9Q3Cm/vIqkIk9dOg52fLf5z8HvIVUJvRI5RQeVsC2mV8GEfzWVj6pihCHP7C5749G18Ly7AQzvN/TevPIIF/wDuV1/H5KFzjW+2F1D/Si2Sv72mncrZfQ8jF46CW2934+e0gaaflbLwPhQPhXmJY0ibfobuARzezSxCU6rWvQYW1j7B8Lc3zUehtEL4mQa6Gv7+cg02aCz/Xju2UhciNDTU7IRz9TG39wlzwGQ5W25ubhCJRAaegbKyMgNvF6CplElPT8eSJUvg5uYGNzc3fPTRR0hLS4ObmxtOneqeJEwKhUKprq5GXh6p4G0WFYhKBaw3rAJTX6udKpcd3tMRAAAgAElEQVTZ40oOmRQ/6LUhcA50xpGk7XhYWUAcG9NvGn7ix0IGwXvlAAVUxfcBAI4zF+PN5IfwqtcYY/U1Gn2xC7eP4Ma9881ubfj/jIK9t9AImlNxOLniuNbb1RkM8rXs22Zou1ixGOZJhjKPFZivV52x8QVEOon9qlrw8lLTbYjSYUxmbEmlUgwYMMCgf15CQgKGDRtmsN7X1xcXLlzA2bNntf8WLFiAnj174uzZs3jiiSce1dYpFMofjLS0NGLs7u4OLy8vE+1GQPrzfyDKzSTmjtVN0pWfgr23PYYsGYasglRcySC/lPYLHgaV+1Sk1YtwiSENlps3b4LneXABobAaFIs/3SiBk4zsb3jg4hZU1BoPw0ntpYh5bxwxV3T1AW7tSDW6vj0YGFt2QW0+d2IP0ot+LN+MjS2GBWtPyuvQJHnLxKTViEuWLMG2bduwZcsWZGRk4J133kFxcTFeeeUVAMDixYuxePFiABotm8jISOKfu7s7rKysEBkZCXt7+5ZuRaFQKB2C4ziD/JM+ffqYPJQjun4e0uO/EHMZLuNw/xZpPIz+WwwYK+DApS3EvKuDJ2aMfAX/SdOEFM+wQVDpfCTU1taioEDjBVM8PR9OCjUW3CqFZw8n7RqFSoZfzn5NaPDpEjKpF4LHkwLM59acQf3DunY+rQDPq8HV3SfmWPugNp+vb2ydLVZA0VJPIRNjKG5KleQtEZMaW8888wzWrFmDdevWYcyYMbh06RJ27tyJgACNC7ygoED7x06hUCimIC8vjyjgkEqlBh0cHjVMRQmsN5EyDAoXH5y4Tso2+A71Q++nwpGYuh+VdUL4iWEYPBv9Ou7WipH4e1PmWsYaKYw3cX5T9SXvGwjVgJEIqFVg93QyTy2vJAvnbh0yvk+GQezqJyGxFURVFTVyJP4jwej6tsA3FAAc2Uiakbq0+fxIFzG8bYSPvgYVj6ul5isBwdpTJfnHAZMryL/66qu4efMmSkpKkJiYSKgaHzx4sEVJgRUrVuDixYuPYpsUCuUPSkZGBjEOCQmBWGzC2iKeg/VXHxJNo3mRCBc95qEqV2jbxbAMYt8fj9LqIgNjaFj4k+jhEYLNGaS0Q407+cGen5+PmhrNfRRTnwcA/HAoDRHlDcS6Uzf2GOSCNeHo54gRb40m5rJ+y0D2yY55aNQ1natyYxgG0b5kJXqTwWmOsHrNp2mPRMvE5MYWhUKhmCsNDQ0GHS3CwsKaWf1okBzfA1EGqWJfMf4VXN5Khtb6zusPjz6eOHxlG9SckMTlYOOM8QOfgUzFY/d90mh6Lsof7u5ktWBTvhrXqx/UIZH4Nrccz6eXw04hXFPNqXHg0g/NKsxHvTwQnv3IHLeEd09AXtt+I6crjI0YH9LYOmPOxpZdAMAIxj0vLwOv7J4WSJTugxpbFAqF0gxZWVmEAeHi4mJgjDxqJMf2EGNV36E4neQCZb2gOyVxkGDEslG4V3gbdwtvEusnPzEP1lJbHMxrRLVCeDY3KxZTAmwQGUlqYWVkZECtVgMMA8UUjdSDo4LD7MwKYl3uw0wk3z1ndM+siMX4f00EIxLy3Gof1OLs6tNtf/Df6Yowmr6xlVSiQJ3SeN6ZqWFYicbg0oGrvd/Maoq5Qo0tSreSnJwMZ2dn5ObmmnorFEq70U+MDwsLM11ifING3oHRaa/DOboge+grSP+VrJbs9XI4rFyscezaTmI+yCsMfYM0ldvb7up5tUJsIBUxCAkJIQSf5XK5VvZCPWikdj6qtAER5WQz56NXd6BBZjz53bOvFwYuHEzM3f75ZvvCiTzXJQniPezFCHEUpC5UPHDxoTnnbZE5gvoFAhTzhxpbFkhJSQneeecdDBgwAJ6enoiIiMDs2bNx7NgxU2+NQnls0FeMZxgGoaEtt4TpNngeVju+MphuXLgCpz++Rsy5hbsjYFoQbuckobA8hzg2ccgcMAyDwno1Tj0gQ2fxvewAaPo9hoSQeUJao5MV4e5GTWI+A+CZzAqIdXSzGuR1OHF9d7OPMWLZKLiGki2ETrxzFI0VDc2cQSJSlQFqnbUiuzadZ4wYH7IqMbHQjEOJ1NiyeKixZWHk5eUhJiYGp06dwqpVq3D+/Hns3bsXEydOxP/8z/+YensUymPDvXukB8XPzw82NjbNrO5eJCd+hfgOaVQppszFzTRrlNx8SMzHvjcOYIET10lZiMjAIfD30BhRe7IboJtdFeUmQV9XoWJQX/07Pz9fW5GZZOsOXqIRBnWXqTAxh+ynejXrNIoryTy3JsTWEkxcP4UIJzaUNiDh7yeazffSRaIkr9tWMVNjxFhSkjw1tiwek7frMSc+Dfz4kd7vv3Lfavc5y5cvB8/zSEhIILTFwsLC8NxzzwHQvDEuX74ciYmJAIDY2FisXbsWfn6aZrNr1qzB/v37sXTpUqxZswYVFRWYMWMGPvnkE2zZsgXr169HQ0MD5s6diw8++AAsq7HJFQoFPvzwQ+zatQtVVVUICwvD3//+d4wfP167jxMnTmDFihXIy8vDoEGDsGDBAu2x+vp6hIeH4/PPP8eMGTO084mJiYiPj8edO3fg6enZ7teEQulqeJ7H/fvkB5q+t+dRweZmQbrjS2JOHRKB2gnxuDD+B2K+17Qw9BgRgCPnd6OiVjDCWIbFk4Nma8e/ZpPhv+dCbImxh4cHnJycUF2tqW7kOA73799HZGQk5r6yEE+veweSc5r2RWPzanAl0B1lIk3CPM/zOJK0HfMnvG005OrV3xtD3xyOK58KleRZBzPRc0Iawme23DtRoiArHtsjZqrPGG8pGEBrdN6sUKJcpoabddv77j4qWAc9Y6s+DzynBMNKmjmDYm5Qz5YFUVlZiYSEBLz22mtGRVydnZ3B8zzi4+NRWlqK/fv348CBAyguLkZ8fDzxzTEvLw+HDh3Czz//jC1btmDfvn2YN28erl+/jj179uCzzz7D119/jQMHDmjPWbJkCc6fP49vvvkGFy5cwNy5c/H888/j5k1NAm5BQQHi4+MRGxuLs2fPYtGiRVi1apX2fDs7O8yaNQs//fQTse/t27cjLi6OGloUs6GsrEwreQAALMsisIO9FzuFrAHWX/wDjEpIfuetbCH700pc2nAFjRWC0SS2FmP032Kg5tRIzSfb6AzqNQYeThoNrpxaFa6VKYnjTweRHjtjIVPd/DXlOOHLkpgHpqcVE2vvFd5GZgFZManLE0uHw7MvWZ146n+Po/JeRTNnaJAqyJZJrF3Hfyau1iL0cyWNlbNF5pm3xUgcwVjpFGbwKnD1xr2HFPOEGlsWxP3798HzPHr37t3smtOnT+PWrVv45ptvMGjQIAwcOBCbNm1CSkqK1tMFAGq1Ghs3bkRkZCTGjx+P8ePHIzk5GZ988gnCwsIwffp0DBs2DOfOaaqLsrOzsXv3bnz33XcYNWoUgoKCsGjRIkyYMAHff/89AGDz5s3o0aMHPvroI/Tu3RszZ87UdgNoYv78+Th16hQKCzXd7quqqnDkyBG8+OKLXfxqUSgdR9+r5e/vTySNPyqstn4Otpj8UFU8+xrKKiVI+SGZmB/yxjA4+jniZvYl1MoEo4VlRIjuN1073qvn1RrhJYWfnaE3Rz+UWFJSIni6ekZAHSi8D/UrbUCIyJlYfyRpB9Qc2d6nCZFEhInrJ0NkJdxXWa/EwTf2Q9moNHoOz/OQKPU8W+1QjjeGfijxwkMaSqR0D9TYsiDaktOQkZEBHx8f4lt4UFAQfHx8kJ6erp3r0aMHnJyEthuenp4IDQ2FVCol5kpLNarTKSkp4Hkew4cPh5+fn/bfsWPHkJ2drb33kCFDiNCBfs/KgQMHIjIyEtu3bwcA7Nq1C05OTpgwYUJ7XgoKpdswFkI0hWK86Po5SM4YKrOrBoxA4nunwOu0mHHs4YjBi4eA4zgkphwg1g8MHQUXBw/t+Ncc0tiaGWQ8D83BwQHe3qSifHZ2Nj755BOAYaAc95R2ngEw404xGAh/+2U1RbiSTvZi1MWttzuiV44l5srTy3B65Umj63nZQ7CcbnK8DRjrzvWnHOlFNqW2rIpEKm5qSdCcLR06kkP1KAkJCQHDMMjMzGx2Dc/zzZam685LJBKDY/qq2AzDaPR1oMnZYBgGp06dMjjX2tpae++28NJLL+HLL7/EsmXL8NNPP2HOnDkQicwvT4Lyx6SsrAx1dYJ8gUgkeuQhRKa6AlabyRxSzsMXIqQhNzEb+efJcNqYd8dCbC1B6v1LKKsp0s6zDIvoftO04/w6FVLKBc8RA2BGM8YWoHnPKS4WQoTZ2dl4+eWXAQCqYWPBb/0cjEKTOO9f+BCDR03G1bI72vUJKXsxIGQUbKyMVw32i4/Cg8sFyNwvfBG8s/MWegz3R8SsPuTz6zeftg/5/Qk6zjBP0ti6VaFEtYKDk9T8/BAGeVt12SbaCaUjmN9vFKVZXFxcEBsbi2+++Yb4MGiiqqoK4eHhKCwsJHStcnJyUFRUhPDw8A7fu3///uB5Hg8fPkTPnj2Jf76+vgCA8PBwXLt2jTC6kpKSDK713HPPoaioCF9//TVSUlLw/PPPd3hfFEpXo68J5+/vb/AFo1vheVh9+xHYWqHKjxeJII9/EwCQtOESub/RgQiJCwXHcziduo84FtVzJFwdBe/PkXyySfUwTym8bJv/ohMUFESMy8rK4Oz8e7jQxg6qoTHE8cl59ZCKBUmFRnk9ztz8rdnrMwyD8Wsmwrkn2dvw1N+OozStlJgzMLYcOi/D4WotQoSzjjo7NAKn5ojGuBTgau+1+QsuxfRQY8vC+Ne//gWe5zF27Fjs3bsXWVlZyMzMxLfffovRo0cjNjYWffv2xaJFi3Djxg0kJyfjtddeQ1RUFKKjozt839DQUDz33HN44403sG/fPuTk5CA5ORkbNmzA/v37AQCvvPIK8vLysHz5cmRlZWHfvn347rvvDK7l5OSEGTNm4O9//ztGjhxp8qa+FIou+sbWo/ZqiU8fgDiFNKgUT78Mrofm76S2WPiixYgYxKwaC4ZhcCf3KkqrCoVjDIOYqOnEdfSNrckBpNaUPra2tvDyaj5Up4yeTIxdrl/EmLAnibmLd46hspY0nHSR2ksx5YunILISjB6VTIWDi/dBXi3sVz9s1hXGFgAMNwglmmfeFmPjA4h0fl6qWvDyMtNtiNIuqLFlYQQGBiIxMRGxsbFYtWoVRo0ahaeeegqHDx/G+vXrwTAMtm7dCjc3N0ybNg3Tp0+Hp6cntm7d2mnl640bNyI+Ph4rV67E0KFDMWfOHJw/fx4BAZpWEv7+/vjxxx9x8uRJjB49Gl988QVRjajLiy++CIVCQRPjKWZFTU0NKiqE5HKGYbS/348CprgAVtu+IObUoX2hnDoXsiqZwfr+Lw6AW293jVcrhfRq9Q8eATdHIeeqVsnhrJ6W1CT/lo0tAAgODm72GBcWBc7TV9i/UomYSsDRVvBUqTkVjrcgdAoAHhEeGLt6PDFXnVuFo/99CDzHg+d5gwbUoi4ytkZ46SfJm6dni2FYA6kLmiRvOdCcLQvE29sb69atw7p164we9/f3x7Zt25o9f8WKFVixYgUxZ+xamzdvJsYSicToubrExcUhLi6OmGvS/9Ll4cOHcHR0JPS2KBRTo+/V8vb21uYkdjscB+tN/9LmQAEAb20D2aIVgEiMG99ew0Sd5VaOVhj2F037nPS863hYSVbqxfQnvVqnHsih0Gn/19NBhN5OrX8EBAUF4dIlwdMWERGB+vp62NnZaRLlR0+C1R7hvcL2/HE8+eJL2HPuG+3czexLGBk5ET08mtcq6zOnH4qTi3Bre6p2LvvkfVzZcBFDXw8DlDriqawVGFt/oLbAyJXaxwg9z9b1MgXkah5WIhO1ZWoB1iEEXI2Q38bV3Qfch5lwR5S2Qj1blEdKQ0MD0tPT8e9//xvz58+Hra1t6ydRKI8IU4YQJSf3QpR1i5iTz3sTvJcfyjPLkL6P7H/4xJ9HwMbFBjzP43TKfuJYkHskPJx9iTn9EOKkAOs2ebsdHByI5tsLFixATk6OdqwaPQm8znVEOZkYKPGCtyvpETxydUerOUYx74+DVxRZAXlp/QVkH7lMzLH2wWDYrimq8bcXo4eO9IVcDSSXmad3i8o/WC7U2KI8Uj799FOMHj0aLi4uePvtt029HQpFi0wmIyrvgEdnbDFlxZDu+pqYU0UNhyp6CgDg3D8Twev0IHQKdEb/lwYAADILUlBUQRqJ/f3HEGM1x+OYfr6Wf9tbD+mGEjdv3qxtTA0AvJsn1H2GEOul545i0hCy8CX3YSbS8q63eB+xlRhTv3oKNq46e+OBY39LQ02JMNdV+VpN6Hu3zFUCwsDYqqXGlqXQbmPr2LFj4Diu9YUUihFWrFiBsrIy/Pbbb3B0dDT1digULfn5+YTnxdXV9dH8jvI8rL77Nxi5bvjQFvKX/wdgGOSdy0VOAlnmP3pFNMRWYk3rrpS9xLE+gUPhbOtBzCWVKlAuF963naSMQWJ4S+ganWlpaSgsLIRSKUhIqPQS5SUXjiHEszd694gi5o9d+7lZodMmHHwdMfnz6WBYwVumqONx4vP+UMk1H1ldb2yReVuXzDRJnrUPhq7cBd9YCF7V2PwJFLOh3cbWnDlzEB4ejhUrVuDGjRvdsScKhUJ55BQUkPk/jyoxXnz+KMS3SIkU+fOvg3f1BM/zuPjxOeKYV5Q3QiZp1N3vPriJB2WkIRYT9RT0OZxHerUm9LCGhG17TpKzszMcHBy0Y47j8ODBA+1YNXAUeDvhOFNXA1HyBUwc/BwRqiyveYikjIRW7+c/KgAj3yG9cxX5Dji3JQI83/XGlr7healEAc4MZRUYkTUYW93wMA+unuptWQLtNrZ27NiBMWPGYMuWLRg3bhyGDRuG9evXG7xRUSgUiqXA87zBe5i/v3/337i2yqD6UBU+AKoYjRBp9qn7KE4uIo4PXTIcDMP87tUiKxAjAgbBx9XQSDSQfGhDFaIuxqoydUOJkFpBOZysJpScPQwvlx4Y3IvU4kq4sRcyRQNaY/DioQidTLYMunvBB2mnAjvVE9EY4c5iOEkFo7BaweNudcseOFNhmLdFjS1LoN3GVlxcHL799ltkZGRgw4YN8PHxwQcffICoqChMnz4dW7duRW1tbXfstcuhgnCUjkJ/dx4vSktLIZMJBolUKn0kjdGtdm0CUy80vOYlUsgXvAWwLHiOx6WPzxuc4xGpCRHeL7qD/FJS6DOmv6FX636NChk6hoOYAcb7tb/CssnYaqpc1g+7NuWXNSG6eQVMVTnGDZgJqVgI0zXI63AmtXmh0yYYhsGEjyfDJYgsorm4PRRF10vavf+WYBkGQzxI79aVUkvJ26JteyyBDifI29vbIz4+Hnv37sXt27fx3nvvobKyEkuXLkVYWBheffVVnDxpvMeVOWBnZ4eqqir6oUnpEA0NDY9OEoDS7eh7tfz8/MCy3Vs/xN5Lg/jMQWJO8fR88F49AAB3D2ei9E7zRoV+BWLvHlHwczfUxDqs59Ua6W0FZ6v2P5uPjw8kEolWBqKhoQHl5eXa41xgL6h7CIYAw3EQXzgOB1tnjO43lbjWxTvHUFXXuiCn1F6KuH84QGItGIu8msGhP+1HfUl9u5+hJfSNratmqyRPKxItkS7R2VIqlVAoFFAoFOB5Hg4ODrh48SJ++eUXRERE4Ouvv0bfvn274lZdhlgshoODA2pqalpfbEbU1NQ8donllvhMYrEYVlZWrS+kWAT5+fnEuNtDiJwaVj9+Akbnyx7n4w/lJI0mHc/xuLT+AnFKz/E9gd9z4bOL05HzMJ04HhtlXLPuSB6ZQN0WIVNjiEQi+Pn54ZdffsHw4cMBaEKJWlkIhoFqzGSItm/UniM+ewTKyXMwKnISkjJOobZBo5Wl4pQ4fn03no1+vdX7OrnmInphJk5u7K+dqy+px6ElB/DkV12nMfWEXp/EJEvxbNXngOfVYBjaX9ac6bCxVV1djb179+Lnn3/G5cuXIZFIMGnSJKxevRpPPvkkWJbF0aNH8c4772Dp0qVISGg9KfJRIxaL4eTkZOpttIuSkpJHk0vyCHkcn4liOSiVSpSWku1kevTo0a33FCcegig7g5iTv/hfgFjTg/HesbuoyBK8RgzLYMCCwVpjK+EGWYEY6tsX/kYEQ6vknIEienvztXQxlrc1aNAg7Vg18klId34F5vcG9qLCHLD30yENicCTA2fh1/Pfatem3r+IkZFxRr1xunC1dxE8pAT9J+cg9XCQdr7wSgGubxIBXfSdZ7A7aWylValQq+TgIDEvhSTGyh2QOALK3x0Fahn4xiIwtt37O0vpHO3+LTp48CBeeuklhIWF4S9/+QuUSiXWrVuH9PR0fP/994iLi4NIJALDMJg0aRKWLVuGW7dutX5hCoVCMQEVFRUGkg92dnbdd8O6aljt+oaYUg2N0WpV8TyPa19dIY6HzYiAU6CmAXRuSSayi0mB0+a8WiceyKDWyZQIdxYj2LHjAQ39L0X6uW68owvUUcOJNZJzRwAAA0JGw8uFPP9IUstCp7yyBrxMo302ZNY9+EZWEMdvbU01dlqHcLZiCUV9jgeulypbOMM0MAxDQ4kWSLuNrRdeeAHXr1/HkiVLkJSUhOPHj2PBggVCJ3g9+vTpg2effbbTG6VQKJTuQLcXItD9IUTp3i1kUrzUGvK5S7TjB5cLDCoQB/9pqPb/z908RBwL8e2DQK/eRu+lL/nQGa8WoGlMvXTpUmJOVwICAJRjSM0t8aWTgEIOlmUxaSgpdJrzMB3p+cnN3k+3HyIr4jHmzTLY+wgSE02GGqfqGu3HoZYaSqTipmZPu42tX3/9FTdv3sS7776L0NDWtU4GDx6ML774otV1FAqF8qjhed7A2OrOECJTXADJKTIEqHjqRfBuQuXj1S9Jr1bQuJ5wDxNESvV7IE4YZPzLrJLjcfyBXoueThpbADBixAhirG9sqfsPB+cgfPlmGuogTtZUVYb69kUvv37E+qNXmxc65WoziTHr7odx/5xgsE63n2JnGOphocYW9WyZPe02tnbt2oVr1641e/zatWtYsmRJs8cpFArFXCgvLyeU0CUSCby8vLrtfla7vtbmMwEA5+4FZdxs7bg0rRS5p0ndpCF/egKAcbmRyMAhzeY8XShWoEYhnONuzRpU3HWEefPmEeOCggJyb2IxVCNJg0h89rD2/+OGPK8ndFqMqxmnjd6LqyGNLaU0AMHjeiLs6Qhi/sZ311GZXdmexzCKsYpEc6xYp8aW5dFuY2vbtm3Izm5eRC03Nxfbt2/v1KYoFArlUaDvlfH19YVI1D1VXWzmTYivniHmFLMXAVIhwzv5G1JJ3mewL3yH+gEA7uReJY4xDIPxA2c1e78j+WQV4sQe1hC1QzW+JXRfo/r6elRVVRHHVaMnketvXQVToZGx8HLpgUGh0cTxUzd+RYO8zuA+hsaWRsw0ZtVYon+iWqHGuQ9Pt/9B9IhwFsNerGMIyjlk16pbOMM0sHb+ACPkl/HyMvCKahPuiNIaXV5mUVFRQUviKRSKRVBYWEiM/fz8uudGPA+rHV8SU+rgcKiGjdWOG8obkHmArFAc8qcnwDAMlCoFLtw5QhwbEDIKns6+MAbPG6rGd0UIsQkfHx9irG+0cgEhUAcKeWQMz0N8/rh2PH7gM5CIBS9Sg7wOJ67tJq8hLwevECoywUqglGie18bVFtErxxLr7x+/h7xzZEPu9iJiGQyygFAiw0rA2pGVodS7Zd60qSzl/PnzOHdO6M914MAB3L9v+IOtqqrCnj17zE5Ti0KhUPRRq9UoLi4m5nx9jRsvnUWUlAjRvTvEnPz5PwE6wqm3d9yEWiF4UZwCnRE8XiPncP72YdQ2CJ4LESvGuAEzm71fdiNDeGSkLDDOr2u+BM+fPx89evQghGALCgoM3vdVYyZBlCt4piRnD0M5bR7AMHCwdUZ0v+k4mfyL9vjVzNMY1DsaPdw1ITJ9rxZrHwLoaEmFPR2B6zu9oCv7euYfCZh3+CWwoo77EYZ6SHCmSGhEnVSiwJwQ2xbOMA2sfU/CwOLq7kPkOtCEO6K0RJuMrbNnz2Lt2rUANK7rAwcO4MCBA0bX9urVC2vWrOm6HVIoFEo3UFpaCpVKSMy2tbVttqq6U6hVsNq9iZhSDRoFLjxKO+bUHG5uvUGs6f/iADAsg5qGSpy5+RscdI4Ni3gSzvbuzd7ybAUZCo32sYJ9F+lFffrppwZFBUVFRVCr1UR4UTliPKTbvwCj1rzG7MMCsHdvg+ulMcpG952MG/fOo7xGY/Dy4HHg4g9YPHUVWJY1TI53JCsuGYbBE/81Ar9dEubKM8qQuS8d4c9Edvj5LLYikfZINGva9Ne3dOlSZGRkID09HTzP4+OPP0ZGRgbxLzMzEwUFBbhy5QqGDBnS3fumUCiUTmEsX0s3cburEF84Dvah4AXiWRbyZxcRa7JP3kftA6GnrNhajMjnNEbJiWu7oVQJH/g2VraINdIDUZfEctLYmhzQdSHEmJgYuLi4EFpkKpXKwEsIeyeoB44kpiQ6ifJikQTThr9IHC8sz0FSpkYA28Cz5UA2pQYAjwgPg7lLn16AWtnxPCv9JPlbFUo0dJG0RFfCOpAitlwd7ZFozrTJ2LKzs4Onpye8vLyQkpKCuXPnwtPTk/jn4eHRvUKAFAqF0oXo52t1SwhRpYR03xZyavQk8L6BxFzKD6TWVNiMCFg7WeNBWTaS750jjo2MnAQbq+bfa4sb1LhZSxpbk/xtmlndflJSUsAwjEF+m35/ScCI5tblBEAu5JKF+vZF36AniDUnru9GbUM11HrGlsjRuJYYACJsWJ1ThbRf7jS7tjXcrUUIdhBePzUPJJeZn7ipYduefPCc+e2ToqHdfuWAgADY2ppf/JpCoVDailKpREkJ2eS5O4wt8dnDYMLYJjwAACAASURBVEsFgVJeJIbiKdKbU3mvAvl6id39XxoAnudx6MpWg2v26zncYE6XQ3pCpoPcJfCz6/oKS309Mn1PIQCo+w0F5+SqHTOyBoiTEok1k4fOhVQseN5kigYcvfI9oBI8fRDZtNiOptdU0hBL2nCxU0Kn+npb18wwlMhIHDSte5rgVeDq80y3IUqLtJqzNW3aNLAsiz179kAsFmP69OmtXpRhGOzfv7/VdRQKhWIKiouLwXHCh7GjoyMcHBxaOKMDKOSQ7v+RmFLFTAXvQVby3d55kxj7DPaFZ18vXM86i7ySLOjDMixaUn46qNd4empA13m1AMDb2xuAYeVmeXk5ZDIZrK11QpYiMVSjJkJ6aId2SpJwAKrRcdqxo50rxg14GkeuCmtScq4jzEOKnjYaI4d1CG2x0XLUywNxb+cxbYFBTUENMn/LQLieHldbGeIhxc77wut41QyNLUBTNKCWl2nHXN19iBwMe2RSTE+rni2e54k3JY7jwPN8i/9011MoFIq58ShCiJLEg2ArhAbXvEQCxfQXiDWcijMIefWLj0KDrA5HdYwPAOjp03rSd7WCIyrpAGBaYNflawFAeno6AMDa2hqurq7EsaKiIoP1ypipxFh09xbYfLKafXjkBHg6k56rIxWOkHOaHDrWofkQIgDYedojYnYfYu7af650WJDUQNzUXI0tBypuaim06tk6ePBgi2MKhUKxNLrd2JLLIDlAerWUY2eAdyUTunMTs9FQWq8dS+2lCJ3cC79d+5EQ+RSLJBg7YAaAT1u87fECGZQ633VDHcVEc+WuYM2aNVixYgUAzeumW5lYWFiI4GBS0Z739ocqchDEd65r58QJ+6F46S/asYgV4+lRC/DNodVaA6lGLUJilT0muta2mK/VxKBFQzVte363r8rulCLvTA4CY4wr7LdEX1cJrESA/Pc8+8IGDoX1avh2Qzi2M7D2eknytTRJ3lzpclFTCoVCMWdkMhnKysqIua42tiQn94KtFtrH8FJrjcaUHnd23SLGvaaG4UFtNq5nkUrzsVEz4GTn1up9f8sl87WmBVp3eYVlkwwQYBhKNJa3BQDKsWT1pOT8MUDWQMz5e4RgZGQcMXe9zhb5MomB7IMxXIJdEDqJrFhM/rb51nItIRUx6O8qIebM0btlrG2PObYXonTA2EpLSzPIxzpz5gyeeeYZjBs3Dhs3buyyzVEoFEpXox/qsrOzg41NF+Y1yWWQHCJDgMonZ4J3IkNujRUNuH+C9ESEzYrAgYs/EHMeTr4Y1Yes6jOGTMXjRAFpbHV1vpY+3t7ehDFXXV2N+vp6g3XqQaPAOblox4ysAeJLpwzWjRv4DFztydfpUKUzVGJXg7XGGPw6WdmYm5iDqtyqZla3ci1LSJK38QZEOj9jVR14WUnzJ1BMRruNrffeew9btwoVMgUFBZg3bx5SUlLQ0NCAd999F9u2bWvz9TZt2oT+/fvDy8sLMTExuHDhQrNrz507h4kTJyI4OBje3t4YOnQoNmzY0N5HoFAof2D0Q4guLi7NrOwYksSDYGuFD3je2gaKKXMM1mXsSwenE/Nz7umCDEkSSqpI79BTI+ZDLGo9FHjigQx1KsGr4W3DYrCHpIUzOo9UKoWHBxka1X99AQBiCVRjphBTkgTDIiqp2ArTIkidxkoli4SUvW3aj/cAH3gN8Cbmbv50o5nVLWOQt1VmhsYWw4K1J8OkNG/LPGm3sZWamoqRIwWhup07d4LjOJw9exaXLl1CXFwcNm3a1MIVBPbs2YPly5dj2bJlOHPmDJ544gk8++yzyM/PN7re3t4eixcvxqFDh3Dp0iW89dZbWLNmTZvvR6FQKPrGQJeqxquUkBzW82qNfxpwMLzHnZ1kCLHHZF+cvfkbMTcwdDSCvMPbdOtf7pNViNMDbcB2g0jr6dOniXGbQ4mx08Dr7EeUkwk2O91gXYCkGgPtyRDj+VuHkfMww2CtMfq/OIAY39l5CypZ+/Wn9I2tG2VKqDnzC9EZ5G1RY8ssabexVVFRATc3IXfg+PHjGDNmjDbnIS4uDnfv3m3TtTZu3Ih58+Zh/vz5CAsLw7p16+Dl5YXNmzcbXT9gwADMmjULERERCAoKwpw5czBu3DhcvHixvY9BoVD+gNTX16OqSvA6MQzTpcaW+PwxvQpEKZRxzxqsq8gqR+kdIdzDsAxue54DxwueLnsbJ0waOrdN961VcgaNp2f17N4QYhP6+W6FhYVG84Z4Dx+o+5FhPsnJfQbruJpMxDrXwVEkqMDz4PHLma+hUMkN1uvTe1oYrJx0dLuqZMj8rW2Gmi6B9iK4WwsfkfUqHmlVqhbOMA2GFYk0Sd4caXeZioeHB/LyNMJpVVVVuHr1KlavXq09Lpe3/scAAAqFAjdu3MDSpUuJ+XHjxuHy5cttukZKSgquXLmC5cuXt7guK8tQq8aSedyeB3g8nwl4PJ/LnJ6p8XcvVXZODmwUrYd59FvKODg4QCwWd80zcRwifiXzrcqiRqGgpBwoKSfmM79PI8aScBaFIBXYhwbF4UGekF8mLSxEfwA5OTlQ6D3roRIRGtVCo2lvKw4u1XnIqunMAxknNjYWSUlJ2rFardb0Mvxd8qe+vh6pqalGxa+dwoagZ6rw/i66cBzZQ56Eys5RM8Gr4FNzF1YsjyluNdhRIoR4q+rLkJR9FFKx8JwNDZqff05ODmxthdfEd6IfsncJRseVby5BEtX+RtzhNlY4JxMqEA/dzoeVd8dbAelTWCvsX1HesTClRCGFbiBXXpGBfDP4GzWn94nO0quXYauo9tJuY2vs2LH4+uuv4ejoiHPnNG0kpkwRYvHp6ekGbmVjlJeXQ61WG8T7PTw8DJSd9YmMjERZWRlUKhXeeecdLFiwoMX1XfFCmQtZWVmP1fMAj+czAY/nc5nbM9VKpbgMIDgoCA6Bga2u1w8h9uyp8Qp0yZvppZOwrhTeu3iRCLbzXkcvNy9iHc/zuHCerDas6E0qyA8MGY1xw0h9KkaqCWsFBQWB13vW8zllAIQvuhM91Ajr3X0/J/3X6969e8RrK5VKjb+mPYPBJewGW/YQAMCqVeidcwvKp+cDANQ1mZAVaLxHQdYKDHXikFQteJfulaRiaGQ0+gQNBQBUVwuviZOT8Jp4vOlOGFvV6VVwkjnCsx/5s2iNmPoanKsUlOzzGBf06tV1OX7SCmH/ga6t//4ag1cHoKHk38DvXlGxuhyhQT5gJPZdts/2Ym7vE+ZAu8OIK1euREREBN59912cOnUK7733HgICAgBoSqr37t2L6OjoNl9PvyyZ5/lWS5UPHTqEhIQErF+/Hl9++SV27NjR4noKhULheb779LV4HpIDZGsd1ciJ4N0MP9xLbj1EVbYgCwERD3l4tXboYOuMyU8YykQ0R7lMjVMPyIhCnPujDXe1NW8LIjGUE2YRU5JTewGlxqvD1ZA5XON6hsLTmbz2vovfoaahEi3hHOSCwJggYi5tz+0WzzGGft6WWVYkiqzA2PoTc1xdtol2Q2mOdhtbHh4eOHz4MHJzc1FQUIAlS5Zoj/E8j/3797ca1gMANzc3iEQiAy9WWVmZgbdLn6CgIPTp0wfz58/HkiVL8K9//au9j0GhUP5g1NbWoq5OEAoViUTw8mqfp6M5RDcuQlQgJCbzDAOFEV0tAMjcTxoU8tBa8DZCrtbTIxe02Ghan305MugUISLMSYxedt2XyP3OO+8YzOkbrUVFRc3qPSmjp4C3FvLJ2OpKiC9rZCDU1WR41cqlD2ZHvw4RK4TyGuX1+PXct63qSfWZ048YZ+xLg1rZvhDgQHfS2EqvUqFGYX4dUozpbVHMiw6Lmjo6OkIqJX8RbWxs0K9fvzaVUkulUgwYMAAJCQnEfEJCAoYNG9bmfXAcZ5C/QKFQKProe1u8vLwgFneBujrPQ3rgJ2JKNTQWvLe/4VKOR+YBMllb3k9I2B/cKxq9e0S16/Y/3yMr92b3tEE3FCFqaVKP18Xd3R0SiSAzIZPJCGV5Alt7KKP1ZCCO7gJ4Hlw1aYiyjuHwcQ3A+IGkN+xu4U1cTj/R4j6Dx4dA6ijkaTWWNyI3MafFc/RxtmIJBX4eQHJZ+ysbuxtDY4smyZsbHXqnUavVOHXqFHJyclBZWWnwDYNhGPz1r39t9TpLlizB4sWLMXjwYAwbNgybN29GcXExXnnlFQDA4sWLAQD/+c9/tP8NDAzUxoLPnz+Pzz//HAsXLuzIY1AolD8Q3RVCZDNvQnSP7G+onB5vfA/XHqCuSMgB4iUcFGGaLHYnO9c2Vx82kVapxOUS8svm7J62UD1s12XaRXh4uLY/YhMsy8LX1xe5uULuWWFhIVG5rotywixIju8B8/tnhyjvHpjU0+BlOoKzjAisQygAYFSfycgsSCHkH44m/QyPsa81u0+xtRi9p4Xh1rZU7VzaL7fR88n2NWoe4iFFZrUQlr1WpkCMb/uT7bsTkUMIdE1A6tkyP9ptbKWmpuKFF15AQUFBs27cthpbzzzzDCoqKrBu3To8fPgQERER2LlzpzYHrKCArM5Rq9V47733kJeXB7FYjKCgIKxatarVBHkKhfLHxli+VlsKedqC9MjPxFgVNRxcQKjRtZn7SCNFEVYDSDXvo0+PWghrqWEFX0v8mEWqtY/xliLYUYysbjS29Cs6m9A3th48eIB+/foZXct7+kI9eAzEV4VCAeb8T4COpBhr3xOMSCPhwLIsZo1ZhM9+/RuUak1+mopT4uAl0qOoT8SsPoSxlX3iHmTVMlg7tb059xAPKbbdFbyHltG2Jxc8pwLDdm1fTErHafdP4q233kJdXR1+/PFHjBo1qtMaNa+++ipeffVVo8f0m16/8cYbeOONNzp1PwqF8sejoqICMpmgQyWRSODu7t7p6zLF+RAlk10vlJMN1eIBgFNxyDpkPIQ4tPdYhPr2bde95WoeO+6SQqYv9W57rldXo+8pLC4uBsdxYFnj2SqKqfMIY4tT5EL3I4l1JMVcne3dMSxkMs5lCmry5TXFaClpxWewL5wCnVH9e8setUL9/+ydd3hc1Zn/v/femZE06r3YKpYsq9mSbLkXudsY00wJLbRgMIQkQNgNkE39JbuEZTcLG9qGaidgTDEYY+OGO+5Fkq3ee+9tyi2/P8bWnXOnaCRLM2NxPs/Dg8+558w9MxrNvHrL90XpN8WYcb/joVqlCv/5VoNDhVzOhNEEgNEEQzJckRiRjJAGasH4jLwJN2V8GJWC/NNPP43169ePrfIyhUKhjBNKr1ZkZKRNI2AkaPZ8NhQKAwAhdhqE5Eyra2tP1GCwXTaORE8Bhql9CPAOwdo51g00e+ysHkSH3qzdj4bBzbHjL2SakWHdUAkMDCR6TBqNRrS2tlpdCwBifDL4GXOGxoZQ0njh/FMs9sSHTkd6/AKL+cqmQos5wBRlSbkjlZgr/GJkVYlpgWp4cfLZmgdF1PaPndbWWKEUNxV6ad6WOzHiT5uwsLCxSSqlUCgUJzEuIcSeLqiO7yGmjOt+BFvZ6WW7S4ixIaUbUEnYsPhReKhHZiRJkoS38vuIuR8laOGpGn9vy5EjR6zOMwxjVU3eHoZbHgAASAzAh5BfR0rP1lVunv8gAnxIr+Tes5+ib9C6gmvyBtLYajzfgJ56x9VeVSyDzBBL75a7Qdv2uDcjNrYef/xxfPLJJzAa3a8ig0KhUJSIoojGxkZibiyS49UHd4Axyl+6YlAY+DnLrJ9BEFGyRyH5kNaNeckrER+ZanWPPc60GHBeURX3WIpzQohPP/20zWvK19Wm3tYVxGnpEJIzwAcwkNRmhqLaH4xXpNU9nhot7sp+Aiwjf30N6Hvx5ffvWs0j9o8JQOQs8lxKw3c4shQSEOda3e/7z7JtDzW23IkRG1tRUVFQqVRYsGABXn31VXz++ef48ssvLf6jUCgUd6C1tZX449DT09MheRq7GPRQHyA/54xr7gBseP1rTlXB0GlmmHkK8En3wuqsH43q9m8VkInxayZ7INFfbWP12LJ582ab15TGVktLC3jevsCq4eYHYFR4tVRspN2cqJiwRCzNuIWYK6nLtSkHkXhTEjEu3TWyXonXg7ipNa2t4bTIKM5jxPFAc5mFP/7xj1bXMAyDDRs2jP5UFAqFMkZYk3y41uRm1Yn9YHtlfSzJUwvj0vU21x/+BxluNEzrwd1LN8JD7XhV3FUaBgR8XU0mxv80zXWtWczx8/ODj4/PkHisIAhobm62G7YV0rLAXw4GIIf2NEVNwELJZkgWAJam34LS6hMYlJU0sPfsNkyJSEF44GRi7dQbp+Ho/5M1HZsuNqKntht+0f4OPa/ZiiT5nHYDjKIENetGSfJekQDnCQhXCkGMPZD0bWA87YuEU5zDiI2tnTt3jsc5KBQKZVxQhrKuOV9LFKHZ8ykxZVx2E6C1bvBUNhWh4/sucJC9I3FrpiAuwnpO0nBsLR2AKMk6T6kBKiyNdB/dp6ioKJSUyGG6hoYG+685w8AY5QnwsrHlUdIC4ewRCHOX2dzGsRxunHMfvqh8Z2iOF4347Ohb2LT+91Cr5NfbN9IXkbMnofGc/F4o3V2CrE1z4AiTvDlEeLFoGjQVJOgEIL/DiExFeNGVMAwH1nsKxB65WEDsqwBLjS23YMTG1uLFi8fjHBQKhTLm8DyP5mZSdOpa87W4/HNgG2uGxhLLmkKIVjDweny1dQu4niB5vUbETQ/dM+r7f14xCPjLYdAn0nycKkNQWGi98u8qkyZNIoyt+vp6zJlj26iRjL0QebO2bZIEVZsI1efvYGDWIkBlOzzq5x1kMdfcWYf95z/DjfNIYdlpNyWRxtauYoeNLYZhkBWqwa4aWT7kfJvBrYwtAGB9E0hjq7ccCHG8Iwtl/Bh17fPg4CBOnDiBHTt2oK2tbSzPRKFQKGPCVa2nq/j6+sLPz++aHlP93Q5izM9ZZrXhNAB8d3E7dOfInKWoRVHw9ht92K9fkPNwQjxZ/Ch+ZEKo10pOTo7d60pjtq2tDXq93sZqQOgh86dUnRJYHmCb601tfBwgOWYmMT5ZuA+ldXnE3NR1iYCZTdqc24Tumi44ijJv62zL9ZG3RXEPRmVsvf3220hKSsJNN92ERx55BPn5Jt2S9vZ2xMTEYMuWLWN6SAqFQhkNY92ih2lrApdzkpgzrr7d6tqallKcvLwXHgVkXlD6bVmjune73rIB8tMzfJwi92DOvffabymk1WqJAgRJkiyqQc0Ruy4TY3Wb/Dw1X20B0z68HP7KmXdYyEFsP/4uIQfhE+GLqDlkLlfpCKoSs5RJ8u7YI9GXyj+4KyM2tj766CO8+OKLWLVqFf72t78R1Q7BwcFYvnw5rUakUChuwVjna6kPfwNGko0BISYB4tQ0i3VG3oAvj78HtkUDrkPOp2LVLKasjLdY7wjvF5G6WuFeLB5Ndp1ivD2Ur7M9CQihmxQZVXXJrxdj0MHjo9eHvZ+H2tNCDqJP120hB5F44zRiX8XesmEf+yozQ9TmjjGUdvPosmIAuxLWOxbmX+vSYAMkfsD2BorTGLGx9cYbb2Dt2rV4//33sW7dOovrmZmZKC4eWVkthUKhjDU6nc4ixeGaPFtGA1RHyBZixhW3Wa2YO5L3Ndp6GqEpJL1aMYtj4eE78mT2xgEBn5aTFYjPpvtCq7p2FfzxwFFjSxINEBVhRMy9jxiqzh8Dl3tq2HvakoM4U/Td0DhhLdmzsvFiA/qbSSPWFr5qFikBZJrzhTb3CiUynCcYLem9E/sqXXQaijkj/k0tLy/H2rVrbV4PDg5Ge3v7NR2KQqFQrhVl6CooKIhoJzNSVOeOge3pHBpLXt7gF6y0WNfS1YDjl3cDADwKyPywhBumWax3hL/m9cLciRKlZfGwi/ogvvrqq8OuiYiIIJL2u7u7h+QgzBF7ywBRNlgYjxAIS++BEE+26vH44L+A/l7ldguWpt+CmDDSoNpz7hM0d9YBAHyj/BCWbpZfJwEV3zne1mZ2mFLc1L2MLQBgFf0QxT7atscdGLGx5evri+7ubpvXy8vLx6TBK4VCoVwLYx5CPPgVMTYuXgt4ksnpkiRh58nNEEQBbLsGqmbZuGNYBglryJwaR6jt47G5mBQxfS7D1+m5Wld5+OGHh12j0WgQFhZGzFlr3SN0kSFE1j8NDMdB/9CzkMxCgmxnm0PhRI7lcOeSJ4j2R7xgkoMw8ibDKGFNIrGnfAShxOtC3FSZt9VL87bcgREbW9nZ2fjoo4+sVpfU19dj8+bNWLVq1ZgcjkKhUEbLWBpbbE05uJJLxJxxxa0W63LKv0dVs6ktj0ch6dWaNG8yvIJGXjn417xeGBRerQcSXZerFRAQ4NA6R0KJoiJfiwsw5b+JcdNgvJFszq3+fi/8iy8Oe99A31DcPP9BYu6qHARgGUqsO1EDfa/taklzrLXtcTeVdsuKROrZcgdGbGz95je/QVtbG5YtW4Z33nkHDMNg//79+MMf/oBFixZBrVbjV7/61XiclUKhUByit7cXPT1yJRrLsoiIiBj146kPKuQeUmdBiool5gZ0fdhz9pOhsTJfa+oNpEfFEap6efyjhExwfjzFBxrOfZTLbWHN2DI3TCRJtOLZmj70b8OGRyBMiiOuR+/6B5iu4dNUMhIWIj1+ATF3VQ4iKDEYAVPkaknBIKD6sGN5TckBKviYeRTb9SKq+wSH9joLTunZ6q+GJLrXGX+IjNjYio+Px549exAREYGXX34ZkiThjTfewGuvvYaMjAzs2bPn2hWaKRQK5RpQhqzCwsKgVo+yd+BgP1Qn9hFT1rxaBy58jgG9Ka+I7VFBXUd6sRJGYWy9ktsLXuE4uSVu9HlnzkT5mg8ODqKz0yznbaAW4M3ysDgtWB8zA1atgX7Tv0HiOHlqoBeeb/4/QLDfbxEAbp7/oFU5iH5dLxLWkN6t8n2OhRI5lkFmCPk+cje9LUYTCEZj1vtTNEAarHPdgSgARqmzlZSUhC+//BIVFRX47rvvsH//fpSWlmLHjh1ISBh5TgKFQqGMJWMZQlR/vw+MXlYOFwNCIMxcRKxp6qjBudLDQ2NNERlCjJgZCZ8I3xHdt7ybxydllmX7LkrVGsJegZQ5LMsiMjKSmDP/uSi9WlxAGhiGI+bE2EQYbn2IXFecC80X7w97f0+N1qYcRLwid67qYAV4/fAGHGCZt+WeSfI0b8vdGJGxpdfrsWXLFjzyyCNYtmwZVq1ahV/+8pd48803sWfPHhgM7vemo1AoPywkSbLwbI3a2JIkqBSK8cZlNwEqldkSCd+e3UqEyLxLyX50yjwhR3g5twdmYvGY4svZXuxEtm3b5vBae3lbynwt1t9SrwwAjDffDz6NFILV7PoYXM6JYe9vSw6ixrMQ2lDZ82joM6D+VO2wjwdYSZJ3M/kHAGB9ad6Wu+GwsZWfn4+5c+fimWeewVdffYXKykoMDg6isrISX375JX7xi19g/vz5VGOLQqG4lM7OTgwOyppUarUaoaGja8bLFeWAa6gaGkssC37ZTcSaotqLqGgsGBozgyzYclJLK2HtyEKIxV1GfKbQ1XoidfQtfsaSu+++e/hFV1DqmjU2Ng61TxIUyvGcDWMLLAf9E7+BGECGBD3//hKYjtZhz2BNDmLvxW2IWELm8DkaSlQaW7ntRgwqY70uRpkkL/RSY8vVOGRs9fX14d5770Vrayt++9vfIj8/H9XV1cT/f/Ob36CpqQn33HMP+vv7h39QCoVCGQfq6sj8lMjISLDs6MQ/lV4tIWsJpED5S58XjNhzdiuxZnJzCiQzl1RQYjAC4y0bJtvjldxemH99pwSocEO054geY7zYu3evw2sDAwMJbbOrjcFFXSsknVkbHkYN1i/J5uNIfoHQPfU7Qg6C6e+Fx4f/PewZbMlBVIXmEuvK95ZBEoc3miK0HGJ9ZC+jUXQ/cVPLMGKZ21VN/tBw6BPoo48+Ql1dHbZt24Znn33W4q+VqKgo/PKXv8TWrVtRXV2Njz/+eFwOS6FQKMOhNLZGG0JkOtugunCMmDOuvI0Ynyrcj47eFnkPwyC4OoZYM1KvVmm3EV9UkF6tF2b6wf3rDy1hGMbi9W9oaIDYXUDMsX6JYDjSY6REnJaOhhVkH0pzr6M9rMlBtIRVg/GUX9WB1n405zU59Hjzw8mznmp2L2OL0U4COLNCCr4Xkq7F9gbKuOOQsbVv3z6sWLECS5Yssbtu6dKlWL58Ofbs2TMmh6NQKJSRwPM8mprIL8zJkyfbWG0f1ZFdYAS5ZF6MjIGQnDk0HtT342jeN8SerNhlaDpB3j/hhpHla/23wquVGqDCzbHu4dUaDdbytoQuUrPMZghRQcv8NeBnZ1vMq48N/51jIQehkqBL6CTWVDgYSlwQToaJT7c4ptPlLBiGteLdKnXRaSiAg8ZWQUEBFi9e7NADZmdno6CgYPiFFAqFMsY0NjZCMDOQfHx84O/vb2eHDXge6kM7iSnjSrIP4vf5ezBokFMmPNRemNo7C7xOrmrzneSLsOnhcJSqXh6fKbxa/5LhC9ZK/0VX0dXVNaL1SmOrpaUFujbS2GIDpsMhGAa6jS9AVGicqb/eArYoZ9jtSjkIQxLZAqjigGO5TRaerRYDRDcL07F+pEdV7HVcKZ8y9jhkbHV2dlq0XrBFaGgooaVCoVAozqK2lqwoi46OJnr0OQqXcwJsl9zEWvLwhHHRmqFx32APThaQuUuLp9+IuoNkCDNhTeKI7v/XvF6iAjHRX4Vb3UxX68MPPxzRem9vb0J1XpIkNHYY5QUMCy5ghuMP6KXF4C/+BMlLVtFnJBGer/8BTLv9UNlVOYirPxNDYi8kVn7B24vb0F0zvDE5zV+FAI38c+0xSCjsdEw6wllwvqRHlXq2XItDxpZer3dYEFClUlEJCAqF4hKU+VrR0dGjehz1d2QfRH7hakArVwMezdsJAy+HNs2ATAAAIABJREFUjrw9fTE3cSUqFZ6RkUg+1Pbx2KrQ1Xou3Rcc6z5eLQB45plnRrxH6d1qHJC9fazvNDCqkbUxkiJjoNv0b8Qc29sFz7/9DjDYD+nFhCViyfT1psfRCjDGkAVdFfuH926xDIN5ilDiKTcLJbIKY0ugSfIuRTX8EhNVVVU4f/78sOsqKx1re0ChUChjSU9PD7q7u4fG1kQ1HYFpqIaq4AIxZ64Y39XXjjPFB4nrS9NvQduFNuh75C9cz0AvRM1xPF/stUt9MJr1QJziy+HOePfyao2W6Oho5OfLulqNA+GQJFNUlgvMGNVjCjMXwrjmTqD+T0NzXGURPP7xGvQ/+Vci5KtkWcatKKg5j7buRhiSeqCpkg3pin1lmPlols29V1kQpsHeWlns9lSzAY8mj+qpjAuMdjLAeQLClTMauyHp28B4jk4GhXJtOGxsvfTSS3jppZeGXSdJ0qjc9hQKhXItKL1a4eHh0GjsV7hZQ33oa2IsJE6HGCN7CQ7nfgVBlENG/t5BmD1tGY7/4SixL35VAliVY5ITbToB/yglPSzPpvtC5WZerdESGRkJjuOG8un6eW/0GH3hr+kdtbEFAIbVdwAf/omYUx/dDWFKEngrLZWG1qg02LBoI97d/WcYknsBs4hw/dk66LoG4Rlg39C1lrflTjAMB9Ynnqj8FHtLwVJjyyU4ZGy98cYb430OCoVCuSbGJISoH4T6OFnZZi730NXXhotl3xPXl2fcBhWrthDFHEkvxM3FA9Cb9Qqe7M3hnoSRhdacxdatW4dfpEClUiEyMpL4GTUOhMPfYxCsf+roD3PlD3sxJBJo6Bia9vjn3yBGJ0BMtJ14HxM2FfNTV+NkwT7wYTqoWkwVn5IgoepgJZJvt3+umSEaeHAY+rnV9gmo6+Mx2cdhH8a4w/omWhhbCF3owhP9cHHoXXHfffeN9zkoFApl1AiiaNEPcTSSD6qT34EZkD1Mom8AITVw7PJuiJJsFQX7hSNz6mI05zahv7lvaF6tVSNmMVkxZwujKOG9oj5iblOqNzSce3q1MjMzh19khejoaMLYahiIQGqcFxju2mUtdI88B+m//wxGZ6rkZAQenn/7HQb/+HdChFbJqpl3oqj2IvRJPUPGFgCU7S8Z1tjy4BjMDNYQHq1TLQbc6VbGljJJnlYkuorRySpTKBSKG9HW1gael0N7Wq0WQUEjU22HJFkmxi9dD6hN4aLegS5cKCFDhdkzbgLHcijbS1Z6xS6bApWnY1+6O6sG0TAgJ2tpVQweSPS2s8O1pKSkjGqf0vht0YVA8h1BFaIdpPDJ0D32IjHHdnfA8/U/ALzR+iYAGrUHblv4KAzJPcR85cFyhxpTL1CEEo83uleSPOdLeleFnlKaJO8iqLFFoVCuexqseLVGmjvKlheAq5H/8pcYBsblNw+NTxTsBS/KX9z+3sHISFgISZJQvoc0tkaiGv9/hWSu1j0JWgR4TLyPZj8/P/ioZQ0xUeLQYowbs8cXZmfDcNP9xBxXdhkeH71ud198ZAoyl82D6CP/bEWdhPwDw+t2LY4kKxKPNbmXscVoowHW7IzGLkiGdtcd6AfMxPuNplAoPziUIcTR5GspvVpCxgJIIaZmxQP6PpwpIisQF09fB45VoaO0HV2VsrYgq2YxZQXZCNgWF9sMOK1IrH481X29WteErgmRXg3EVH3n2IZKDXf8BPyMOcSc+uAOqE5+Z3ff2rn3QEolDaXvtx0c1gs0L0wDldlTKO8R0NAv2N7gZBiWs2hKLfZQvS1XQI0tCoVy3dPXJ+c8sSw78nytni6ozhwmpowr5Wq2U4X7YeDlMn8fT39kJS4FAAuvVvTCGHj4kR4PW/xfAZmrtTzKA8kBjmkauoqHHnpoVPuEzlxEapuJubq6BhurRwnLQffEbyGGkv17Pbb8D5gO24KnnhovzNwwj5jTXRSQW3HS7u181CyyQslQort5t2jelntAjS0KhTKhiIqKGrHkg/rYbjBmuT1iWBSE6SYPicGox6nC/cT6hWlroVaZ7lG+d3RViC2DArZXkq15Nl0HXq3XXnttVPuEzhyEe7WAhZyfptRGGxN8/KD7xZ8gmQlxMwN98Hj3PwE7nqrFG1YCGvk616PGvi+/gM4wYHMPACyJUIQS3Sxvi/VVtu2hni1XQI0tCoUyoYiNdawKcAhRhPogqa1lXHErwJo+HnMrTmBQL+dVeWm8MTd5BQCgu6YLLZfNvDUMEL/KMdX4D4r7YVCImK6Z7P4Np5cuXTriPZIkQujMgZoVEOrVRlyrqakZq6MNIcYkwHDn48ScKv+cRajYHLWXBtFLYog5IY/FgQtf2L3XkkiFZ8vNjC3Oj3q23AFqbFEolOuWQZ3OYi4mJsbKStv4lV8G29Y0NJbUGhiX3GD6tyRZeLXmJC2Hh9okeFm6q5i4FjVnMrzDhvdOGQQJ7xeRifGPpfi4VcNpW+Tm5o54j9hbBhhNHqxJ2kbiWnV19ZicS4lxzR0QkknBVM2n/wfG7GetJHldGrm+2A9nir9DQ3uVzT1zwzygMfsmre4TUNPnPn0SGW0swMoGoWTogKinSfLOhhpbFArlukVZhRgSEgIfHx8bq60Tcv4wMebnrQB8/AEAlU1FaOmS78Ey7JBXCwBKd5UQe6etn+bQPXdUDaJ5UHZr+agY3J/oniKmY4HQIbd6m+RNGltNTU3Q68fBG8Sy0G18AZKn/Loyeh08trxqM5wYtyIejJlqv6rJC0ynCrvPfGQzWd5LxWC2Mm/LjbxbpiT5KcQc9W45H2psUSiU65aGBjLBeqQhRKalAX5ll4k5c8X4U4X7iGspMVnw9w4GcCWEeIkMIU5d55ix9bYiMf7eRC38NdfHx3FERMSI9wjtsrHlq+5HgJnwpyRJqK2tHZOzKZFCI6G/50liTpV7yqIY4iraYC0is8jkek2xH6qbS1BQfc7mfZYoJSDcyNgCaN6WO+Dy3+53330X6enpCA8Px9KlS3HixAmba7/++mts2LABCQkJmDx5MlauXIndu3c78bQUCsVd4HkejU1kSGikxpb60E4wkD0WwpQkiPGmbsKdva0oqr1IrJ+funro31ZDiOHDe9XOtRpwvo0U2nw8xf0T469SVFQ0ovUS3w+xp5CYi4klPS3jFUoETMK0wjRSPFXz0f8C/b1W18evSiDXFvkCAPae3wZesC6QamlsGdxKPNSyIpEaW87GpcbW9u3b8cILL+C5557D0aNHMXfuXNx11102/8r5/vvvkZ2djU8//RRHjx7F6tWr8eMf/9iugUahUCYm9fX1EAVZ08jHx2dkqvEGPdRHdxFTxhWyV+tMMamzFBEYg9gw2XM12hCiUu5h9SQPJPq7t9yDOS+99NKI1guduYBZiyNGG424BFKFvra2dqhJ9ZjDstA98i+QVPJrzHZ3QrP9favL49eQhom6ygeMjkVnb6tF/t5V5oRq4GXWXql+QEBxt/vkbVl4tnpK3MoY/CHgUmPrjTfewH333YeHHnoISUlJeOWVVxAeHo7337f+S/Dyyy/j2WefRVZWFuLj4/HCCy8gMzMTu3btsrqeQqFMXCoqKohxTEzMiFTjVWcOg+mT27RI3r7g5y0HABh4Pc6XHCHWz09dPfT4ow0hNg4I+NJC7mFkOWau5uWXXx7RevN8LQDggrIQGhoKLy+voTmj0YimJtuJ69eKFBVroS6vPrgDbF2FxdrA+CAEJshGOyMyUJeavFuHc79G32CPxR4PjsHiCDJv60CdZfGGq2C9lUnynZD0bXZ2UMYalxlbBoMBOTk5WLFiBTG/YsUKnD592uHH6evrQ0BAwFgfj0KhuDE8z1uEnqZMmWJjtRUkCeoD24kp45J1gIdJeiGv4iQGDXK1oNbDB+lT5g+NlSHESXMdCyG+X9QP3syhMNVPhRWTHBNAvR6RJInI1wIALjgLLMtaqPyPZygRAIzr7yXEThlRhOaj160my8evVoQSi/0AAHrjIA7lfGn18VcqZDu+q3efvC2GVVmGEnuKbaymjAcua0/e3t4OQRAQGhpKzIeGhqKlxbbSrznvvPMOGhoacPfdd9tdV1o6seLTE+35ABPzOQET83m5w3Nqa2uD0Sjnz6hUKvT19Tl8Nm19BZIq5S8bCQxK4zNgKDU16j2S8w2xPj4kHVWVsjFwaXsecd1/TuCw9zaIwLsFXgBk79uGkAGUlzlWGaZpaEA6gKqqKhgMhmHXj+fPydHH5owtCNeZyWpAhao2LaSOUqjVZOi0vLwcISEhw3onze89MGAqkKiqqoJWO/xr4r9sA+I/e2NorCq4gJZvPkV38ixinTqZNIA1pb6AAIADzhYfQoQ2EQFa8rtrKs8AkL11xxt1yCsqhRdn+zwNvfL5De3Dn/9a8BPC4YOCoXF79Un0dIeP2/3c4XNirEhMdLzXqS1cZmxdRfmLJUmSQ6GAHTt24He/+x3ee++9YXV1xuKFchdKS0sn1PMBJuZzAibm83KX51RXV0eM46ZMwbRpjuVMAYDHwU+JsZAxD7HzFgEAKhoL0TXQOnSNZVisXXAnAnzkKsSeEjPVcwZY+OCiYT1bW8sG0GmUeyj6qRn8YmEsfNWOBRiYK6r4cXFxkIYpBBjPn9Phw4cdfmxjTR7MTQgucAamJpm0rOLi4lBUVDSUq6XT6RAcHIzg4GCbj6d8Xt3d8mvi7+9AccTUqeALTkGVL3vb4o58hYG1twEa2cAS4xOQ+6fzGGw3hXxZHQd1tTeM8f2QIKG0/Rzuy/gF+dCShNjiZlT3mZ6PUWLQ5B2NNdG2hWo1HfL5Y4NGKMY7Qvjm+dDnHxoa+3EtCB+n94i7fE64Ey4LIwYHB4PjOAsvVltbm4W3S8mOHTvwxBNP4O2338aNN944nsekUChuhrUQ4kiETJnuDqhOHyLmjCs3DP1bmQSdHDNryNACgJKdIw8hSpJkIfdwf6LWYUPreoVvI1NCVCFy/0G1Wo2oKFJmobKycnwPxDDQ3/9zSKz8urOtjVDvIY1vlmMxZYWyKtFv6N+FNedR10bmezEMg1WKUOKBejfK2/JLIsZiTwkk0X2aZk90XPabrtFokJmZiUOHyA+9Q4cOYd68eTZ2AV9++SU2bdqEN998E7feeqvNdRQKZWJSV1dHhBABk5ipo6gOfwNGkCvFdIFhEGaY+iB29bWhqPYCsX5Biiz3IEkSirbnE9cT15NfYtY43WJAbrt8ZgYmxfjrkWXLljm0TjL2QewmNcy44LnEWJlnV1FRMe5VctKkOMK4BgDNro+Bni5iTlmV6FUaBDOVEBw4/7nFY69U5N9950bGFuMZDqj95QlRD2lgfPPkKDIu/bPqqaeewscff4wtW7aguLgYzz//PJqamvDII48AADZt2oRNmzYNrf/iiy/w2GOP4fe//z0WLlyI5uZmNDc3o7Oz09YtKBTKBENZhQjA8TY3PA/1IbIPYtvs5UN9EE8XfUd82YcHRiM2XDamWvNb0FHWMTRmOAaJNw1vbP1fAdmaZ020J+L9XJ7FMa4IHecASVbJZ7QxYLWkJys2NpZIG+nu7nbK57lhw8OQfGRPFaMbhObrfxBrYhbHgPMw+xl1sOCaZc9VeWM+KhoLiD1LIj2gMnsrlvcIqOxxDwkIhmHA+SUTcwJNkncaLjW2br/9drz00kt45ZVXsGTJEpw6dQqffvrpUEigrq6OyM14//33wfM8XnzxRSQlJQ399+Mf/9hVT4FCoTgRayHEkcBdPA62Uy55lzSe6MhYCMC63MOClNWEMVD8FSnOGbt0CrTB9tvs1PcL+LqalHt4MvX6ETEdLfZCiFfx9PTEpEmTiLlxDyUCgLcvDLc8QEypD+4A0yJ3JFBrNYhZQuZRhdfHE+MDFz4njHNfNYv54aQExH53koDwI/MaxW5qbDkLlycMbNy4EZcuXUJLSwuOHDmCRYsWDV3btWsXoaG1a9cudHV1WfxHdbYolB8GtbW14HnZU+BpptXkCJr9ZNk+v2g1hCu985RyD14e3kiPXzA0FgURxTtIYyt5Q+qw93yvqA+CWfgpyV+FpZHXr9zD888/P+waSRQgtJ8l5jgrxhZgGUp0irEFwLjiVoghcjUeI/DQfPEesUapJq8tJZP3a1vLUVyXQ8ytVuRt7apxJ2NL6dkaWTcAyuhxubFFoVAojqIsJ1dqNdmDrSkHV5xLzBlXmXJ3JEmySIyfnbgMapXspag7WYv+FtkYU3urLfSYlAzyEj4sHiDmNqX6jEh81d148cUXh10jdhcAvFlBgMoXrF+K1bVxcXHE69HZ2emc1BC1BobbHyWnTn0HtkruDDBlZYK5Uge6CruQ6J1J7Dlw4XOIZuHS9TGksXW8SY9OvQh3gFN4tqT+Gkj8oI3VlLGEGlsUCuW6QKfToaamhpiLi4tzeL96H5nQzCdnQpxsCgtVNRWhuVNOWWAYBnOTScHloq/I/JypNyRC7WW/zc628gF0mH3R+msY3J0wMm+cu5GcnDzsGqH9FDHmgueAYa0LTnl6ejq/KvEK/IJVEGIUVYef/n3o395h3ojIjCSux7dngDGzwJo765BfJXvxpvqrkRwg53oJErCn1j28W4zaF4zWPGwr0j6JToIaWxQK5bqgvLycyI8JCAhwuBci09UO1ckDxNxVrxYAnCoir6XEZCHAR65wNA4aUf4t+aWUNEwIUZQkvJlPyj08OM0b3te53MNwbXUkSQLfQvartZavZU58PJkL5SxjCywLw482EVOq/HPgLp8bGsevJqsSW461Y0b8fGLucO7XhHfrphjSoP6m2n28RzRJ3jVc37/1FArlB0NJCdn4OTExEY4G49QHvgTDy9ILYmgUhKzFAIA+XRcKa8iWMvPN5B4AoPJAOQx9sjynNtQb0Qvta3sdqNOjxKwZMccAm1ImfmK82FcOSdcoT7BqcMFz7O5RhhI7OjqcVmUuTJ8DPpVUkNd8+ndANBlPCWtJY6vuRA0WRN9AnLelqw6FNbJkyE2xytY9OvQb3SOUaKm3RY0tZ0CNLQqF4vZ0dnairY1snDt16lQbqxXoB6E+SMo9GNfeCVwJaxU3XVDIPUxGXDj5hVSkqEJMuiUZLGf/4/MNhVdrwxQvTPa5/uUeMjIy7F4XWo4TYy5oFhiV/YpNa6HEMgfbGF0zDAPDXY8TU1x1CVRnTZWpQVODEZwsezklUULniW7MmKLwbuXsGHofZQSrMdlbDpvqBPfplWhpbNEkeWdAjS0KheL2KBPjo6Ki4OPjmCio6vheMP09Q2NJ6wPjkhsAmOQeSpsvEuvnK+Qe+lv6UXWI1PYargrxUocRRxrJL9en0q5PEVMlR44csXudb/2eGHOhix16XKXxXFZWNu4Cp1cR45NhnLucmNN88S5wpfJ1mkK4tuSbYixNv5nI3WrqrEFRrem9xDCMhXfrmxr3CCWyPlMARs41lPRtEHWtdnZQxgJqbFEoFLdGEASrIUSHEAVo9n5GTBmX3wKYyT0YzKqxvDSk3AMAFG7Ph2Sm3RCUGIzQ6WF2b6vM1VoYrsHMEI2N1dcXTz/9tM1rYn81pIFaeYLhoAqZb3O9OXFxceA42RvU19c3bH7YWGK44ydkG5/meqiO7QZg2SWg/lQtvI0BSIsjw6NHcr8eMhBviiXztvbU6qAXnGM82oNhNWB9ScNW7C6wsZoyVlBji0KhuDVVVVUYHJQNIrVabaHNZAvu4gmwzfVDY4lTwbj6dtO/JQmnCsnE+KxpS6FRyRpYkiQhf9slYk3a3TPsSjc0DQj4vIKUe5goXi0A2Lx5s81rvDKEGJgJRu3r0ONqNBqL6lKlR3M8kSKiwWevJ8/01WZAr0NgQhBCUuWevZIooezbEizNuIVYX99eidL6PADAgjANQjzlr9geg4R9biJwygWkEWOhO9/GSspYQY0tCoXi1hQVkTkliYmJUKvtSy4AACQJmt2fEFP8gpWQAk35N1XNxWjulL0wDMNgXvJKYn3DuXp0VciJ2qyaRfLt9kOI7xb2wzwXOt6Xww3RnrY3TCCEVoWx5WAI8SrKUGJlZSUhYjveGG59EJJa9kCyXe1QH9gOAJh2E1nFV7qrGBGB0UiJySLmD13J3eJYBhumkN6tT8tJI9xVsP6ksSV2UWNrvKHGFoVCcVu6urrQ0NBAzKWkWBfHVMIV5YArI79EjGt/NPTvkwV7iWvJ0TMJuQcAFl6t+FUJdtvz9BtFvFdMhhCfTPMBx16/IqaOIvbXQuwzl2xgoQpdYHO9NSZPngxPT9kwNRgMFtpq44kUFArjmjuIOc03HwP9vUhcTwqC1p+uQ39zH5Zl3ErM17WVD/VMvDuBfK/srdWhyw0ETjl/8g8Gsa8SEu8ehuBEhRpbFArFbVF6tcLDwx3W1lIrGgvzGfMhXhGw7OhpRlENmRi/IHUtMdb36lH6DVkWn3b3DLv3/KR8AJ16My0wDYP7ptqvxLveKCwstDrPNx8kxmxgOhhNwIgem2VZJCSQIqNOq0q8gmH9fZC0ctiXGeiDZtdWBMQFImy63N4HElD2bQmigmORFE2qyh+7ZGohlxWiRryvnIdmEIEdVa5PlGc0/mC05t0XRFqVOM5QY4tCobglPM9bJMY7ol4OAGxZPlQFF4g588bDpwoPQIJsFEUExVjIPZTsLAI/KIewfCJ9EZMdZ/Oe1kRMH0m6/kVMleTk5FjMSZIEvukwMacKX26xzhGUxQ81NTVEzt644+0Lw/p7iSn1/i/AdLYh8SbSu1VyxRhfOuNmYr68MR/1bZVgGAY/Uni3trlJKFHp3RJoKHFcmVifAhQKZcJQVVUFvV6WT/Dw8LBQGreFRunVSp0FcaopT0VnGMSFsqPE9YWpa4mkd0mScOkfZB/F1DvT7Gpr7a3VobxHGBqrGOCxlImTGH+Ve++912JO7Cm0EDJVhY0sX+sqISEhCAiQPWKSJDk1UR4AjKvvgBggN51mDHpodmy2qEpsOFuP3oYeRIdNxZQI8g+Bq94tpbF1otmAmj7n5aHZgqVJ8k6FGlsUCsXtkCQJly9fJuYSExOhUg0vCspWl0KVS/bmM97846F/Xyg9Cr1RrgrzVHtjxhSynUzThUa0FrTIE8zwIUSliOkd8V6I8rbeD3CiwTcdIsZc8DwwqtGp5TMMg2nTSA9SYWGh0zS3AAAenjDc+iAxpTqyCwGaPoSlhxPzxTtMYdUlM24i5guqz6GtuwnxfirMCSULOj4pc713i1MmyfcUQRIFG6sp1wo1tigUitvR0tKC1lZSaNHRxHjNzn8SY2FqGoSUmQAAURRxqnA/cT0pIgsqjvwyzPsHGSqbsjIBftH+Nu+Z02bA8SYDMffTCST3YA9J5MG3kJ5CVcQKG6sdY9q0aWDNNK96enrQ2NhoZ8fYw2evhxguN21mRBGa7e8h5XbSSCn8ogCSJGFq1HREBMktnCRIOH7ZpNOl9G5tKRmAILpWc4vxigLUZjl1gg5iX4XtDZRrghpbFArF7cjLyyPG0dHRRGjJFmxNObhz5Be/4ZYHgCshwsLaC+jsk404FavGtAiydH+gfQClu8jE+PQHyARoJW8WkF6tJREaZARPDBFTJa+++ioxFjouAMZueULlAy549jXdw8vLy0JzS1ksMe6oVDDc8SgxpT59CMmZajCcWR/H0na0XG4GwzDIVni3csqPo6e/A3fFa+FltqeuX8D+etdqbjEMAy5AUZVIQ4njBjW2KBSKW9HT04OqqipibsYM+yG8q2i+eA+MWbhJiE2EkG4KEUqShGOXviHWpycsgJeGDHflb7sEwSCHU/xj/BFrJzG+oV/A9goygfup6RPXq/Xwww8TY75xHzFWhS0Bw167oakshqisrITBYLCxenzg5yyDEEsm7Ad8twVxy0hR3aLtJqmH1NjZCPKVuwsIooATBfsQ4MHi9nhSc+uDov5xOrXjKEOJNG9r/KDGFoVCcSuUuVpBQUEWTYqtwZblQ5Vzgpgz3P7IkFerorEA9W2VxPWFCrkHURBx6SMyMX7GjzPB2NHJ+nthH3iziNBUPxXWTJ64IqZE8rqhC0LbSeK6KmKlcsuoiIqKgp+f39BYFEWntu8BALAsDHc9RkypLp1F2jwyLFi8oxCCUQDHclg8/Ubi2tniQxjU9+MnSaRRv69Oj4Z+1+ZIWYqbFjg3N+4HBDW2KBSK26DX61FcTIbwZsyw3x7nKprP3iHGwtQ0CBmyqOZRhVcrOXomwgMnE3MV+8rQWyc3reY8VEj90XSb9+wzivigmPRQ/DTNB6wD550IGBv3A5JsMDDaaIsv8NHCMIyFd6uxsdHpxoAwfQ74ZDKMnFz3NTS+clunwfZBVB+tAgBkJiyCj6ec32fgdThd9B1mhaiRHmTWABrA9krXam6xvgkAa9aeytAOSdfswhNNXKixRaFQ3IbCwkKiPYtWq7UQubQGW3IJqiIyqd1w58Yhr1ZdW8WQqvdVlPk1AHDh3fPEOOmWZHgFelmsu8rHpQPoNpg1qfZgcc9U2+snEpIkgW/cQ8ypo25wyDB2FGWi/ODgIOrq6sbs8R2CYSy8Wx41BUieR/Z8LPzcFIJTqzRYkEZ6TE8V7oNRMOAnyaR3y9XGFsOqwfqRchZCV56N1ZRrgRpbFArFLeB5HpcuKZo+p6WB44aXT7DogZg2e6gCEQCO5O4krk+JSEZ0GNmHr+liIxrP1RNzMzeSyfPmiJKEtxWJ8T9J9oZWNbE/VteuNRkSYnc+pAGz14tRjVkI8SpeXl4WTceV7xFnIE5NA5+1hJjLMB4jxhX7yzDQZvJyzk1aDg+1bHT363pxsfQY7oj3go9KNkbbdW7QuieAzIcUO6mxNR5M7E8FCoVy3VBYWAidTq7QUqvVjivG15UTY8NdG4f+XddWgaJaUk3eulfrHDGOWRKLkORQm/fcW6tDRa8cQlOzwMbk0WlLXU9s27YNAMBVDIi1AAAgAElEQVQ3fEvMcyHzR9yexxGmTyfDuPX19ejo6Bjz+wyH/kePQzIz/KNRjsAweSwaRRRc8W55arSYm0zKXxy//C20nIj7E620b3JhmhQXmEGMhc5cmrc1DlBji0KhuBye55GbSyamp6WlEU2JrWK0rE7jZ2dDnCIbad9d+IK4PjkkHglR5Bd4T203ynaTrYFmPWZfvkDZmueOKV6I0E58EdO7774bkqHLUlsrat243C8sLAzh4aSQqCu8W1JENIyr5SbVDAPMCiD7RF7emgfpin7WgpQ1ULFyjlZXfxsuVZ7Gk2k+UNZbnGzWw1Ww/smAWfWopG+FNOhcTbMfAtTYolAoLqe4uJjof6dSqRySe1AdJ3OGJJaF3kwbqbKpCGUNZHXjyll3WOQVXfzgwtCXJAAEJ4XY7YOY127AMYWI6ZM/EBHTvXv3wli/GxCNQ3OMZzi4IPtaZNeC8r1QVlaGgQHnq7AbbnkAoq/svUsPqQTHye+b7qou1J2sBQD4agMwM5FsWXTs0i7E+LC4JZbM69tc4jpFeYbVgFX2SezMtbGaMlqosUWhUFyKIAgWXq3U1NRhvVpMdwfUB74k5owrboUUFQvAlMB94MLnxPUpEclIiCSr5Qzdelz+mLz/zI1ZdhO93yogKxAXTWARU2vw9WRlp3ryLWCY8fPqxcbGwtdXTkgXRRGFhYV2dowT3r6mwosraDVGJAU3EEsub5XfS4vT1hHvo5auehTX5uBnCh22k80GXO4wwlVYhBK7qLE11lBji0KhuJTi4mL098vGC8dxDnm1NF+8D0Yve8MkrQ8MGx4eGhfUnEdNC9nAeNWsOy2MqMovKsAPyhWQ3mHeSLrVdmug5gEBX1SQnoifpv4wvFpXkQxmOVOcJ1SRa20vHgNYlrXI3SooKCAqV50Fn70OQoxcITszsoa4XranFAPtpvdHkF84pseRfTeP5u1EVogaC8JJ4/y1S73jdOLhURpbIs3bGnOosUWhUFwGz/O4ePEiMZeSkgKt1koSsRlsdSlUR3cRc4YNDwM+Jn0jI2/AnjNbievTJmcgJoxUA9d361D9FdkPbtbjc6DysN3w+r3ifhjMisim+HK4IXriipgqaTzwEDFWRawGox5/Y3PatGlEZapOp0NZWdm439cCloP+/p8PDWMD2hHkJefviUYR+Z/IOWXZM9YT2+vaKlDZVIifKcLOX1QOorTbNd4t1ncawMnvYcnQCWmg1iVnmahQY4tCobiMy5cvE7k3HMchPT3d/iZJgsdHrxNteaTQKBhX3DY0Pn55N7r624bGLMNi7ey7LR4qd0sO+AHZO+IZ6IUZ99u+v46X8L6izcqmVB9wdhTmJxJCdwG2fE4mxqsn3+KUe2s0GkyaNImYc3q/xCuIyZkwLjJ58xjG0ruVu/kiBKOpUjUiKAZJk8l8tqN532BdjCem+plVM0rAf+e6xrvFsCpw/qTnkOZtjS3U2KJQKC5Bp9NZ5GpNnz4d3t725RNU3+8FV0zu09/8Y0Bl8kZ19bXj2CXS6zUveRXCAsgvakO/ARffI0VMZ27MglprO/fqs4oBtJlpI/mpGeul/BMUY9VWPP+23PKIC54D1jvaafefPHkyVCrZ62guFeJs9Pc8CcnH1E4oI7IWalY22vub+4jq1uz0m4m95Y35aGivxCZF+PmzikFU9jg/NAoArIUERI6NlZTRQI0tCoXiEnJzc4nGwhqNBhkZGXZ2AOjrgccnb1lMi6mzAJiS4r8++QGMgvy4Wg9fLM+8zWJP3paL0HXKOV8aPw9kPDjTYt1VJEnCWwoR0wenecNX/cP4GBV6SyG0nyXm1NF32Fg9Pmg0GqSlWbYDEgQX9Bj0C4D+nicBAF5qI9IjSGX7i++dH8p7igmbirhwUjPuaN43WDWJDD8LEvDXPNd4tyz1tnIgia7t3TiR+GF8SlAoFLeir68P+fn5xFxGRgY8PDxs7DDh8dk7YHq7h8aSivRCXSg9itJ6UoNpddad8PIgvWX6Hj3OvUUaDhkPzoSHn+37H2nUo6BT9jqwDPB46sQXMb2KsWobMWb9Uy28Ic5gxowZhHcLgGtytwDwi28Y6ps4ZzLZ5Lw5twlNF2S9qqXppJBuYc15dPZZ9iHcWjaA6l7ne7dY36mAWu7pCL4fYo9rwrQTEWpsUSgUp3Pu3DnCG6HVai2qzZSwZflQHybb7hhXyh6rrr42fHv2Y+J6bPg0zErMtnisC++chb5bDkFp/Dww6zHbrXkASxHTm2M9EeNjO5F+IiH2VUFoPQ4A+OBFUy89dew9Y9oH0VG8vLyQmkrqQhUWFsJodEFyOcNA//AvIanUCNb2IyGINJ4uvid3JUiImo6o4Dji+pni7wAA0d7yVzEvAa+6oDKRYVhwQbOIOaHjnI3VlJFCjS0KheJUWlpaUFpKSjLMmjXLwltBwPPw2PxXYkqMjAa/3JQLI0gith9/B3qjWbsflQa3L9oIliE/5gbaByxytbIemw3PANsNpEu7jdhXR6p8/5DkHgxVcmVneoI3WJ8EcMFzXHae9PR0i9ytvDzX9PSTImNguO1hAMBchXer7NtSdFV1AgAYhrFoE1VcY6rEfUzxXvpnqWu8W1wQ+QeH0E6NrbGCGlsUCsVpSJKEkydPEnOBgYFISkqyu0+962NwNWT/Q/2DzwIqUzuU7y/vRmUTGfJYm3U3gvzINi8AcP6tMzD2y14Qjb8GmT+x79V6WyFimhWixtywH4aIqdBTAqHlyNA4a+MFqOPudYlX6ypeXl4WntC8vDxCr82ZGG+8G8LUNEwJbEOod8/QvCRKOPfmmaFxSmwWQvwjh8bilZyu9TFeiPWRKxONIvCfLqhMVAWTvwdibykkQ5fTzzERocYWhUJxGmVlZWhpaSHmFixYAJa1/VHE1lZAs2MLMWdcsApCqhzyOFt8mLgeH5mKOYpGwICpB2LuFlLXK+HeadD42DacOvUitpYpREzTfFxqbDgLSZJgKH/fYp4LXeiC05Aoc/x4nse5cy7yxHAq6B57EfDwxMIY8o+Cwu356Kk3GWAsw2LJ9PUW2/X6Hjyf6UvMbS0bQJmTdbcYTaApd8sMoeOCjdWUkUCNLQqF4hSMRiPOnDlDzMXGxlpoJxEIPDze/QsYQQ6piL4B0N//MwBAc1e9xRZfbQDuyn7CInwIAMf/chSCXs4V84nwQcwtcXbPvbm4HwO8rOk1ScvhljjbIceJhNBxHqIVCQDGymvrbDQajUWngZKSErS3t7vkPFLEZOjveRKpoQ0I9JQ9bKJRxIX/k4sxMhIWwN87mNh7ofQYfpSgRaK/HBoVJeAvOc73bnFBZAN2noYSxwTX/8ZQKJQfBDk5OYSAKcuymD9/vt096t3bwFWVEHP6h54BfAPQ0duCL4+9S1zjWA73LPs5fLz8oaThXD1Kvykm5hb8y2JwGts9/YyihL8Xkonxj6V4Q/0DEDGVJAHG8veIOTYwEw899JCNHc4nISHBYu7UqVMuazXDr7gFYsZsLIwlqyMvf5yL/haTAcaxKiyevo64nlN+AnpDH349k/RufVExiHwn90zkgkljS+g4D0kSbaymOAo1tigUyrjT09ODS5dISYYZM2bAz8/P5h6mvgqarz4k5oxzlkGYswy9A13YvO8V9OvJv/zXzbkPMWFkGAQw5c4c/dMhYi5sejhS7rDUbDJnR9UgGgbkLxqtisFDST8MuQe+fhfEPjLhW5PwKF577TUXncgSa6HchoYGVFRUWFntBBgG+o0vIC2xH34esoabYBRx/jVZeX9WYja8PWXDyijo8f3lb3FrnBfSAmXvlgTgPy7KOWDOgPVLBjgzoV5jN8SeEtsbKA7hcmPr3XffRXp6OsLDw7F06VKcOHHC5tqmpiZs3LgRc+bMQVBQEJ588kknnpRCoYwGSZJw/PhxQurBy8sLmZmZtjcJPDzffRkML/9VL/n6w/Dg0+jp78D7e/6Cjl4y92th2g2Yl7LK6sMVf1WI5pwmYm7Jb5eBseOhkiTJQu7h3qlaBHq4/GNz3BH1HTBUbCbmuPBl4PwSsXTpUhedyjbh4WQhxMmTJ6HX622sHl+kgGDwP/03zFfkbuV9fBk9NaYG3hqVh0Xu1qmi/RjQ9eDfZpF/gOyq0eFimwHOgmFVlhIQbSdtrKY4iks/NbZv344XXngBzz33HI4ePYq5c+firrvuQm2t9QaYer0eQUFBeOaZZzB79myraygUintRXl6O+noyt2ru3LnQaGwnpau//ie4ikJiTv/A0+hkBby75z/Q1tNIXEuOmWm19yFgajZ97D8OE3MJaxMxeb79NjNnWgy40EaGcJ74gYiYGsreAXizyj7OC5qpGwHAosWSO5CVlUUUWQwODlrkBzoTIS0LaY9nw9fcuyUyOPuMXOgxJ3kFtObeLd6AY5d3Y120J2aFqInH+/cLzvVuqRQFEHwrNbauFZcaW2+88Qbuu+8+PPTQQ0hKSsIrr7yC8PBwvP++ZfULYEqm/c///E/cf//9CAwMdPJpKRTKSNHpdBZSD5GRkUhMTLS5hy29bFF9yM/ORnV8HP6+60/o7G212LN29j1WE+IB4MQrxzHQatbsWsNh8a8thU6VvKlozbNmsgcS/dU2Vk8chI6LEJrJkKtmygNgPUJcdKLh8fPzs/CUFhUVoampycaO8Ue88yEsXkj2bsw/b0TXtq8BmLxb85LIitkzRd+hb7Abv1F4tw7U63Gy2XmeOi54DsDIuYzSQA3EfutOEIpjuMzYMhgMyMnJwYoV5JttxYoVOH36tItORaFQxpIzZ84QzYI5jsPixYttyyYM9MHz7T+DMUvIFf0DcWHVCry35yX0DpKaP1MnmXKuVKz1JPem3Ebk/ZOsppv907kIiLP/x1pNH4+d1eQX5U/TJr6IqcT3Q1/4P8Qc6xMP1eRbh8YRERHOPpZDZGRkwN+fLIw4duwYeN41jZ3Bckj8r2cQ7Csb+hIYnHjlONhyk9d2xhSyQIQXjDh66Rssj/LAwnDS8/vnCz1OS/xn1L5gA9LJs7Wdcsq9Jyou6zXR3t4OQRAQGhpKzIeGhlro8FwrSrXq652J9nyAifmcgIn5vBx9Tl1dXSguJqv/oqOj0draitZWS+8UAMR+9R582mRvhATgs+z5OHX6A8u1wamY4TMHZ/AqKquq4GUg81pEQcSJfzlqepAraCd5I2BNsMVzUI5frVRDlGQvVoJWRFRfLVz549Q0NCAdQFVVFdHA2xajee8FtP8DWr38+SuBQbP2NhjL5YTznTt3uvR9bX7vgYEGAKbXRKs1IC4ujghzdnV1Yf/+/Zg61bJowllMezgFJ/9WPTQubQ1D469fwsDzP0cdBizWnyk6iEneKXgoLAAnmuVG1d83GfDRuQrMC3BOZaBWmooAyJp0/bUHUW2wk2epYCJ99tnzxDuKyxt7Kf/ClSRpzMUCx+KFchdKS0sn1PMBJuZzAibm83L0OfE8j+3btxNzAQEBWLFiBTjOuhdKdfIAPC/Lfz3zDLBt+Syc6yuwWLso7Qasybob/bW1OANgSlwcfGNjiTVn3zyNnpJuYm7NX9YhNi3O7nPqNYrYeboJ5lba0zODMG2aa/O1mCs5bnFxcZAUz1XJaN57fMtx6GvJPCd19O2IS1xDzL300kt48cUXR/TYY4XyeXV3y6+Jv7/pNRkcHERJiVw9V1dXhxkzZmDy5MnOPewVpOemourbt9BoJox78FIcHv7qPbBPPQfApA0H3mRAi5KAmt5LuHvBw9jW3oaDDXL48MNmX9w/O9QpgrqiLgCDJz4bGmsMVUiICQbrETTs3on42XetuCyMGBwcDI7jLLxYbW1tFt4uCoVyfXHu3Dl0d5OGzuLFi20aWkxLAzw2y+GrfhWLt+bG4pxEClSyDIdbFz6CG+bca1d1vq24Faf/h6xsnnZzEmKz44Y9+z9LBtBjlA2tYA8Wd8Vr7ey4/hEHG6EvepWYY7zjoIm31NR6+eWXnXWsUbFgwQL4+JAh3yNHjhDhbGfCMAwWv3wrMdfS74ec73Xw+OQtAMB8RRXt+ZKjaOtusqhMPNdqxN465zwP1jMUrK+5wSRBoKHEUeMyY0uj0SAzMxOHDpGJmIcOHcK8efNcdCoKhXKtNDY2WmhqJScnIzIy0voGgx6er/8BzKCp+q3VS4XXZkeiQmHfeGq0eHD1c5g9bZnd+wtGAfue/RaCQZaa8Az0QvbvLdv3WBxFkPD6ZTIx/ifJ3vBSTVwRU0nQQX/pTwBv9rwZFTxS/xUMd/31f9RoNFi2bBnh/RkYGMDx48ddJnYaNXsSkjekEHNHq6bBcNbUED0tdg6CfMOGromSgH3nP0VWqAbroj2Jff9+oXeop+J4w4UsIMZ8y1EbKynD4dJqxKeeegoff/wxtmzZguLiYjz//PNoamrCI488AgDYtGkTNm3aROzJy8tDXl4eenp60NnZiby8PBQVFVl7eAqF4mSMRiOOHiU/kH18fOz+AeXx0evgqk1hn3J/D7yaFYFWLzLDIcg3DI/f+FskRNkXIQWAs6+fQms+6TFf8e+r4B06fBjw04oB1A+YGWmcSTF+oiJJEvRF/wuxjxQB1SQ8DM7XUp39eiEyMhIZGRnEXGVlJS5fvuyiEwGLX1wKjbecB6jjNThZY3qNPU4cwKpZdxLrC2vOo7q5xMK7danDiK+rnOPdUoUtIcZiZy5EvWvaIV3vuNTYuv322/HSSy/hlVdewZIlS3Dq1Cl8+umniImJAWCKtdfV1RF7srOzkZ2djZMnT2LPnj3Izs7GXXfd5YrjUygUBWfOnEFPD6kJlJ2dbVNTS3V8L9SHdwIAzoV7463McAyoyVBjXHgSNq3/PUIDooa9f92pWpz5XzLUkXhTEhLXJw27VxAlvHaJ9Go9kOiNMC/b7Xyud4zV2yA0HyTmuNDFUEXfYXPP4cOHx/lUY8OsWbMQEkLKVZw+fdplchDe4T6Y+zSpX1XYanpPq7/6EBntekwOiSeu7z33CdICVbh9CtmL8z8u9kAQx9+7xXpHKxpTSxCod2tUuFwKeePGjbh06RJaWlpw5MgRLFq0aOjarl27sGvXLmJ9V1eXxX/KkAWFQnE+9fX1KCggk9lTU1NtNppmayvgsfmvkADsifPHR6khEBSK7pkJi/DQmn+F1nN42YWBtn7s+fk3kMy+hLxCtFj+p5UOnf+bGh1Ku2WZAI4BfjZ94so9GBv3wVjxITHHaGPgkfJLpyRgjzccx2HFihWEoS9JEg4cOED06HQmmY/MQtBUywRzQWDg9fafsS6S9ADXtpYjv/osXsj0hfmvRkk3j23lznkOqvDlxJhvOmRjJcUeLje2KBTK9Y9Op7PwePj5+WHu3LnWNwz2w/P130My6LE9MRB7pwRYLFk583bcvvgxqLjhhUQlCdj77LdDzX6vsvav6+AVNHxyuyRJ+J88ss/infFeiPV1ecH2uMC3nYZBkRAPlTc8Z/wWjMr+67Vs2bLxO9gY4+/vb3HewcFBHDhwgGgf5Sw4DYeVf1kLKGzZ03XxYIwGpHzwFlLCyNyufec/xRQfCXcnkD+Xl3J6oRfG37vFhWXD/MBibwnEgXrbGyhWocYWhUK5JiRJwpEjRyy8BUuXLoVabcVQEgV4vv1nSM212JoSjOOTyZwUFavGXdlPYFnGrQ57WC6+ew41R6uIuTlPzUPs0ikO7d9ZrUNOO9ma55kZvjZWX9/wbaehv/RnwEw4FqwanjP+ANbbfguj65HY2FgLdfnm5mYcPXrUJQnzUXMmIePBmcRcTkMM6nsCwPR245ZjuUQ3hM7eVhzP/xYvZPpCbfaNXdsn4INi8o+L8YD1DAUbMIOY45sPj/t9JxrU2KJQKNdEfn4+ampqiLmMjAybSuOaz9+FlHcSm9NCcS6CDNN5eXjj4bW/Qnr8Aqt7bZG7+SIxjpo7GfN/ucjGahJesuw9d3OsJ1ICJ15rHr71pKnyUDI3LBl4pD4PLnCGzX3XO1lZWRbh7LKyMly8eNHGjvFl4a+WwHeSbMxLYLCjYCYMPIeIhkYs6CCFS4/m7YQfOvFIElms8V+5veg1jr/IqUUosfmgyyo7r1eosUWhUEZNW1ubRXutsLAwm43iVd/vA/PtVrw7IwyXQsmwiK9XAB694deIDZ/m8P1b8i27TXiFaHHD/64Hq3Ls4213C4dis1wtloFFBdhEwFj/LfSX/wRIZPsaTdLPoApb7PDjPP/882N9tHGHZVmsWLHCop3P+fPnUVZW5vTzaHw0WPEfpFhsp84be8tM1bY3Xq6Ft1mUkxeM2H3mI/xLhi+8zWRI2nQi3sonizrGA1XYYoCRQ+rSQD3ELtdVdl6PUGOLQqGMCqPRiIMHD0IU5b+s1Wo1li9fblVwlC3Lh+qDV/BhWihKgsjqqkCfUGxc92uEBzqu8t1R1o7vnt9LzHEaDjf//Tb4RjoWAtTxEv5eQ3qw7p2qRXLAxPFqSZIIQ/kHMBS/RoYOAWiSfgH1pPUjejxXqcdfK56enli7di08PDyI+SNHjqC+3vk5SHHLpiBlQyoxl9cUg8KWSGh5EbeUtBHXimovorPtEp5U9Oj82+U+tOvGN/+MUfuCCyH7OBobdo/rPSca1NiiUCgjRpIkHD161EIlfsmSJfDzs/QKMe0t0Pzvb/Bxoj8KQkiPVqh/FDau+zWC/MIdvn9PbTe+vP8z6LpIvaGVL69BZNbwEhFX+XthH5r18seghgVeyJw4uVqSsRf6vD/CWL1NcYWBJvkZqCfdOOLHTE5OHpvDuQB/f3+sXr2a+GNAFEXs27dvzHvyOsLsn1nqz+0umYEenSdmN/Ujrpt8f+868088kaxGoIfs3eo1SvifvPH3binfK0LrcUjGHhurKUqosUWhUEbMpUuXUFFBCmEmJSUhIcGKEGZ/Lzz++it8HsHgYjiZcxIWMAmPrnsRft7D91u7Sl9zH7bf/xn6msgvmNlPzUPK7cOLnl6lro/HyzlkBeKjyd6I9pkYFYhCTykGz/4cQjsZ5gXrAY8Zv4E66oZRPa6rdKrGisjISGRnZxNzPM9jz5496OzsdOpZVJ6m9xpnpi2n4zX4qnAmJJHBnSUdYMxyozp7W3E2/yv8Mp38g+Cdoj7U9ZHh4bGGDcwE42nWBUI0gm/cP673nEhQY4tCoYyI+vp6nDlDNiwODAzEggVWktoNeni+9m/Y6dmN01HkF0SQbxgeXvMreHs6nh/VVd2Fz+7Yiu7qLmI+8eYkLPxXx/OOAODXZ7rRz8tfZAEaBs9lXP9eLUnk4dO9G7rzz/x/9s47Pooy/+Pv2dmW3kgjJIQSegslICBVitIUBPSwoZzlbPzu9MByYjlFBDn09DwV9cCzgIh3oHII0g1NAUGUTigJSUhv2+f5/bHJhmVDCwlLed6v17x29plnZr6z2ex85vt8n+8XYT1NGBnCMXd+DX30+U0euFpJSUmhRw/vYTGbzcayZcsoK6t/L9HpdHmwm9f7Y8VRrD7UioQyB70zvR8INu5eztCoEzQMrL5921z4PDjUNYqiQ3+aQHdkLZOB8ueJFFsSieS8sVqtrFrlPRPJaDQyaNAg3zQPmgvzuy+zwn6EdYnegio0MIKJQ6YQEuibX+tM5O05yRdjPqPkWLHPtp5PXn9BiTj/c9jCkiPeQzTTuoTRwHxlZ4vXyjKw/jSZ0JJlILzjeHQhLQjo+gZq6Lmz6Z+N08vgXKm0b9/eJyVEeXk533zzzSUXXG3HtSfp+sZebZuPN+PX3HhuOlREhKXaayUQfLPxA/7cwbtm4icHKthb5J2+pK7Rxw8Cpfp/RFQcRyvaWa/nvFqQYksikZwXTqeT3bt3Y7V6i5T+/fv7zPJCCIz//jvrcnbwXbK3oAoyhzBxyFTCg71LqZyNjNWH+GLs51Sc9M4rlFh5g9Lpzl9oZZW7mJzuPVzUuYGBu1qcO/np5YpwlmPb/x6WrQ+jlfrOrtMnjMDcZRa6gPOPizsTa9euvehjXC507drVJwatpKSEb775hvLy+s9h5UEHQ94YRvBpEzu+3tuJ0pIgbtvrXY8wvySbmNL/0Ty0eshbE/CXrb4PInVqpinSpzi14+jiej3n1YIUWxKJ5JwIIVi9ejWlpd5DFV26dPHUMj0Vw5KP2frbSpY2j/BqNxsCuHvwn2kQVnMOrprOu/Ufm/nvxMXYS2xe21rd0ob+L91wQdfh0AS/X1dAkb3aM2dQBG/0ikC9AMF2uSCEC8eJ77BsmoTz2GIfbxaGcEztp2Fq+TCKrub6lBfK448/XifHuRxQFIVevXrRtKl3TcIqwXUpy/oERgUy7J8jUY3VniOHS2XRr2kknXRy3WnDiZt+Xc7kZt7DxN8dt7HyeP0WqTY0Gun13pW/Ga0so17PeTUgxZZEIjknW7ZsISMjw6utcePGpKam+vQ1LFvArh8W8GUL76B3o2rkrsFPEh/pK85qwlJo4ZsHlpA+Yz2cFhbSaWJnBs++EfU8c2mBW7j9eVMRP2TbvdofauygfeSVlepBCIEzdwOWLQ9h/202wu4b2K3G9CWw+7vooy8sQey5mDdvXp0ez9/odDr69+9PcnKyV3txcfElF1xxneLp+8IAr7aC8kC+2tON4fuLiLB6Dydm7f2Q66O9v8/PbCnGUY9FqnXh7dGdNhTtOLqo3s53tSDFlkQiOSu//vorO3d6x2VERETQr18/nzgpw4rF7F35Lz5rFYU4ZZtep2fCDX8kMbqG2Yo1cHTDET4ZMo+Dy/d7tSs6heuf6Uufaf1RLtATNevnUj7a633jvD7OyO8S6ncWV13jKtqJ9cfHsP3yV0T5UZ/tiimGgqj7MLd7CsUYVsMRJKdTlfS0cWPvuKmioqJLLrja3d6BNmPbebUdyoti3cH23LbHezix1FLEEGURCtX50/YWO/lwT/0NgSqKgiFprFebM2c1mvVkvQQPp7IAACAASURBVJ3zakCKLYlEckYOHz5Menq6V1tAQABDhw7FaPQeltKv+ZrD37zH/LbRaKcIIZ2i47b+j9I03rvAbk1YiyysnLKcryZ8QXmOd5CyKczMqPlj6Hx/twsKhhdC8Mr2El7e7j0MkxSs8q/+kahXwOih0Jy4Trr/DvbfXkcr3e/bSWfAkDyBgB7vYQ3s5LtdclZUVWXgwIEkJnrXhywqKmLp0qWXLGheURT6/3UgsZ28h9p/OppI8W8J3HDEOy4r5+Qv3NvAe3bw9O0lFNrqr4yPGn0dSsAp5Y+EC8cxGbt1NqTYkkgkNXL8+HGfmYc6nY4hQ4YQHOydxVq/4X9kfvUWH7WPxnWK0FJQGNv3IVomnv3mL4Rgz39+Y/7Aj9j9+S6f7TEdYrlt6R00vj75gq6hzKFx75pCXjttWnywXuGzgVFEXeazD4WzAsfRL7FsnIj9wLtn6KWgjxtIQPf3MTa9E0U1n6Ff3fDbb7/V6/H9iaqq3HDDDTRq5F3JoKSkhKVLl/ok8a0v9GYDI96/heDT0qWs2NeGlO0BNDktmW9w/lKa6Q573hfZhU+9z7pEUVQMSbd6tTkzv5HerbMgxZZEIvEhJyeHFStWeJXiURSFNm3aEB0d7dVXv+q/ZC+Yzfvto7Gr3j8pN/e6l3bJaWc918nduSy+fSHLH/8GS95pwzUKdHu4O+MW/47wxuefJkIIwTdHLPT4KpevMixe24L1CosGR9H2Mo7T0soOY9v7FhU/3IH9wPsIW803MTW6NwHd/4mpzZPoAs5v0sHFsmPHjktyHn+h1+sZNGiQj4errKyMpUuXUlBQcEnsCIoJYuSHozEEVX9PhSb4z540Bm+FQEf1ZAgNwS2uDwkV1cOMH+wpZ2uudzxXXaKPG4hijKpu0Ow4Dv+73s53pSPFlkQi8SI3N5f//e9/OJ3esUx9+vShQQPvdA2GZQvIXfw273aMxXZasPpNaRPonOKdqftUynLKWPHE//h02HyObzzmsz2iWSS3LryNnn++3ivD9tmocGosPFhB/6UnmbCqgOPl3rPzwowKXw6Ookes6QxH8B/CZceZ/T2Wn/6IZctDODO/BldNsUI61OjemLv9HXP7Z9EFNa6hT/1x++23X9Lz+YMqwdWkSROvdovFwtdff01eXt4Z9qxboltHM/Tvw+GUoW6HxcW3v/RixA7v/0+bzsVDjjcJ0NzDnQJ4PL2w3oLlFdWIockdXm3OEyvQyo/Uy/mudKTYkkgkHrKzs/n222+x272fiHv06EGLFi2qG4TA8NW/yPt6Lv/sGIP1NKE1qPNYrmszuMZzOCrsbH4jnXl95/LrF7/4zDRUjSrd/68nv1t2FwlpZy9M7arcd97ecsatyCPls2zuX1fIjnzf5I5tIvSsGRFD98tMaGnlR7EfeJ+K9Duw/ToTrfjXmjsqbrvNqTMwt38WNSTlElp57aGqKgMGDCAlxftzttlsfP3112RlZV0SO5oObEaf5/p7tVmK7Gz9qQ8D9nl/zytMDp4qe40QpztA/tdCJ2/9Un+xZvr4wSiBp/6PuoueS3y5OoqASSSSiyYrK4vly5f7eLQ6d+5M+/btqxs0DeOCf5K74Sv+2TEWy2lep/6dbqZPh+E+xxeaYM9Xv5L+2nqfuoZVJPZuTL8XBhDZPKrG7UIIfitysu6EjXUnbPyyO5dHgdd3lVEYWfPMO1WBP7QNZmqnEIIMl8fzpXCU4sxZ4/YElO47a1/FGIG+4U2YkjoB16OYY07Xp5J6QqfT0bdvX/R6vVesmsPhYNmyZfTr16/meqB1TOq9XSjPLeend6oD4UtOVJC1uR8dQtayM776Vn4yzMnLuS/zSugTZJsimbGjhJuSzLQMr/thc0WnYmw2EduulzxtrrxNGKO7AvJh4FSk2JJIJBw6dIg1a9bgcnkPu6WmptK5c2fPe8XlxPTeKxz7dT3vp8b5eLT6tB9O/443+xz/+KZjrH9pDbm/5NR4/ohmkVz/bD+S+zfxmWlYbNf47piVVVk2VmdaybZUx5FFOM4uO4YnmZmaGkq7yyA+S2hOXAU/4TyxAlfeZhBnL62ii+iEIWEYaoPrUHR6OHJ5DM/MmTPH3yZcUqoSnxoMBq8UKJqmsWrVKsrLy2nfvv0FzZCtDb2mXE/FyXJ+W7Tb05Z3oISE0ME06vc9x8Oqz78/Bl7NfIUZYY/zW1Ai968rZMWwaIz1MPVWbdATXWhrtJJqMRpeuADhGoyi1k0i3asBKbYkkmsYIQS7du1i8+bNPtu6dOniJbSoKKPZZ29ysPgwH3aMwXFaMHzPtkO5ofOtXjed/H15/DBjPYdXHqzx/AGRAXT/v560u72DV1xWhVPjf0etfHnYworjVuwXMIs9PlDHrU0DuSMlsF6e5i8UrewQjhMrcGavBkfR2Tvrg9HHD8LQ8CZ0QYln7+sn7rnnHn+bcMlRFIW0tDRMJhNbt2712rZ582bKysro0aMHOl39eU4VRWHgq4OxFFjIWHXI05657SQJxkGU9v+eYnP1w8dPCUZeOTyTDyx38zVdeGV7Cc93rfu8a4qiYEx5AOtP/0dVTIDeeRLHkQUYm95Z5+e7UpFiSyK5RnG5XGzcuLHGqfxpaWleBYeVwjzMr09hmz2bBR1ivNI7APRqO5QhXW/zCK3SE6Vsmv0Dvy3ajaghQFc1qnS6tzPdHu6BKbQ6hmp/sYMP9pTz6YEKSuznP1g2MMFEWocw+jQ00TJMX+9ehnOh2Qpw5a7FeWIlWlnNQrMaBV1ER/RxN6CPuR5Fvbxiyk4nPDycoqJziMarEEVR6NSpE0FBQaxbt85rpu7u3bspKSmhf//+mEz19/dTDSo3/WMEi29fSPb2E572zE05NNbfwMF+qyg3VHunVzUJ5vEDc+lYdpTpYhQDEsz0ia97+9SwVugThrkndVTiOPI5aoPuqKEtzrLntYMUWxLJNUhZWRkrV67k5EnvlAKKotCnTx+vYHjd0QMY//Y0/wu3s7K5b/Hogamj6dthJIqiYC228uM7W9jx4TZctpozs6cMb0mvKdcTluRO5SCEYN0JG3/bVcaaLFuN+5xKoF6hd5yRPvEmurss7HgJ/nZdOCGNg8+5b30inOU4T/6AM3s1WuHPwNndcUpAQ7fAihtYJwWiJZeGlJQUAgMDWbFiBQ5H9VDwsWPH+M9//sPgwYOJiIg4yxEuDkOAgZEfjebL2xaQv6d6VmTWhmya6wey9/qVWPXV370lzSMYlLGSz3cf5lHDw3x9SxKJwXV/6zc2vQfXyR+qS0cJF7ZfXyOg21v1nvvtSkCKLYnkGuPo0aOsWbMGm81b2BgMBgYNGkRCQnVmaPXH9Sjvv8LHzYLYGeM7BDGs+x30aD0IW6mNn+dtZ9t7P2IrrrkQbnyXhvR+ui8Nu7qPL4RgZaaNmTtK2XLy7PmAkkNURjUO4IZGZtJijJgqY09KjxTgz6xPQnPgyv8RZ84qdxyWdo68Rmog+ti+6OMHoQtt7XcPnKR2JCQkMGLECJYvX055eXVpnJKSEv773//St29fn7QRdUlARACjPxnLl+MXUHCgOu9X5poTtFBv4Lfe3+PQVXu4ViSH0fv4Ib794WlecE1mzh1pBF5AXdHzQTEEY2z1OLadz3vaRMVx7Hvfwtj6T9f8d12KLYnkGsFms7Fp0yb27fOd/RYcHMyQIUOIjKwsHi0EhiUfc/K7j5nfMZqTgd6xT3qdnlt6T6JlVCqb39jI9g9+OqPIimgWSa8p19N0cHPPD+6qTCsvbSthe96Zg8SjTDpuax7IrU0D6BRluGx+rIXQ0Ip+wZmzGmfuenCea2q9DjUyFX38IHew+2U+THguhgwZ4m8TLguioqIYOXKkj4fY4XCwcuVK2rZtS1paGnp9/dxmAxsEMfrTcSy6bQFFh6oLkWd9f4JW2gD29lmLXVct/jc0CqXUWM57657ly7I7uOWhO9GpdVtBQd+gB66GN+LMWuZpc2avRBfaAkOjkXV6risNKbYkkqscIQSHDx9m48aNNRbUTUpKol+/ftWxJjYLxg9eY2PmjyztEu8TnxVsDmV48kRyPshnw+J3cVTULJiCYoLo8cdetBnbDl3lU/SvhQ7+srWY7zPPPFyYFm1kUusgRiUHeDxY/kYIgVZ2GFfOapw5a86Y0f1UdMHN0Mf1R43th87kO/x6pbJgwQJ/m3DZEBwczPDhw/nhhx98HmJ2795NVlYW/fv3Jyqq5lQmF0tQbDBjPhvHonELKD5SHUd3YnU2zS3Xc3joJixKteft55gg8gL03LfzY45N20njJ56B8Lq1zdj8fiy52zA4q2ce2/f/E8Ucg75Bjzo915WEFFsSyVVMTk4OmzdvJifHN+WCoih06dKFTp06ebxGSmYGxe9NY3GElYMpkd79rToiDjWiYUYrVm5edcZzGkNNdHmgG6n3dsYQ6J76nVPh4pXtJXy8v4IzJbQe3MjEEx1DSIu5PDw/boF1EFfuBpy56xGWzHPuo5hj0cf2Rx/X/5Jndr9UjB8/XgquU9Dr9fTp04fo6GjS09O9aokWFhbyn//8h44dO9KpU6d68XIFx4Uw+rNxfDnuc0qOV9dDzN2US2NrGpm3bKeUaiGWGWJidtd47vllN8qUe9Dd+QiuXoOhjjzHij6AwgaTiDk5G1yVpbKEhu2XV1A6vYIa3q5OznOlIcWWRHKVIYQgKyuLXbt2ceyYbxkccM8o69u3LzExMZ42bf23rF/zAasbB+HSmUGArsiA8UAIhv0hmA6FggOyOVHjMU1hZlLv60Kne1IxhbkDYiucGm/9UsYbu8ood9assoYnmXmiYwidGvg/J48QAq10v1tgnVyPsNR8rV4YQtHH9EEf2x9dWJvLZrizvli+fLm/TbjsqKobGhUVxerVqyktrS58rmka27dv5+DBg/Tq1cunyHVdEJoQyq1f3MZXdyyi8GB1DFfejjziKjoQMOEwuVT/FpQZVd5OjWVQRjGD505HbPoe28Q/IaLqZqKG0xCHqc2TlclOK//vNTvWndMwd3wZNaxVnZznSkKKLYnkKsFisXDo0CH27t1Lfn5+jX0URaFjx4507twZtTJew1lRyrZ/v8za3JNYK+IxrjejzwzEkBmAruzceaqCYoPpcFcnOt6diinE7ZVyaYIFByv467YSsipqnpXXK87Iy93C/C+yhANn/o+48rfgytuMsNaceNULnQk1+jr0sf1RI7u4k45KrnliY2MZPXo06enp7N+/32tbSUkJy5YtIyEhgW7duvkUdL9YQhq6Bdd/7lzEyd25nvbCfYUEvtWQ5g9GcUBfPZ1EKArfNQlnX6SZCb9uI+qpe7Dfeh+OATdDHXjg9NE9ES0fwb7379WNznKs26dgav8s+qhuF32OKwn5CyGRXCEITWAptGDJr8BSYMFhcVBSUMLJE7nk5eRRmF+IcAl3xgHPIhAu93poSChxMbGUZRTz3bxvKS+ooPD4CcrzLVAehVE04EJkT8NuCXS8J5VmQ1I8CUmFEHyfaWPaj8XsLqw59UPzUD0vdA3lpiSz37xAmiUHV4FbYMXlb8d2/ByzCAEUvTvQPbYfaoOeKPqA+jdUcsVhNBrp168fSUlJpKenY7FYvLZnZmaSmZlJ48aNiWwceYaj1I7AqEDGfD6eJfcuJmtr9bB3xckKbK+pdHp0ADtCvEMAMsLMzEyLZ3BGMf0+fQvDqiXYbn8YV8fuF22PIWEYwl6M4/D86kbNhm3n84gWD6NveONV7wmuQootieQyQ3Nq5P12kpyd2RTsz6fgYAEF+/Mozy13i6laUsBJCvAN7FY4/yzrAXGBtBvTnpY3tyaqhXfQ9448O9N+LGHtiZqD3yNNOqZ2CmFiqyAMukv7A6tZc3EV7kQr/BlX0U4v79VZJ8ArBtSozqjR16Nv0APF4N9cXpcD12JC09rQtGlTEhIS+PHHH/n1V9/i4keOHGH7ge0AHD58mIYhDTEYLr7igSnUxM0f38ryyd9y8H/V3jWXzcXxWSdJmzCCn9usxeasju+yqzq+bhbBT7FB3Lovh6azp+Ds0B3bbQ8hEpIvyh5D8u0gHDgyPqtuFC7se9/EVfgzplaPoeiDLuocVwJSbEkkfkYIwcnduWSsPsTR9CPk7MjGWVGzV+hSo5r0xKXG0bhvExr3SabIWOyV8BRga66d2TtLWXas5tQPRh082CaYP3YIIdxU/4WghbMcrWQfrpJ9aKV70Ur2IWx5596xCp0BNbIb+pjrURukXRM3ggvhX//61zVZsqc2mEwmevXqRYsWLdi8eTMnTtQcA7h582YO7zxMcnIyzZs3JyEh4aJK/xgCDAx7ZyTpM9fz4z+2eG079EkGzVLTKB6XQ6Z9l9e2E8FG/t45jnYnK7jp4DbinrkXZ48B2EfdhYhPqpUtiqJgbHo3ijEC+7534JQy6q7ctVhK9mJs8Qf0DdJqdfwrBSm2JBeE0FzgLEW4rKA5EJqjuqCuYnDHrih69xCLPkTGstSAEIKik4Xs/34fR9ZkcHJzDo7CsxclrnebEBjCXES3TCCqeSwx7WOJ6xhPZIsor5qFxfvdT8NOTbDiuJV/7C5jffaZh+DGNg3gmc6hJIfU/fdAOMpwlbpL4dgzPsdaVIZWfgRhzT3Hnr4opgaoUd1Qo9JQI1NlxuuzMHnyZCm2LpDo6GiGDRtGZmYmW7duJS/PV/w7nU4OHDjAgQMHMBqNJCYmkpSURGJiYq1KACk6hV5T+hDeJIJVT69Ac1THTuZuz8F4wETqfcPZGvE9eryHOn+JDmR3gwA655TTf+daGm5ahbPHABw3jkdrnHLhHwBgaDQSxRiB7bfXwVX9YCas2dh2PoezQU+MzSZetjVBLxZ5J5R4IexFaJYshOUEmuUEwpKNZslGOAoR9pLKBI4XMJSlBqIYQtyLMQLFHINiikZnjkYxxaCYo0FcQJXhKwhN0ygoKKCoqIiioiLyjueRk36Cku1FOA84oDbOKxMoQTqUIAUMCjqDgjk4AHOwCZ0ZbKKcMnsx5fYSNEUDnQCdQKjCPV5WuS4CXWgBTswGO53sdrqPvIuwHgPPefpMq8LCbSV8sr/8jIHvAH3jTbzQNbRWwe9CaOAsR9iLEI5ihK0AzZqDsOYirLmedVwV2HLdP9rOE8twuS5AICkGdKEtUaO6klkeS3KbftdM7IjEPyiKQqNGjUhISCArK4tffvmFglNmDp6K3W7n4MGDHDx4EEVRiI2NJSEhgYYNGxITE3NBXq+249oT0SSSZY8spSy7OgGvvdTGsTlH6NyzL3sH5mHT/+i1n1AUfooL5qe4YFoUWOi3dwMtN65EtOqIffCtuDpdB+qFSQh9zPXogpKx7X4Freyw1zZXXjqWvE2osX0xNh6PLjj5go59uSPF1jWKEAJhzUErPYBWdhCt9CBa6QGEveZ//lrjqkC4Ks46wysePRUFDdEFJqALbIRS+aoLbASGsMvyJuhyubBarZ6lvLycsrIySktLPa8lJSWIAg3XQSeuvQ60o67z16mBCmqiii5ORWmgokbrCUsKJSDcjGoCodopdxaSX5HJ8ZIsnK7z94wpQtC8yErX7ArapfRHG3s/BIXU2FcIwZ4iJ18fsbD0iJWdBQFAaY19ATo3MPB0aigDE0yev5sQGjhKEY4St3hyFCPslev2IoSjCGEvBkdR5fsS3FH9dUiVuIrogBreAV1YK4/3yrl//2X5HZNcnSiKQkJCgls8ZTRk+lvTCQwIPOPDlxCC7OxssrOz+emnnzAYDMTFxdGwYUMSEhKIjIw85/e3YbcEfrfsLpb/3zKOrPEWOVnpmYRt0RE6fDjbWu8i1HzEZ/99kQHsiwwg3OqkW/YRur3/AlHGUJzX3YCz91C0xKbnff26oETMXeZgP/gRzuNL8K4hquHKWY0lZzW6sLYYEm5yV13QB5738S9XpNi6BhCaC1FxzJ2gsbRSWJUdPI8yI5cGBSei4iiuiqP43GL1QR7hpQQmVq8HNERR6yZlgKZp2O12LBaLl4CyWCzYbDavNqvVis1m8ypAW4VwCUSehnbCheuoE+2wE1F6nurKAGpTPWpzA4YUFV2cQKgOHEo5FlcxRdZsjjk0aohvPy8UIUguttE+r4LUnApCklpj+8PjPkMCQgiOlrlYn21jXZaNdSdsZFtq8mAJonSlxOsLiVcL6RNZwtDYchKNZVBYgjWnSliVgKOUcxVlrlt0KEGJqCEt0IW2RBfaAl1wMorO/3m8rgY+++yzc3eSnBehoaEAjBgxAoPNwIEDBzhy5IhP3dJTcTgcHDt2zJNDz2w2Ex8fT3x8PHFxcURERNTo+QqIDGTUR6PZ8dE20l9bj9Nare40p0bRf47QckUU1j4tOdp6FyFhvvFlRWY9K5LDWJEcRsMyO+32Lqfdhv8QHxaPltobZ2pPtKatz3ndimrC1OJB9PE3YN/7FlrJHp8+WvFubMW7K2Mou6KP6Y0a2RnFWH9FvusTKbauMoSzAq08A63sMFrZoUphdRi0M//zXjD6EHdMls5QGadlqDo5QnO6Y7lcFeAo46Jvss5ytJK9aCV7T9ugQzHHogtqhFIpwKoEmWKM8HrSc7lclJeXe3mdTn0tLy9H0zT3k6ULcAmE0/3qfg/CKTzbcLkdL6JcQxQLRLGGKNDQcl34qsWzEAqihRNHCwv2JsU4DBW4sIEC1MGfK8LqJKXQSqt8Cy0LrQQ6NbTYRtjvfRxLj4GgKBTbNbbn2fnppIOf8uz8dNJOrsVJlK6UhvpCOqoFDA1xC6qG+gLiVfd6vL4Qk3Lao3j+hV3+RaMzoJijgB0YGo3ClJKKLigJJaBRnQlxiS+dOnXytwlXHYqu2tulaRq5ubkcPXqUo0ePUlhYeNZ9rVYrhw8f5vBht8fKaDQSGxtLXFwc8fHxNGjQwJNTT9EppN7XhSY3NOP7Kcs5vtE76bGj3IG67ARNV8RgaZ9CbotMAlscAr3vQ2NWsJGsYCPfJYcTZnPS7NBymm37L8k2PY2jGmPo0htXi/ZojZqAseaYMzWkOeYus3Gd3ID98CeIcl+vGpoDV95GXHkb3dcQlIwa0Qk1rBW6kBYoAfFXhGdaiq0rFOG0oFkyERVZaBXH3MKq7NAZM15rGjitKg6bHodVdS+V6+52FYdVj+bUI/ThCCUEoQtGKEEIJRAhzAgMKKoJnV5Fp9eh6HXo9Dp0qg5FVdAZdOj0mvvVoKAz6tCpDhTVhqKzoepKUUQp6IpRtEIUUYhw5aFTSlD0GiggUBC4R9uEqHytahOgCdA0BadVj8NShsNyAFvFMcrLArFWmLFWBOCoMOG0mnFZ9bgsOoS9MobfLhAOAQ7AIdxtLuEWWbXPqHBBuGLs2FuVYG1ViKuh1S2s6oAgu4u4cgeJpTaSS+wkF9sIs1dLH0dcEvv6jWN9014cKyogb+VmKipOoncUeMTTJLWAv0QWEqcWYlQuqWzyRQ1EMYShGMNQjOEopmgUcww6c6w77s8cg2IMRzt6DPgGQ+Jo9LFXZ3mcy43WrVvL9A/1iE6nIy4ujri4ONLS0igtLSUrK4vMzEyysrJ88nadjt1u9/J8qapKVFQUDRo08CwRiRGM/mwc+5bu5YcZ6yg9pcwPgHBqmLcXkrQ9EGHuSFETDV3TE2jJJbga2HzypRSb9GyL1bMt1j1zN8ieT8KvX9Bo8yc0LHNg1kVCRDKWuKaImIaosfGY4uIJjYokzKRDH9MHNbo3rpPpOI4vRSv6+YzXJ8ozcJZn4Dxe2aAPRhfSAl1QErqgxDM+dPsbv4utuXPn8uabb5KTk0OrVq2YPn06PXv2PGP/DRs28Mwzz7Bnzx7i4uJ4/PHHuffeey+hxfWP5nLgKMnHVpiLvSgPe1EB9pJCHCUllObm8GOFDWu5A6vFgN1qwG7V47DocdiScNia4rTqcNmqFgXNriActfnS2SqXOo7jAiC4cqmeeSJ0wv2N1AtQK9c1wKmAS3GLIico561QqjJ7+g9h0HAklWNvXoa9VTFaZO1nHQbbXYRbnUTYXERYnURZnMSX24m1OAjSaWhmBWFS0AJBi1QoMRnIjIrmWHg4mFzEqR9z0/G30SkCVKDmMK36QR+EYgh1CyhDmHvdGOoeEjBUCipDuFtcGcJQ1MujPqJE4m9CQkJo2bIlLVu2RAhBYWEhWVlZZGVlceLECez2syfkdblc5ObmkptbPUtXp9MRHh5OWFgYbWZ0oGhNAUe+PIS1wDd9i2J1EfEb8FscEIdmELhiLbgibWgRdlwRDrQgJ8LsQphdaAEuKgw69oXo2RcW4BZmCijiCBGWQ0TvcRC9zUG4zUWhXcFCMA5CcOhDsZoisAYlY4xMplHUcRICDxKkO4ewd5ahFW5DK9zm3a4GopgboDNFVz6sRaOYGrhFmCHUs6APuiSizK9ia/HixUydOpXXX3+dHj16MHfuXMaOHcumTZtITPSd/pmRkcG4ceOYMGEC7733Hps2beJPf/oTUVFRjBo16ozn+fefZ7hXqlwmlW+8nBln8GyI09tr6ie8V4QThEsBp3s4qmoIyt0OOEFzKO73VWLIRuWr4va4iDP98WPO0H7lo2gK2AH75fM0cqG4Qhy44i044y04mpTjSKzwcsHrhcCsaQRoGmahYdYEZtzvTWiYEQSgYUJgVjTMioZJJwjVa+jNAhGiIPQgDCD0CsIAFoORMz3rRlJAZL2IZU75MWvg/jEzNagUTVViKgyqftR0F5+sUSK51lEUhcjISCIjI2nXrh2appGXl+cJoM/Ozj5rvFcVVTOlCwoqfxtiQbnfiHGngmOLDZF35odUnUNBdzwQw/HzD1oXlbOiUSFPB3mKQFTOjua0V4VCFJ0gQwlAUdqi04GiFyiGykUV6PQCRS/Q6dzrOrW6HRX3uqpVvlpBPYZOPerupwjPiIJC1V1bRVNUKo0ARUFUqkShpjhEzAAAHT9JREFU6Bgz7fnzvtYz4Vex9fbbb/O73/2Ou+++G4CZM2fy/fff8+GHHzJt2jSf/h999BFxcXHMnDkTgJYtW/Ljjz/y1ltvnVVs5S9Qz7hNIqlC6DV3igRVIPQCKv9Z0QsUVXP/w+urX3VmF4YIG/pIG6YIG0ENKwgOt2FSBGadWyRVvwpMOg19LXWkho7zKChTd+iDUUyVQqrqidDUgBP5Nho17YRiipLJPq9Rqn6vJf5Hp9MRExNDTEwMHTp08Hi+ThVf5eXl53UsRa+g72xETTWgZblw7XLg/M0B5RcfY6FoCmiK14zLc/0UVsk9Pwc0uPGVIxeM38SW3W5nx44dPProo17tAwYMYPPmzTXus2XLFgYMGODVNnDgQD777DMcDkedlDq4qjECRgXFqIARFIMCpsr3BipfFfd/gQ6USpGPTvEIfgRedffQKtNkaYDHg1cZB1UVaF4VXO50z9ijss3t5RPVgenni+K+FsVUab9JQTFq6EwudEYneoMDvcmOIcCGwWzFHGhFH+hCH+TEGKRhNDkxmtyvJqOG0eDCoBcYdAK94l5U4DIa7q9TKpRQHPoo9AFRBAdGow+I9vVQnaHun618P7qg2mWSllwdvPHGG/42QXIGTvV8tWnTBiEE5eXl5Ofnk5eXR15eHvn5+WcVYIqioCboURP0GIaYEdkarkMOXEddaCdcUHGJAlyvMvwmtvLz83G5XD6Vz6Ojo73Glk8lNzeXfv36+fR3Op3k5+cTFxdXX+ZeevR4CyOjUvkehBEwCjAKhFEgTC4wamgGDWHSEEYnmtGFMDlxmVxoRgfC4AJFIBAIRQMhUDWBqoGigU5TUYQOoekR6NGEEYcw4BBG7BixYcammLFipkIJxKKYsShGLLoArKoRq86IQzGg6XSoCFQ0dAhUBDrhfq+ioUfDrDkIEHYChAOz5sAsnJg0OwEOBwFOGwFOB2a7A4PTgUk4MeMgADvBwkqIZiHSWUaErZQwe7m7v8NW81OSEyirXCoRKriCFPcSrKAFgGZW3PFO5up1zcQVo7ZcQkepCKKCYKwEYdcF41SCEWoQRn0wAaYwAoxhaPowXGooKNUPJcVw2udkBY7XdBoP+/fvP+v2S4klKwuAwxkZBJwjduVsXE7XdCaMWVl0wB1Oca44Hai/a7rzzjv5+OOP6+XY58Op11VR4f77Z2RkEBh4SX2/dUJWabX99vz6tT80NJTQ0FCaNm3qSXVjsVioqKjwpL2x2+3Y7XZEZfyMoigo8Sq6eBVDr8r8jCUCka8hijS0Is09G9siwCYQFoGwiuoHbI1LNvnocsfvAfKnB6YJIc4arFZT/5raT0Vt5zqjz/KMu3m1izO0n6G/CorqfkVP5VBU9fuqMWX0AsWoISrHojEJ0GtgwD2UhUBTBEIBTdHQAIdwodMb0BQdQqei6IzoVAOKPgBVb0Y1mNAZTOiNAegNZswBwQSYAwk2BhBkCiTUHECoOZAQs5kgg3peBYEdmqDcIahwCiqcGuXOqvXqdotTYNMEdpfAroHN5V53t4EmBIriDm5XKp1nVa/FRUVEREVg0iuYVQWTqmBWwaxWvzdVrqsqWFWFAlWhAhdmh5UAewUmhwWT3YLeZgFrOYrFAk47issFLqd7cTpRql6Fhl7RgU4HOhWhq1rXgaIihAGhGtBMOoRRQeiFO1ZK1Srfq6C4vNJdIBygOd0ljNAoKioiPCzstO9Q5auoDCBUVHd5I5371b2ooNOjVG5DDUDRm0FnRlEDQF/5qga4E3OqAYQq9V9zENw3upSU2pXrqA9KjUY2A02SkwlpXLvZiJfbNZ0JxehOZ5GcnIw4x7XW5zXt2bPHb5/X6ddVXFz9mYSFXXmzUY0F1fY3jrw87BdCeOUZtNvtOBwOjxBzuVxomubzWrUOUFpaSnCwu2i75tJAc49kaM7KdU2gOQUId7twaQgNNJcLzelCc2poLpf72A4NzaUhnBrCKRBOV+W6VrlNVLZXpeUR7hGUyhQ9uNwjMFVpfLzEn/BZ8RWHdSQW/Sa2oqKiUFXVx4uVl5fn4+2qIiYmpsb+er2eyMjIM57rkW+mXLzBlwn+uDEYdArhJoVwE7gVY92yf/9JUlLCzt3RBwNgBsI9LfU1vq9w4VkaSvbvJ/YKuIlLJBJJFYqiEBAQQEBAzaEE58OV8gBzKbk0j8M1YDQa6dSpE6tXr/ZqX716Nd27d69xn7S0NNasWePTPzU1VcZrSSQSySXgqgrXkEguEX4TWwAPP/wwn376KfPnz2fv3r1MmTKF7OxsJk6cCMADDzzAAw884Ok/ceJEsrKymDp1Knv37mX+/Pl8+umnPPLII/66BIlEIrmm2LPHt7SKRCI5O36N2Ro9ejQFBQXMnDmTnJwcWrduzcKFC0lKcs92On7cO1A3OTmZhQsX8vTTT/Phhx8SFxfHjBkzzpr2QSKRSCR1x/Tp03nqqaf8bYZEckXh9wD5SZMmMWnSpBq3ffPNNz5tvXv3Zt26dfVtlkQikUhqYMaMGVJsSSQXiF+HESUSiUQikUiudqTYkkgkEolEIqlHpNiSSCQSyXlz+oxwiURybqTYkkgkEolEIqlHpNiSSCQSyXlzesk0iURybqTYkkgkEolEIqlHlKKiIlkmUiKRSCQSiaSekJ4tiUQikUgkknpEii2JRCKRSCSSekSKLYlEIpFIJJJ6RIotiUQikUgkknpEii2JRCKRSCSSeuSqFFtz586lQ4cOxMbG0rdvX9LT0/1t0kXxww8/cNttt9G6dWvCw8P55JNP/G3SRTN79mz69+9PYmIizZo1Y/z48fz666/+NuuieP/99+nZsyeJiYkkJiYyaNAgli9f7m+z6pTXX3+d8PBwnnzySX+bclFMnz6d8PBwr6VFixb+Nuuiyc7O5sEHH6RZs2bExsbSvXt3NmzY4G+zak379u19/k7h4eGMGzfO36bVGpfLxV//+lfPPapDhw789a9/xel0+tu0i6K0tJSpU6fSrl074uLiGDx4MNu2bfO3WRfEue61QgimT59Oq1atiIuLY9iwYfz222/ndeyrTmwtXryYqVOn8qc//Yl169aRlpbG2LFjOXbsmL9NqzXl5eW0adOGV199lYCAAH+bUyds2LCB++67j+XLl7NkyRL0ej0333wzhYWF/jat1jRs2JAXXniBtWvXsnr1avr06cOECRP45Zdf/G1anbB161bmzZtH27Zt/W1KnZCSksLevXs9y5X+UFZUVMSQIUMQQrBw4UI2b97Ma6+9RnR0tL9NqzWrV6/2+hutXbsWRVG4+eab/W1arZkzZw5z585lxowZbNmyhVdffZX333+f2bNn+9u0i+Kxxx5j1apVvPPOO6Snp9O/f39uvvlmsrKy/G3aeXOue+0bb7zB22+/zYwZM1i1ahXR0dHccsstlJaWnvPYV12erYEDB9K2bVvefPNNT1vnzp0ZNWoU06ZN86NldUNCQgKvvfYaEyZM8LcpdUpZWRlJSUl88skn3Hjjjf42p85ITk5m2rRpTJw40d+mXBTFxcX07duXN954g9dee402bdowc+ZMf5tVa6ZPn86SJUvYuHGjv02pM1588UV++OGHq86beiqzZs3izTffZM+ePQQGBvrbnFoxfvx4IiIi+Oc//+lpe/DBByksLGTBggV+tKz2WCwWGjVqxPz58xk2bJinvW/fvgwaNIhnn33Wj9bVjtPvtUIIWrVqxe9//3ueeOIJwH3dKSkpvPTSS+f8jb+qPFt2u50dO3YwYMAAr/YBAwawefNmP1klOR/KysrQNI3w8HB/m1InuFwuvvzyS8rLy0lLS/O3ORfN5MmTGTVqFH379vW3KXVGRkYGrVu3pkOHDtx7771kZGT426SL4ptvvqFLly5MnDiR5s2b07t3b9577z2EuDqep4UQfPzxx4wfP/6KFVoAPXr0YMOGDezbtw+APXv2sH79egYNGuRny2qP0+nE5XJhNpu92gMCAq6aB5ojR46Qk5PjpS8CAgLo2bPneekLfX0ad6nJz8/H5XL5uM2jo6PJzc31k1WS82Hq1Km0b9/+ihcmu3fvZvDgwVitVoKCgvj3v/99xQ+7zZs3j0OHDvHuu+/625Q6o2vXrvzjH/8gJSWFvLw8Zs6cyeDBg9m0aRORkZH+Nq9WZGRk8MEHH/CHP/yByZMns2vXLqZMmQLA/fff72frLp7Vq1dz5MgR7rzzTn+bclFMnjyZsrIyunfvjqqqOJ1OnnjiCSZNmuRv02pNSEgIaWlpzJo1i9atWxMbG8uiRYvYsmULTZs29bd5dUJOTg5AjfrixIkT59z/qhJbVSiK4vVeCOHTJrl8ePrpp9m0aRP/+9//UFXV3+ZcFCkpKaxfv57i4mKWLFnCQw89xNdff02bNm38bVqt2L9/Py+++CLLli3DaDT625w643QvQteuXenUqROffvopjzzyiJ+sujg0TSM1NdUTLtGxY0cOHTrE3LlzrwqxNW/ePDp37kyHDh38bcpFsXjxYj7//HPmzp1Lq1at2LVrF1OnTiUpKYm77rrL3+bVmnfffZeHH36YNm3aoKoqHTt25NZbb+Xnn3/2t2l1Sm31xVUltqKiolBV1ceLlZeXd0UHiV7NPPXUUyxevJilS5eSnJzsb3MuGqPR6HmSS01NZdu2bfzjH//grbfe8rNltWPLli3k5+dz3XXXedpcLhfp6el8+OGHZGVlYTKZ/Ghh3RAcHEyrVq04dOiQv02pNbGxsbRs2dKrrUWLFhw/ftxPFtUdJ0+e5Ntvv2XWrFn+NuWiee6553jkkUcYM2YMAG3btuXYsWP87W9/u6LFVpMmTfj2228pLy+ntLSUuLg4Jk6cSOPGjf1tWp0QGxsLQG5uLo0aNfK0n6++uKpitoxGI506dWL16tVe7atXr6Z79+5+skpyJqZMmcKiRYtYsmTJVTHtviY0TcNut/vbjFozbNgw0tPTWb9+vWdJTU1lzJgxrF+//qrxdlmtVvbv3+/5Qb0S6dGjBwcOHPBqO3DgAImJiX6yqO749NNPMZlMjB492t+mXDQVFRU+HnxVVdE0zU8W1S1BQUHExcVRVFTE999/z0033eRvk+qExo0bExsb66UvrFYrGzduPC99cVV5tgAefvhhHnjgAbp06UL37t358MMPyc7OvqJng5WVlXmeuDVN4/jx4+zcuZOIiIgr9of0iSeeYMGCBfz73/8mPDzcMx4eFBREcHCwn62rHc8//zyDBw8mISGBsrIyFi1axIYNG1i4cKG/Tas1VXmNTiUwMJCIiIgrdmgU4Nlnn2Xo0KE0atTIE7NVUVHB7bff7m/Tas0f/vAHBg8ezKxZsxg9ejQ7d+7kvffe4y9/+Yu/TbsohBDMnz+f0aNHExIS4m9zLpqhQ4cyZ84cGjduTKtWrdi5cydvv/02t912m79Nuyi+//57NE0jJSWFw4cP85e//IWUlJQraub8ue61Dz30EK+//jopKSk0b96cWbNmERQUxK233nrOY191qR/AndT0jTfeICcnh9atW/PKK6/Qq1cvf5tVa9avX8+IESN82m+//XbeeecdP1h08Zxp1uGUKVN46qmnLrE1dcNDDz3E+vXryc3NJTQ0lLZt2/LYY48xcOBAf5tWpwwbNuyKT/1w7733kp6eTn5+Pg0aNKBr164888wztGrVyt+mXRTLly/nxRdf5MCBAzRq1Ijf//73PPDAA1d0zOq6desYOXIk33//PV26dPG3ORdNaWkpL7/8Ml9//TV5eXnExsYyZswY/vznP/vM5ruS+Oqrr3jhhRfIysoiIiKCkSNH8uyzzxIWFuZv086bc91rhRC8+uqr/Otf/6KoqIguXbowa9as83rwvCrFlkQikUgkEsnlwlUVsyWRSCQSiURyuSHFlkQikUgkEkk9IsWWRCKRSCQSST0ixZZEIpFIJBJJPSLFlkQikUgkEkk9IsWWRCKRSCQSST0ixZZEIpFcxsyfP5/w8HAyMzP9bYpEIqklUmxJJBIPn376KeHh4aSmpvrblMuWNm3aeDLrh4eHk5CQwA033MCCBQtqfcySkhKmT5/ODz/8UIeWSiSSy4WrrlyPRCKpPQsXLiQpKYnDhw+zZcsW0tLS/G3SZUn79u155JFHAMjOzmb+/Pk88MAD2O127rzzzgs+XmlpKTNmzECv1/tUu5gwYQLjxo27orOLSyTXOtKzJZFIALdoWLduHc8++yyJiYl+relYUVHht3OfDw0bNmT8+PGMHz+exx9/nG+//ZbAwMB6KZ+lqqoUWhLJFY4UWxKJBIAvvvgCs9nMTTfdxJgxY1i8eDEOh8OrT1paGsOHD69x/27duvls++KLL+jfvz/x8fEkJSVx++23s2/fPq8+999/PwkJCWRkZHDbbbeRmJjoKQi9c+dOHnzwQTp27EhsbCzNmjXj97//PVlZWT7n3717NyNGjCAuLo6WLVvywgsvsGLFCsLDw9m4caNX359++olx48aRlJREXFwcAwcO5Lvvvrvgz6yKKtsyMjK82vPz83nmmWfo2bMnjRo1olGjRowcOZItW7Z4+hw6dIi2bdsC8PLLL3uGJx999FGg5pitoUOHct1117F//35uueUWGjZsSIsWLfjrX/+KEN4V2AoLC3nwwQdJSkoiKSmJe+65h6ysLMLDw6/o+pYSyZWEHEaUSCQALFiwgCFDhhAcHMytt97KnDlzWLlyJTfeeKOnzy233MLMmTPJzs4mLi7O075z507279/PH/7wB0/bzJkzefnllxk1ahQTJkygtLSUuXPnMmTIENauXUtSUpKnr9PpZPTo0XTr1o0XX3wRvd7907Rq1SoOHjzI+PHjSUhI4ODBg3z00Uds376dDRs2eDw+mZmZDB8+HCEEjz32GOHh4Xz++eesXLnS5zrXrl3L2LFjad++PU8++SRGo5Evv/yS2267jY8//phhw4Zd8GfncDg4ceIEERERXu2HDh1i6dKljBo1iqZNm1JYWMi8efMYOXIka9asoVWrVsTExDBjxgymTJnCqFGjuOmmmwBo2rTpWc9ZVFTEzTffzE033cSIESP47rvvmDVrFo0bN/YMZWqaxrhx4/jpp5+45557aNOmDatXr2b8+PEXfI0SiaT2SLElkUj47bff+OWXX5gyZQoA7dq1o3Xr1ixcuNBLbN16663MmDGDr776ioceesjTvnjxYvR6PSNHjgQgIyODV199lWeeeYYnn3zS02/8+PF0796d2bNnM2fOHE+7zWZj+PDhvPjii1523X///UyePNmrbdCgQYwYMYJvv/2W0aNHA/C3v/2NwsJCVq9e7Qnuv+eee3zinzRNY/LkyfTq1YvFixejKAoAkyZNYtCgQUybNu28xJbD4SA/Px9wD7/OmTOHvLw8TxxXFR06dGDHjh3odNWDCHfffTfdunXjvffeY/bs2QQHBzN8+HCmTJlCu3btzlsInThxgrfffpsJEyYAMHHiRHr16sX8+fM9YmvJkiVs3bqVl156yeMpmzRpEpMmTWLXrl3ndR6JRHLxyGFEiUTCggULCA0NZfDgwZ62MWPGsGzZMkpKSjxtKSkptG/fnq+++spr/6+++op+/foRFRUFwNKlS9E0jdGjR5Ofn+9ZTCYTqamprFu3zseG++67z6ctMDDQs15WVkZ+fj5t2rQhJCSEHTt2eLatWLGCtLQ0r1mUgYGB3HXXXV7H+/nnnzl8+DBjx46loKDAY1dRUREDBw7kwIEDNQ5Rns6qVato1qwZzZo1o1evXixatIhJkybx3HPPefUzmUweoWW1WikoKAAgNTXVy/7aEBQU5BluBVAUhZ49e3oNZa5YsQK9Xs+9997rte8DDzxwUeeWSCQXhvRsSSTXOEIIFi1aRK9evcjOzva0d+vWDavVypIlS7jjjjs87WPGjOGFF17g6NGjJCUl8eOPP3LkyBGPVwzgwIEDCCHo0qVLjecMDQ31eq/X60lMTPTpV1BQwPPPP8/SpUspLCz02lZcXOxZP378ONddd53P/s2aNfN6f+DAAQCv4c7TOXnyJA0bNjzjdoCuXbvy7LPP4nK52L17N7NmzSI3N9cz/FmFpmnMnj2b+fPnc/To0bPadqEkJCR4ecwAwsPDvT6nY8eOERcXR1BQkFe/5s2bX9S5JRLJhSHFlkRyjbN+/XqOHz/O8ePHWbZsmc/2hQsXeomt0aNH88ILL/DVV1/x+OOP8+WXX2IymbyG3zRNQ1EUFi1ahKqqPsc8ve1UD9Cp3HPPPWzdupVHH32Udu3aERISgqIo3H333Wiads5rOz1YvGqfl156ifbt29e4z7lipQCioqLo168fAAMHDiQlJYXbb7+d999/38trNGvWLF555RUmTJhA//79iYiIQFVVZs6ceV4etLNR0+cKvtdc2z4SiaTukGJLIrnGWbhwIREREfz973/32bZ27Vo++OADsrKyPN6epKQkunXrxpdffsljjz3Gf//7X2644QbCwsI8+zVp0gQhBI0bN661FyU/P9+TiuKJJ57wtJeXl3sNbQI0atSIQ4cO+Rzj9LYmTZoAEBIS4hFLdcGNN95Ir169eO2117jjjjs8nqSq4dW3337bq/9LL73k9b4qdqyuSUxMJD09nfLyci/v1sGDB+vlfBKJpGZkzJZEcg1TNUw4aNAghg8f7rM8/PDDaJrGokWLvPYbM2YMO3fu5OOPPyYrK4sxY8Z4bb/55ptRVZXp06fX6IHKy8s7p21VnpvTvTBvv/22T9ugQYPYsmUL27dv97RVVFQwf/58r35dunQhOTmZN99800ewna9dZ+Lxxx8nPz+fefPmedp0Op2Prenp6Wzbts2rrSo2raioqNbnr4lBgwbhdDr58MMPvdrffffdOj2PRCI5O9KzJZFcw1QFwFelGzid5ORkWrduzYIFC3jsscc87bfccgtPP/00zzzzDEFBQQwdOtRrv6ZNmzJt2jSee+45jhw5wrBhw4iIiODo0aMsX76cnj17njPHU3h4ONdddx1/+9vfsFqtJCQksHHjRjZt2kR4eLhX38mTJ/PFF19wyy238MADDxAWFsbnn39OSEgIUO05UlWVt956i7Fjx3Ldddfxu9/9jsTERLKzs9myZQtZWVmkp6df8OcIbmHTqlUr3n77bSZNmoTRaOTGG29k1qxZPPTQQ/To0YP9+/czf/58WrZsic1m87rWJk2asGjRIpKTk4mMjKRJkyZ07ty5VrZUMWLECLp06cK0adM4fPiwJ/XDsWPHvD4XiURSv0jPlkRyDbNgwQKMRiMDBw48Y5+hQ4eye/dufvnlF09bTEwMvXv3prS0lKFDh3rNGqziscce49NPP8VkMjF79myeeuop/vvf/5KamupJV3AuPvjgA2644QY++OADnn/+eUpKSliyZInP+Ro1asTXX39Nu3btmDNnDnPmzGHAgAH88Y9/BPDKwN67d29WrlxJt27d+Oijj3jiiSeYP38+er2eqVOnnpddNaEoCg8//DCZmZl8/vnnADz55JM8+uijrFmzhilTppCens68efPo0KGDz/7vvPMOCQkJPPvss9x333189NFHtbalClVV+eKLLxg7diyLFi3y5DD74IMPAHesnEQiqX+UoqIiGSkpkUiuSt58802ee+459u3bR0xMjL/NuWzYtm0bAwYM4MMPP/TkKpNIJPWH9GxJJJKrAovF4vW+oqKCjz76yJOl/Vrl9M8F3HFvqqrSs2dPP1gkkVx7yJgtiURyVdC/f3+uv/56WrduTUFBAZ9//jkZGRn861//8rdpfuWPf/wjFouF7t27I4Rg+fLlrF27lvvvv9+r5JJEIqk/5DCiRCK5Kpj2/+3dMRHDMBBFwWNiAIYkEBohMAxjUC88bgVBpULAVSbXZHZRvGv+XVeMMWLOGXvvOM8zWmtf/Tr8J733uO87nueJtVYcxxGllKi1vm6bAb8ntgAAEjlrAAASiS0AgERiCwAgkdgCAEgktgAAEoktAIBEHxvpIDNf3ZE0AAAAAElFTkSuQmCC\n",
      "text/plain": [
       "<Figure size 612x396 with 1 Axes>"
      ]
     },
     "metadata": {},
     "output_type": "display_data"
    }
   ],
   "source": [
    "drama_movies = movies_info[movies_info['genres'].str.contains('Drama') == True]\n",
    "thriller_movies = movies_info[movies_info['genres'].str.contains('Thriller') == True]\n",
    "docu_movies = movies_info[movies_info['genres'].str.contains('Documentary') == True]\n",
    "action_movies = movies_info[movies_info['genres'].str.contains('Action') == True]\n",
    "horror_movies = movies_info[movies_info['genres'].str.contains('Horror') == True]\n",
    "comedy_movies = movies_info[movies_info['genres'].str.contains('Comedy') == True]\n",
    "\n",
    "\n",
    "drama_movies['averageRating'].plot.kde(label = 'Drama', legend = True, figsize = (8.5,5.5))\n",
    "thriller_movies['averageRating'].plot.kde(label = 'Thriller', legend = True)\n",
    "docu_movies['averageRating'].plot.kde(label = 'Documentary', legend = True)\n",
    "action_movies['averageRating'].plot.kde(label = 'Action', legend = True)\n",
    "horror_movies['averageRating'].plot.kde(label = 'Horror', legend = True)\n",
    "comedy_movies['averageRating'].plot.kde(label = 'Comedy', legend = True)\n",
    "\n",
    "plt.axvline(x=6.42, ymin=0, ymax=1, color='black', ls='--', lw=1)\n",
    "plt.axvline(x=5.8, ymin=0, ymax=1, color= 'red', lw=1.25)\n",
    "plt.axvline(x=7.1, ymin=0, ymax=1, color= 'olive', lw=1.25)\n",
    "plt.axvline(x=4.7, ymin=0, ymax=1, color= 'darkred', lw=1.25)\n",
    "plt.axvline(x=8, ymin=0, ymax=1, color= 'darkgreen', lw=1.25)\n",
    "\n",
    "plt.title('Comparing Distributions\\n for Average Ratings Among Genres')\n",
    "plt.xlabel('Average Rating')\n",
    "plt.xlim(0,10)\n",
    "plt.xticks(arange(0,10.1,1))\n",
    "plt.show()\n"
   ]
  },
  {
   "cell_type": "markdown",
   "metadata": {},
   "source": [
    "Based on the above kernel density plot:\n",
    "- Documentary movies tend to recieve \"good\" ratings\n",
    "- Horror movies tend to receive \"bad\" ratings\n",
    "- Drama movies generally receive \"average\" or \"good\" ratings\n",
    "- Thriller, action, and comedy movies tend to receive \"average\" ratings"
   ]
  },
  {
   "cell_type": "markdown",
   "metadata": {},
   "source": [
    "Below I displayed the mean/average for each genre to provide an exact numerical reference."
   ]
  },
  {
   "cell_type": "code",
   "execution_count": 525,
   "metadata": {},
   "outputs": [
    {
     "name": "stdout",
     "output_type": "stream",
     "text": [
      "{'Drama': 6.6349446947972295, 'Thriller': 6.1756571428571405, 'Documentary': 7.379487179487183, 'Action': 6.272361359570658, 'Horror': 5.718430034129689, 'Comedy': 6.28813920454546, 'Animation': 6.7574074074074035}\n"
     ]
    }
   ],
   "source": [
    "genre_list = ['Drama', 'Thriller', 'Documentary', 'Action', 'Horror', 'Comedy', 'Animation']\n",
    "genre_ratings = {}\n",
    "\n",
    "for genre in genre_list:\n",
    "    g_list = movies_info[movies_info['genres'].str.contains(genre) == True]\n",
    "    genre_ratings[genre] = g_list['averageRating'].mean()\n",
    "    \n",
    "print(genre_ratings)\n"
   ]
  },
  {
   "cell_type": "markdown",
   "metadata": {},
   "source": [
    "## Longer Films Receive Slightly Better Reviews\n",
    "\n",
    "As displayed above, certain genres are more popular than others based on user reviews. Next I wanted to analyze whether or not there was a difference in ratings based on the length of a movie. To determine this, I used the `corr()` function with the `runtimeMinutes` and `averageRating` columns to determine the correlation coefficient, and to display this relationship with a scatter plot. Due to the abundance of movies, and the likelihood of overlap I used the `alpha` blending parameter. This blending parameter displays clusters in different shades and helped determine the abundance of plots at a specific area. Without this, the scatter plot would contain just one solid color and it would be difficult to make sense of all the overlap."
   ]
  },
  {
   "cell_type": "code",
   "execution_count": 526,
   "metadata": {},
   "outputs": [
    {
     "data": {
      "text/plain": [
       "0.32671617764676353"
      ]
     },
     "execution_count": 526,
     "metadata": {},
     "output_type": "execute_result"
    }
   ],
   "source": [
    "#correlation coefficient\n",
    "movies_info['runtimeMinutes'].corr(movies_info['averageRating'])"
   ]
  },
  {
   "cell_type": "code",
   "execution_count": 527,
   "metadata": {},
   "outputs": [
    {
     "data": {
      "text/plain": [
       "Text(0.5, 0, 'Runtime in Minutes')"
      ]
     },
     "execution_count": 527,
     "metadata": {},
     "output_type": "execute_result"
    },
    {
     "data": {
      "image/png": "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\n",
      "text/plain": [
       "<Figure size 432x288 with 1 Axes>"
      ]
     },
     "metadata": {},
     "output_type": "display_data"
    }
   ],
   "source": [
    "ax1 = movies_info.plot.scatter(x='runtimeMinutes',\n",
    "                        y='averageRating',\n",
    "                        c='DarkBlue',\n",
    "                        alpha= 0.05)\n",
    "plt.ylabel('Average Rating')\n",
    "plt.xlabel('Runtime in Minutes')"
   ]
  },
  {
   "cell_type": "markdown",
   "metadata": {},
   "source": [
    "The results of the scatter plot and the correlation coefficient show a slightly positive relationship between movie length and the average rating the movie receives. With a correlation coefficient of about 0.33, it is a fairly weak correlation. By looking at the scatter plot, it appears that movies between 60 and 120 minutes show the most positive relationship, while movies above and below that interval are more spread out. In summary, when dealing with movies between 1 and 2 hours, there is a slight correlation that users give the longer movies better reviews. "
   ]
  },
  {
   "cell_type": "markdown",
   "metadata": {},
   "source": [
    "<a id='highlights'></a>\n",
    "\n",
    "# Highlights of the Decade\n",
    "\n",
    "Next I highlighted the top movies and directors of the decade. \n",
    "\n",
    "Here are the topics analyzed:\n",
    "- Top movies, by analyzing the number of ratings a movie received and the movies' ratings themselves\n",
    "- Top directors when analyzing the number of movies that person directed\n",
    "- Top directors when analyzing the average ratings that director's movies receive\n",
    "- Directors with the best average rating per movie (sample size of at least 3 movies)"
   ]
  },
  {
   "cell_type": "markdown",
   "metadata": {},
   "source": [
    "## Top Movie of the Decade\n",
    "\n",
    "To determine the top movie of the decade, I examined movies that were both highly watched as well as well-liked based on user ratings. This was measured by **popularity** (`numVotes`) as well as **review score** (`averageRating`). \n",
    "\n",
    "\n",
    "- **Popularity:** \n",
    "Any movie can have a couple of good reviews, but for it to prove worthy it needs to maintain that high average score with a large sample size of reviews. Since movies at the beginning of the decade are more likely to have more reviews, I established a guidline based off popularity in 2019. That way, these movies are not mistakenly filtered out of the scoring for unfair reasons. To do this, I examined the top percentiles of movies in 2019, and used that threshold as a measure for all movies in the past decade. This gave me a list of the popular movies of the decade.\n",
    "\n",
    "\n",
    "\n",
    "- **Review Score:**\n",
    "Review score was measured by the `numVotes` column, and represented how well-liked a movie is. To rank this, I sorted the filtered films by the `averageRating` column in addition to the `numVotes` column. By using the `sort_values()` function, with the `averageRating` listed first and the `numVotes` listed second, the results displayed the highest rated films in order, with `numVotes` being used in as a tie-breaker.\n"
   ]
  },
  {
   "cell_type": "code",
   "execution_count": 528,
   "metadata": {},
   "outputs": [
    {
     "data": {
      "text/html": [
       "<div>\n",
       "<style scoped>\n",
       "    .dataframe tbody tr th:only-of-type {\n",
       "        vertical-align: middle;\n",
       "    }\n",
       "\n",
       "    .dataframe tbody tr th {\n",
       "        vertical-align: top;\n",
       "    }\n",
       "\n",
       "    .dataframe thead th {\n",
       "        text-align: right;\n",
       "    }\n",
       "</style>\n",
       "<table border=\"1\" class=\"dataframe\">\n",
       "  <thead>\n",
       "    <tr style=\"text-align: right;\">\n",
       "      <th></th>\n",
       "      <th>tconst</th>\n",
       "      <th>primaryTitle</th>\n",
       "      <th>startYear</th>\n",
       "      <th>runtimeMinutes</th>\n",
       "      <th>genres</th>\n",
       "      <th>averageRating</th>\n",
       "      <th>numVotes</th>\n",
       "      <th>primaryName</th>\n",
       "    </tr>\n",
       "  </thead>\n",
       "  <tbody>\n",
       "    <tr>\n",
       "      <td>25</td>\n",
       "      <td>tt0437086</td>\n",
       "      <td>Alita: Battle Angel</td>\n",
       "      <td>2019</td>\n",
       "      <td>122</td>\n",
       "      <td>Action,Adventure,Sci-Fi</td>\n",
       "      <td>7.4</td>\n",
       "      <td>169569</td>\n",
       "      <td>Robert Rodriguez</td>\n",
       "    </tr>\n",
       "    <tr>\n",
       "      <td>30</td>\n",
       "      <td>tt0448115</td>\n",
       "      <td>Shazam!</td>\n",
       "      <td>2019</td>\n",
       "      <td>132</td>\n",
       "      <td>Action,Adventure,Comedy</td>\n",
       "      <td>7.1</td>\n",
       "      <td>189512</td>\n",
       "      <td>David F. Sandberg</td>\n",
       "    </tr>\n",
       "    <tr>\n",
       "      <td>93</td>\n",
       "      <td>tt0800325</td>\n",
       "      <td>The Dirt</td>\n",
       "      <td>2019</td>\n",
       "      <td>107</td>\n",
       "      <td>Biography,Comedy,Drama</td>\n",
       "      <td>7.0</td>\n",
       "      <td>31462</td>\n",
       "      <td>Jeff Tremaine</td>\n",
       "    </tr>\n",
       "    <tr>\n",
       "      <td>118</td>\n",
       "      <td>tt0837563</td>\n",
       "      <td>Pet Sematary</td>\n",
       "      <td>2019</td>\n",
       "      <td>101</td>\n",
       "      <td>Horror,Mystery,Thriller</td>\n",
       "      <td>5.8</td>\n",
       "      <td>60921</td>\n",
       "      <td>Kevin Kölsch</td>\n",
       "    </tr>\n",
       "    <tr>\n",
       "      <td>188</td>\n",
       "      <td>tt10147546</td>\n",
       "      <td>Homecoming: A Film by Beyoncé</td>\n",
       "      <td>2019</td>\n",
       "      <td>137</td>\n",
       "      <td>Documentary,Music</td>\n",
       "      <td>7.5</td>\n",
       "      <td>4564</td>\n",
       "      <td>Beyoncé</td>\n",
       "    </tr>\n",
       "  </tbody>\n",
       "</table>\n",
       "</div>"
      ],
      "text/plain": [
       "         tconst                   primaryTitle  startYear  runtimeMinutes  \\\n",
       "25    tt0437086            Alita: Battle Angel       2019             122   \n",
       "30    tt0448115                        Shazam!       2019             132   \n",
       "93    tt0800325                       The Dirt       2019             107   \n",
       "118   tt0837563                   Pet Sematary       2019             101   \n",
       "188  tt10147546  Homecoming: A Film by Beyoncé       2019             137   \n",
       "\n",
       "                      genres  averageRating  numVotes        primaryName  \n",
       "25   Action,Adventure,Sci-Fi            7.4    169569   Robert Rodriguez  \n",
       "30   Action,Adventure,Comedy            7.1    189512  David F. Sandberg  \n",
       "93    Biography,Comedy,Drama            7.0     31462      Jeff Tremaine  \n",
       "118  Horror,Mystery,Thriller            5.8     60921       Kevin Kölsch  \n",
       "188        Documentary,Music            7.5      4564            Beyoncé  "
      ]
     },
     "execution_count": 528,
     "metadata": {},
     "output_type": "execute_result"
    }
   ],
   "source": [
    "#Filtering for movies in 2019\n",
    "nineteens = movies_info[movies_info['startYear'] == 2019]\n",
    "nineteens.head()"
   ]
  },
  {
   "cell_type": "code",
   "execution_count": 529,
   "metadata": {},
   "outputs": [
    {
     "data": {
      "text/plain": [
       "count       193.000000\n",
       "mean      37946.450777\n",
       "std       68817.000993\n",
       "min        4529.000000\n",
       "25%        7019.000000\n",
       "50%       15414.000000\n",
       "75%       35159.000000\n",
       "90%       82742.400000\n",
       "max      596023.000000\n",
       "Name: numVotes, dtype: float64"
      ]
     },
     "execution_count": 529,
     "metadata": {},
     "output_type": "execute_result"
    }
   ],
   "source": [
    "#Measuring percentiles of the 2019 movies\n",
    "nineteens['numVotes'].describe(percentiles = [.25, .5, .75, .90])"
   ]
  },
  {
   "cell_type": "code",
   "execution_count": 530,
   "metadata": {},
   "outputs": [
    {
     "data": {
      "text/html": [
       "<div>\n",
       "<style scoped>\n",
       "    .dataframe tbody tr th:only-of-type {\n",
       "        vertical-align: middle;\n",
       "    }\n",
       "\n",
       "    .dataframe tbody tr th {\n",
       "        vertical-align: top;\n",
       "    }\n",
       "\n",
       "    .dataframe thead th {\n",
       "        text-align: right;\n",
       "    }\n",
       "</style>\n",
       "<table border=\"1\" class=\"dataframe\">\n",
       "  <thead>\n",
       "    <tr style=\"text-align: right;\">\n",
       "      <th></th>\n",
       "      <th>tconst</th>\n",
       "      <th>primaryTitle</th>\n",
       "      <th>startYear</th>\n",
       "      <th>runtimeMinutes</th>\n",
       "      <th>genres</th>\n",
       "      <th>averageRating</th>\n",
       "      <th>numVotes</th>\n",
       "      <th>primaryName</th>\n",
       "    </tr>\n",
       "  </thead>\n",
       "  <tbody>\n",
       "    <tr>\n",
       "      <td>3877</td>\n",
       "      <td>tt5813916</td>\n",
       "      <td>The Mountain II</td>\n",
       "      <td>2016</td>\n",
       "      <td>135</td>\n",
       "      <td>Action,Drama,War</td>\n",
       "      <td>9.0</td>\n",
       "      <td>101738</td>\n",
       "      <td>Alper Caglar</td>\n",
       "    </tr>\n",
       "    <tr>\n",
       "      <td>578</td>\n",
       "      <td>tt1375666</td>\n",
       "      <td>Inception</td>\n",
       "      <td>2010</td>\n",
       "      <td>148</td>\n",
       "      <td>Action,Adventure,Sci-Fi</td>\n",
       "      <td>8.8</td>\n",
       "      <td>1889737</td>\n",
       "      <td>Christopher Nolan</td>\n",
       "    </tr>\n",
       "    <tr>\n",
       "      <td>4200</td>\n",
       "      <td>tt7286456</td>\n",
       "      <td>Joker</td>\n",
       "      <td>2019</td>\n",
       "      <td>122</td>\n",
       "      <td>Crime,Drama,Thriller</td>\n",
       "      <td>8.8</td>\n",
       "      <td>427291</td>\n",
       "      <td>Todd Phillips</td>\n",
       "    </tr>\n",
       "    <tr>\n",
       "      <td>107</td>\n",
       "      <td>tt0816692</td>\n",
       "      <td>Interstellar</td>\n",
       "      <td>2014</td>\n",
       "      <td>169</td>\n",
       "      <td>Adventure,Drama,Sci-Fi</td>\n",
       "      <td>8.6</td>\n",
       "      <td>1345192</td>\n",
       "      <td>Christopher Nolan</td>\n",
       "    </tr>\n",
       "    <tr>\n",
       "      <td>3301</td>\n",
       "      <td>tt4154756</td>\n",
       "      <td>Avengers: Infinity War</td>\n",
       "      <td>2018</td>\n",
       "      <td>149</td>\n",
       "      <td>Action,Adventure,Sci-Fi</td>\n",
       "      <td>8.5</td>\n",
       "      <td>722418</td>\n",
       "      <td>Anthony Russo</td>\n",
       "    </tr>\n",
       "    <tr>\n",
       "      <td>1207</td>\n",
       "      <td>tt1675434</td>\n",
       "      <td>The Intouchables</td>\n",
       "      <td>2011</td>\n",
       "      <td>112</td>\n",
       "      <td>Biography,Comedy,Drama</td>\n",
       "      <td>8.5</td>\n",
       "      <td>696970</td>\n",
       "      <td>Olivier Nakache</td>\n",
       "    </tr>\n",
       "    <tr>\n",
       "      <td>2480</td>\n",
       "      <td>tt2582802</td>\n",
       "      <td>Whiplash</td>\n",
       "      <td>2014</td>\n",
       "      <td>106</td>\n",
       "      <td>Drama,Music</td>\n",
       "      <td>8.5</td>\n",
       "      <td>640185</td>\n",
       "      <td>Damien Chazelle</td>\n",
       "    </tr>\n",
       "    <tr>\n",
       "      <td>3302</td>\n",
       "      <td>tt4154796</td>\n",
       "      <td>Avengers: Endgame</td>\n",
       "      <td>2019</td>\n",
       "      <td>181</td>\n",
       "      <td>Action,Adventure,Drama</td>\n",
       "      <td>8.5</td>\n",
       "      <td>596023</td>\n",
       "      <td>Anthony Russo</td>\n",
       "    </tr>\n",
       "    <tr>\n",
       "      <td>552</td>\n",
       "      <td>tt1345836</td>\n",
       "      <td>The Dark Knight Rises</td>\n",
       "      <td>2012</td>\n",
       "      <td>164</td>\n",
       "      <td>Action,Thriller</td>\n",
       "      <td>8.4</td>\n",
       "      <td>1419385</td>\n",
       "      <td>Christopher Nolan</td>\n",
       "    </tr>\n",
       "    <tr>\n",
       "      <td>1542</td>\n",
       "      <td>tt1853728</td>\n",
       "      <td>Django Unchained</td>\n",
       "      <td>2012</td>\n",
       "      <td>165</td>\n",
       "      <td>Drama,Western</td>\n",
       "      <td>8.4</td>\n",
       "      <td>1247210</td>\n",
       "      <td>Quentin Tarantino</td>\n",
       "    </tr>\n",
       "  </tbody>\n",
       "</table>\n",
       "</div>"
      ],
      "text/plain": [
       "         tconst            primaryTitle  startYear  runtimeMinutes  \\\n",
       "3877  tt5813916         The Mountain II       2016             135   \n",
       "578   tt1375666               Inception       2010             148   \n",
       "4200  tt7286456                   Joker       2019             122   \n",
       "107   tt0816692            Interstellar       2014             169   \n",
       "3301  tt4154756  Avengers: Infinity War       2018             149   \n",
       "1207  tt1675434        The Intouchables       2011             112   \n",
       "2480  tt2582802                Whiplash       2014             106   \n",
       "3302  tt4154796       Avengers: Endgame       2019             181   \n",
       "552   tt1345836   The Dark Knight Rises       2012             164   \n",
       "1542  tt1853728        Django Unchained       2012             165   \n",
       "\n",
       "                       genres  averageRating  numVotes        primaryName  \n",
       "3877         Action,Drama,War            9.0    101738       Alper Caglar  \n",
       "578   Action,Adventure,Sci-Fi            8.8   1889737  Christopher Nolan  \n",
       "4200     Crime,Drama,Thriller            8.8    427291      Todd Phillips  \n",
       "107    Adventure,Drama,Sci-Fi            8.6   1345192  Christopher Nolan  \n",
       "3301  Action,Adventure,Sci-Fi            8.5    722418      Anthony Russo  \n",
       "1207   Biography,Comedy,Drama            8.5    696970    Olivier Nakache  \n",
       "2480              Drama,Music            8.5    640185    Damien Chazelle  \n",
       "3302   Action,Adventure,Drama            8.5    596023      Anthony Russo  \n",
       "552           Action,Thriller            8.4   1419385  Christopher Nolan  \n",
       "1542            Drama,Western            8.4   1247210  Quentin Tarantino  "
      ]
     },
     "execution_count": 530,
     "metadata": {},
     "output_type": "execute_result"
    }
   ],
   "source": [
    "#Using the 90th percentile of 2019 for all movies\n",
    "movie_of_decade = movies_info[movies_info['numVotes'] >= 85000]\n",
    "movie_of_decade = movie_of_decade.sort_values(by=['averageRating', 'numVotes'], ascending=False)\n",
    "movie_of_decade.head(10)"
   ]
  },
  {
   "cell_type": "markdown",
   "metadata": {},
   "source": [
    "The results I found indicated that The Mountain II was the top-rated popular movie of the decade. After reviewing Reddit forums and a few other sources, I looked up the background of The Mountain II, to determine the validity of this score. I questioned this as the top-rated movie of the decade because it is a relatively unknown movie. According to some forums such as [this one](https://www.reddit.com/r/movies/comments/5cvt34/1010_movie_on_imdb_with_39000_vote/) on Reddit, I learned that some movies produced in Turkey have inflated reviews because the companies who produce the movies use large organized groups to give their movies perfect scores, which inaccurately inflates user review scores. When comparing the ratings of The Mountain II using other sources, such as Rotten Tomatoes, it appeared that this tactic was responsible for inflating the score of this movie. I would have compared the user ratings of The Mountain II to professional critic reviews of the movie, but the movie lacked reviews from professional movie critics.\n",
    "\n",
    "The Mountian II may deserve praise regardless of the possible controversy, but when looking back at the last ten years, Inception, which finished second according to the chart above, actually tops The Mountain II. The goal was to identify movies based on popularity and user ratings, which makes Inception the winner because it is not only a notable movie based on popularity and reviews, but it is also commonly known. I consider The Joker second to Inception. Though their numbers are close, and the data above shows a tie, Joker has been reviewed less than Inception since it was released in 2019. My prediction would be that as the sample size of reviews for The Joker increases, the movie's score will decrease, making it even more clear that Inception is the winner of the decade.\n",
    "\n",
    "**WINNER: Inception**\n"
   ]
  },
  {
   "cell_type": "markdown",
   "metadata": {},
   "source": [
    "## Directors that Directed the Most Movies\n",
    "\n",
    "Moving on to directors, I highlighted the directors that have made the most movies in the last decade, and I looked at some characteristics of these movies. To do this, I used the `groupby()` function to aggregate the amount of films per director, as well as their films' average rating, the average number of votes per movie, and the average length of each film. This provided a snapshot of the top directors by volume, as well as the types of films they made."
   ]
  },
  {
   "cell_type": "code",
   "execution_count": 531,
   "metadata": {},
   "outputs": [],
   "source": [
    "director_comp = movies_info.groupby('primaryName').agg({'primaryTitle': 'count', 'averageRating': 'mean', 'numVotes': 'mean', 'runtimeMinutes': 'mean'})"
   ]
  },
  {
   "cell_type": "code",
   "execution_count": 532,
   "metadata": {},
   "outputs": [
    {
     "data": {
      "text/html": [
       "<div>\n",
       "<style scoped>\n",
       "    .dataframe tbody tr th:only-of-type {\n",
       "        vertical-align: middle;\n",
       "    }\n",
       "\n",
       "    .dataframe tbody tr th {\n",
       "        vertical-align: top;\n",
       "    }\n",
       "\n",
       "    .dataframe thead th {\n",
       "        text-align: right;\n",
       "    }\n",
       "</style>\n",
       "<table border=\"1\" class=\"dataframe\">\n",
       "  <thead>\n",
       "    <tr style=\"text-align: right;\">\n",
       "      <th></th>\n",
       "      <th>numFilms</th>\n",
       "      <th>averageRating</th>\n",
       "      <th>perFilmVotes</th>\n",
       "      <th>averageRuntime</th>\n",
       "    </tr>\n",
       "    <tr>\n",
       "      <th>Director</th>\n",
       "      <th></th>\n",
       "      <th></th>\n",
       "      <th></th>\n",
       "      <th></th>\n",
       "    </tr>\n",
       "  </thead>\n",
       "  <tbody>\n",
       "    <tr>\n",
       "      <td>Tyler Perry</td>\n",
       "      <td>11</td>\n",
       "      <td>5.090909</td>\n",
       "      <td>7277.727273</td>\n",
       "      <td>112.636364</td>\n",
       "    </tr>\n",
       "    <tr>\n",
       "      <td>Woody Allen</td>\n",
       "      <td>9</td>\n",
       "      <td>6.722222</td>\n",
       "      <td>96772.333333</td>\n",
       "      <td>98.111111</td>\n",
       "    </tr>\n",
       "    <tr>\n",
       "      <td>Steven Soderbergh</td>\n",
       "      <td>9</td>\n",
       "      <td>6.500000</td>\n",
       "      <td>87405.444444</td>\n",
       "      <td>103.777778</td>\n",
       "    </tr>\n",
       "    <tr>\n",
       "      <td>David Gordon Green</td>\n",
       "      <td>8</td>\n",
       "      <td>6.212500</td>\n",
       "      <td>48038.375000</td>\n",
       "      <td>102.875000</td>\n",
       "    </tr>\n",
       "    <tr>\n",
       "      <td>Rohit Shetty</td>\n",
       "      <td>8</td>\n",
       "      <td>5.712500</td>\n",
       "      <td>16556.875000</td>\n",
       "      <td>149.000000</td>\n",
       "    </tr>\n",
       "    <tr>\n",
       "      <td>Steven Spielberg</td>\n",
       "      <td>7</td>\n",
       "      <td>7.214286</td>\n",
       "      <td>192627.571429</td>\n",
       "      <td>131.142857</td>\n",
       "    </tr>\n",
       "    <tr>\n",
       "      <td>Clint Eastwood</td>\n",
       "      <td>7</td>\n",
       "      <td>6.657143</td>\n",
       "      <td>137093.857143</td>\n",
       "      <td>119.857143</td>\n",
       "    </tr>\n",
       "    <tr>\n",
       "      <td>Ridley Scott</td>\n",
       "      <td>7</td>\n",
       "      <td>6.585714</td>\n",
       "      <td>290391.142857</td>\n",
       "      <td>132.714286</td>\n",
       "    </tr>\n",
       "    <tr>\n",
       "      <td>Mike Flanagan</td>\n",
       "      <td>7</td>\n",
       "      <td>6.471429</td>\n",
       "      <td>53086.857143</td>\n",
       "      <td>103.285714</td>\n",
       "    </tr>\n",
       "    <tr>\n",
       "      <td>Lasse Hallström</td>\n",
       "      <td>7</td>\n",
       "      <td>6.471429</td>\n",
       "      <td>64082.857143</td>\n",
       "      <td>110.428571</td>\n",
       "    </tr>\n",
       "  </tbody>\n",
       "</table>\n",
       "</div>"
      ],
      "text/plain": [
       "                    numFilms  averageRating   perFilmVotes  averageRuntime\n",
       "Director                                                                  \n",
       "Tyler Perry               11       5.090909    7277.727273      112.636364\n",
       "Woody Allen                9       6.722222   96772.333333       98.111111\n",
       "Steven Soderbergh          9       6.500000   87405.444444      103.777778\n",
       "David Gordon Green         8       6.212500   48038.375000      102.875000\n",
       "Rohit Shetty               8       5.712500   16556.875000      149.000000\n",
       "Steven Spielberg           7       7.214286  192627.571429      131.142857\n",
       "Clint Eastwood             7       6.657143  137093.857143      119.857143\n",
       "Ridley Scott               7       6.585714  290391.142857      132.714286\n",
       "Mike Flanagan              7       6.471429   53086.857143      103.285714\n",
       "Lasse Hallström            7       6.471429   64082.857143      110.428571"
      ]
     },
     "execution_count": 532,
     "metadata": {},
     "output_type": "execute_result"
    }
   ],
   "source": [
    "director_comp.columns = ['numFilms', 'averageRating', 'perFilmVotes', 'averageRuntime'] \n",
    "director_comp.index.names = ['Director']\n",
    "#top directors by volume of popular movies\n",
    "director_comp.sort_values(by=['numFilms', 'averageRating'], ascending=False).head(10)\n"
   ]
  },
  {
   "cell_type": "markdown",
   "metadata": {},
   "source": [
    "## Top Director by Volume\n",
    "\n",
    "Looking at volume alone, Tyler Perry won. He made 11 movies in the past 10 years that made it through the initial popularity filter set. He made more than 11 movies in the last decade, but not all of these movies made the cut past the `numVotes` threshold. \n",
    "\n",
    "**WINNER: Tyler Perry**"
   ]
  },
  {
   "cell_type": "markdown",
   "metadata": {},
   "source": [
    "## Top Director Considering Volume and User Ratings\n",
    "\n",
    "When looking at the combination of volume of movies directed as well as the user ratings of the movies directed, there is an argument for both Woody Allen and Steven Spielberg. The argument for Woody Allen is that he made the second most movies in this time period, and he had the second highest of user score ratings on this list. His is a high score especially considering that his is a large sample size of movies. The argument for Steven Spielberg is that he still made quite a few movies, and his user ratings score was well above all others on the list. On top of that, if you calculate his total `runTime`, he directed more minutes of movie than Woody Allen. This can be calculated by multiplying `averageRuntime` by `numFilms`. The last factor to look at is `perFilmVotes`, which Spielberg is the winner because it shows that more people gave Spielberg high user ratings. From an artistic standpoint, I would give the nod to Woody Allen, but since this is a data analysis, Steven Spielberg is the winner.\n",
    "\n",
    "**WINNER: Steven Spielberg**"
   ]
  },
  {
   "cell_type": "code",
   "execution_count": 533,
   "metadata": {},
   "outputs": [
    {
     "data": {
      "text/html": [
       "<div>\n",
       "<style scoped>\n",
       "    .dataframe tbody tr th:only-of-type {\n",
       "        vertical-align: middle;\n",
       "    }\n",
       "\n",
       "    .dataframe tbody tr th {\n",
       "        vertical-align: top;\n",
       "    }\n",
       "\n",
       "    .dataframe thead th {\n",
       "        text-align: right;\n",
       "    }\n",
       "</style>\n",
       "<table border=\"1\" class=\"dataframe\">\n",
       "  <thead>\n",
       "    <tr style=\"text-align: right;\">\n",
       "      <th></th>\n",
       "      <th>numFilms</th>\n",
       "      <th>averageRating</th>\n",
       "      <th>perFilmVotes</th>\n",
       "      <th>averageRuntime</th>\n",
       "    </tr>\n",
       "    <tr>\n",
       "      <th>Director</th>\n",
       "      <th></th>\n",
       "      <th></th>\n",
       "      <th></th>\n",
       "      <th></th>\n",
       "    </tr>\n",
       "  </thead>\n",
       "  <tbody>\n",
       "    <tr>\n",
       "      <td>Christopher Nolan</td>\n",
       "      <td>4</td>\n",
       "      <td>8.425000</td>\n",
       "      <td>1285130</td>\n",
       "      <td>146.750000</td>\n",
       "    </tr>\n",
       "    <tr>\n",
       "      <td>Jeethu Joseph</td>\n",
       "      <td>3</td>\n",
       "      <td>8.333333</td>\n",
       "      <td>12123</td>\n",
       "      <td>157.000000</td>\n",
       "    </tr>\n",
       "    <tr>\n",
       "      <td>Anthony Russo</td>\n",
       "      <td>4</td>\n",
       "      <td>8.125000</td>\n",
       "      <td>653132</td>\n",
       "      <td>153.250000</td>\n",
       "    </tr>\n",
       "    <tr>\n",
       "      <td>Quentin Tarantino</td>\n",
       "      <td>3</td>\n",
       "      <td>8.066667</td>\n",
       "      <td>644613</td>\n",
       "      <td>164.666667</td>\n",
       "    </tr>\n",
       "    <tr>\n",
       "      <td>Sukumar</td>\n",
       "      <td>3</td>\n",
       "      <td>8.066667</td>\n",
       "      <td>22059</td>\n",
       "      <td>169.333333</td>\n",
       "    </tr>\n",
       "    <tr>\n",
       "      <td>Nuri Bilge Ceylan</td>\n",
       "      <td>3</td>\n",
       "      <td>8.033333</td>\n",
       "      <td>29557</td>\n",
       "      <td>180.333333</td>\n",
       "    </tr>\n",
       "    <tr>\n",
       "      <td>S.S. Rajamouli</td>\n",
       "      <td>3</td>\n",
       "      <td>8.000000</td>\n",
       "      <td>61091</td>\n",
       "      <td>157.000000</td>\n",
       "    </tr>\n",
       "    <tr>\n",
       "      <td>Martin Scorsese</td>\n",
       "      <td>6</td>\n",
       "      <td>7.950000</td>\n",
       "      <td>415696</td>\n",
       "      <td>170.333333</td>\n",
       "    </tr>\n",
       "    <tr>\n",
       "      <td>Damien Chazelle</td>\n",
       "      <td>3</td>\n",
       "      <td>7.933333</td>\n",
       "      <td>410221</td>\n",
       "      <td>125.000000</td>\n",
       "    </tr>\n",
       "    <tr>\n",
       "      <td>Vikas Bahl</td>\n",
       "      <td>3</td>\n",
       "      <td>7.933333</td>\n",
       "      <td>25483</td>\n",
       "      <td>145.000000</td>\n",
       "    </tr>\n",
       "  </tbody>\n",
       "</table>\n",
       "</div>"
      ],
      "text/plain": [
       "                   numFilms  averageRating  perFilmVotes  averageRuntime\n",
       "Director                                                                \n",
       "Christopher Nolan         4       8.425000       1285130      146.750000\n",
       "Jeethu Joseph             3       8.333333         12123      157.000000\n",
       "Anthony Russo             4       8.125000        653132      153.250000\n",
       "Quentin Tarantino         3       8.066667        644613      164.666667\n",
       "Sukumar                   3       8.066667         22059      169.333333\n",
       "Nuri Bilge Ceylan         3       8.033333         29557      180.333333\n",
       "S.S. Rajamouli            3       8.000000         61091      157.000000\n",
       "Martin Scorsese           6       7.950000        415696      170.333333\n",
       "Damien Chazelle           3       7.933333        410221      125.000000\n",
       "Vikas Bahl                3       7.933333         25483      145.000000"
      ]
     },
     "execution_count": 533,
     "metadata": {},
     "output_type": "execute_result"
    }
   ],
   "source": [
    "#top average review per movie, with at least 3 movies\n",
    "multiple_films = director_comp[director_comp['numFilms'] >= 3].copy()\n",
    "multiple_films['perFilmVotes'] = multiple_films['perFilmVotes'].astype(int)\n",
    "multiple_films.sort_values(by=['averageRating', 'numFilms'], ascending=False).head(10)\n",
    "\n"
   ]
  },
  {
   "cell_type": "markdown",
   "metadata": {},
   "source": [
    "## Top Director Analyzing Ratings Alone\n",
    "\n",
    "The last aspect I analyzed related to directors, is based on movie quality. To measure movie quality, I took the top `averageRating` for all directors who directed at least three movies in the last decade. A sample size of at least three put an emphasis on quality over quantity, but also eliminated the chance that the result is just a one-time success. For this category, the winner is Christopher Nolan.\n",
    "\n",
    "**WINNER: Christopher Nolan**"
   ]
  },
  {
   "cell_type": "markdown",
   "metadata": {},
   "source": [
    "<a id=\"functions\"></a>\n",
    "\n",
    "\n",
    "# Creating Functions for Movie Watchers' Quick Research\n",
    "\n",
    "Lastly, after analyzing all of these elements, I tied this info and analysis into a few quick search functions. The goal was to allow a movie watcher to easily search through this data and get a quick snapshot of information about a movie's director, the actors/actresses in the movie, and the movie's rating.\n",
    "\n",
    "**Summary of the Functions:**\n",
    "- **`dir_info()`(director search):** Searches directors included in the dataframe for this project who have directed movies released in the last ten years. The result of the search will provide detailed results of the movies the director made in this period, as well as the basic information for the movie such as title, year released, and average rating.\n",
    "\n",
    "\n",
    "- **`act_info()`(actor/actress search):** Searches the actors/actresses and lists the movies that an actor/actress has starred in. This function also provides a summary of each movie and the average rating of the actor/actress based on all of his or her starring roles. \n",
    "\n",
    "\n",
    "- **`true_rating()`(detailed movie rating):** Searches a movie and provides a descriptive rating of the movie factoring in what percentile the movie's user score is relative to all movies, as well as how it stands when considering only movies in its' same genre."
   ]
  },
  {
   "cell_type": "markdown",
   "metadata": {},
   "source": [
    "## Director Search  `dir_info()` "
   ]
  },
  {
   "cell_type": "code",
   "execution_count": 534,
   "metadata": {},
   "outputs": [],
   "source": [
    "def dir_info(director):\n",
    "    dir_list = movies_info[movies_info['primaryName'].str.contains(director) == True]\n",
    "    dir_rating = dir_list['averageRating'].mean()\n",
    "    dir_count = len(dir_list)\n",
    "    dir_movies = dir_list.iloc[:, [1,2,5]]\n",
    "    if len(dir_list.primaryName.unique()) == 1:\n",
    "        dir_name = dir_list['primaryName'].iloc[0]\n",
    "        print('''{} films have an average rating of {:.2f} from 2010-2019. \n",
    "This score is based off of {} films, using a 10 point scale.\n",
    "\n",
    "Here are the {} films:\n",
    "'''.format(dir_name, dir_rating, dir_count, dir_count))\n",
    "        print(dir_movies.to_string(index=False))\n",
    "    elif len(dir_list.primaryName.unique()) > 1:\n",
    "        dir_name = dir_list['primaryName'].iloc[0]\n",
    "        print('''Your search of {} returned results for multiple directors.\n",
    "Please be more specific with search.\n",
    "            '''.format(director))\n",
    "    else:\n",
    "        print('''No results found. Please try again, \n",
    "and keep in mind names need to be capitalized.''')\n",
    "            \n",
    "        \n",
    "    \n",
    "    "
   ]
  },
  {
   "cell_type": "code",
   "execution_count": 546,
   "metadata": {},
   "outputs": [
    {
     "name": "stdout",
     "output_type": "stream",
     "text": [
      "Christopher Nolan films have an average rating of 8.43 from 2010-2019. \n",
      "This score is based off of 4 films, using a 10 point scale.\n",
      "\n",
      "Here are the 4 films:\n",
      "\n",
      "          primaryTitle  startYear  averageRating\n",
      "          Interstellar       2014            8.6\n",
      " The Dark Knight Rises       2012            8.4\n",
      "             Inception       2010            8.8\n",
      "               Dunkirk       2017            7.9\n"
     ]
    }
   ],
   "source": [
    "dir_info('Nolan')"
   ]
  },
  {
   "cell_type": "code",
   "execution_count": 536,
   "metadata": {},
   "outputs": [
    {
     "name": "stdout",
     "output_type": "stream",
     "text": [
      "Ethan Coen films have an average rating of 7.17 from 2010-2019. \n",
      "This score is based off of 4 films, using a 10 point scale.\n",
      "\n",
      "Here are the 4 films:\n",
      "\n",
      "                 primaryTitle  startYear  averageRating\n",
      "                Hail, Caesar!       2016            6.3\n",
      "                    True Grit       2010            7.6\n",
      "          Inside Llewyn Davis       2013            7.5\n",
      " The Ballad of Buster Scruggs       2018            7.3\n"
     ]
    }
   ],
   "source": [
    "dir_info('Coen')"
   ]
  },
  {
   "cell_type": "markdown",
   "metadata": {},
   "source": [
    "## Actor/Actress Search `act_info()`"
   ]
  },
  {
   "cell_type": "code",
   "execution_count": 537,
   "metadata": {},
   "outputs": [],
   "source": [
    "def act_info(actor):\n",
    "    act_list = cast_info[cast_info['castMember'].str.contains(actor) == True]\n",
    "    act_merge = pd.merge(left=movies_info, right=act_list, on='tconst')\n",
    "    act_rating = act_merge['averageRating'].mean()\n",
    "    act_count = len(act_merge)\n",
    "    act_movies = act_merge.iloc[:, [1,2,5]]\n",
    "    if len(act_list.castMember.unique()) == 1:\n",
    "        act_name = act_list['castMember'].iloc[0]\n",
    "        print('''Films starring {}, have an average rating of {:.2f} from 2010-2019. \n",
    "This score is based off of {} films, using a 10 point scale. Note: Minor roles\n",
    "may not be included.\n",
    "\n",
    "Here are the {} films:\n",
    "'''.format(act_name, act_rating, act_count, act_count))\n",
    "        print(act_movies.to_string(index=False))\n",
    "    elif len(act_list.castMember.unique()) > 1:\n",
    "        act_name = act_list['castMember'].iloc[0]\n",
    "        print('''Your search of {} returned results for multiple actors/actresses.\n",
    "Please be more specific with search.\n",
    "            '''.format(actor))\n",
    "    else:\n",
    "        print('''No results found. Please try again, \n",
    "and keep in mind names need to be capitalized.''')\n",
    "            "
   ]
  },
  {
   "cell_type": "code",
   "execution_count": 547,
   "metadata": {},
   "outputs": [
    {
     "name": "stdout",
     "output_type": "stream",
     "text": [
      "Films starring Johnny Depp, have an average rating of 6.20 from 2010-2019. \n",
      "This score is based off of 16 films, using a 10 point scale. Note: Minor roles\n",
      "may not be included.\n",
      "\n",
      "Here are the 16 films:\n",
      "\n",
      "                                     primaryTitle  startYear  averageRating\n",
      "                                    The Rum Diary       2011            6.2\n",
      "                              Alice in Wonderland       2010            6.4\n",
      "                                     Dark Shadows       2012            6.2\n",
      "                                            Rango       2011            7.2\n",
      "                                  The Lone Ranger       2013            6.4\n",
      "                                      The Tourist       2010            6.0\n",
      "      Pirates of the Caribbean: On Stranger Tides       2011            6.6\n",
      "                                       Black Mass       2015            6.9\n",
      " Pirates of the Caribbean: Dead Men Tell No Tales       2017            6.6\n",
      "                                    Transcendence       2014            6.3\n",
      "                                  Sherlock Gnomes       2018            5.1\n",
      "                  Alice Through the Looking Glass       2016            6.2\n",
      "                                        Mortdecai       2015            5.5\n",
      "                                      Yoga Hosers       2016            4.3\n",
      "      Fantastic Beasts: The Crimes of Grindelwald       2018            6.6\n",
      "                                    The Professor       2018            6.7\n"
     ]
    }
   ],
   "source": [
    "act_info('Johnny Depp')"
   ]
  },
  {
   "cell_type": "code",
   "execution_count": 539,
   "metadata": {},
   "outputs": [
    {
     "name": "stdout",
     "output_type": "stream",
     "text": [
      "Films starring Matthew McConaughey, have an average rating of 6.76 from 2010-2019. \n",
      "This score is based off of 19 films, using a 10 point scale. Note: Minor roles\n",
      "may not be included.\n",
      "\n",
      "Here are the 19 films:\n",
      "\n",
      "                 primaryTitle  startYear  averageRating\n",
      "           Dallas Buyers Club       2013            8.0\n",
      "                 Interstellar       2014            8.6\n",
      "      The Wolf of Wall Street       2013            8.2\n",
      "          Free State of Jones       2016            6.9\n",
      "           The Lincoln Lawyer       2011            7.3\n",
      "                 The Paperboy       2012            5.8\n",
      "               The Dark Tower       2017            5.6\n",
      "                       Bernie       2011            6.8\n",
      "                   Killer Joe       2011            6.7\n",
      "                         Gold       2016            6.7\n",
      "                   Magic Mike       2012            6.1\n",
      "                          Mud       2012            7.4\n",
      "             The Sea of Trees       2015            6.1\n",
      "                         Sing       2016            7.1\n",
      "     Kubo and the Two Strings       2016            7.8\n",
      "               White Boy Rick       2018            6.4\n",
      "                     Serenity       2019            5.3\n",
      "                The Beach Bum       2019            5.5\n",
      " Between Two Ferns: The Movie       2019            6.1\n"
     ]
    }
   ],
   "source": [
    "act_info('Matthew McCo')"
   ]
  },
  {
   "cell_type": "markdown",
   "metadata": {},
   "source": [
    "## Movie Search `movie_search()`"
   ]
  },
  {
   "cell_type": "code",
   "execution_count": 540,
   "metadata": {},
   "outputs": [],
   "source": [
    "def movie_search(movie):\n",
    "    movie_list = movies_info[movies_info['primaryTitle'].str.contains(movie) == True]\n",
    "    if len(movie_list.primaryTitle.unique()) > 20:\n",
    "        print('Search of {} returned too many results. Please be more specific.'.format(movie))\n",
    "\n",
    "    else:\n",
    "        return movie_list"
   ]
  },
  {
   "cell_type": "code",
   "execution_count": 548,
   "metadata": {},
   "outputs": [
    {
     "data": {
      "text/html": [
       "<div>\n",
       "<style scoped>\n",
       "    .dataframe tbody tr th:only-of-type {\n",
       "        vertical-align: middle;\n",
       "    }\n",
       "\n",
       "    .dataframe tbody tr th {\n",
       "        vertical-align: top;\n",
       "    }\n",
       "\n",
       "    .dataframe thead th {\n",
       "        text-align: right;\n",
       "    }\n",
       "</style>\n",
       "<table border=\"1\" class=\"dataframe\">\n",
       "  <thead>\n",
       "    <tr style=\"text-align: right;\">\n",
       "      <th></th>\n",
       "      <th>tconst</th>\n",
       "      <th>primaryTitle</th>\n",
       "      <th>startYear</th>\n",
       "      <th>runtimeMinutes</th>\n",
       "      <th>genres</th>\n",
       "      <th>averageRating</th>\n",
       "      <th>numVotes</th>\n",
       "      <th>primaryName</th>\n",
       "    </tr>\n",
       "  </thead>\n",
       "  <tbody>\n",
       "    <tr>\n",
       "      <td>811</td>\n",
       "      <td>tt1502712</td>\n",
       "      <td>Fantastic Four</td>\n",
       "      <td>2015</td>\n",
       "      <td>100</td>\n",
       "      <td>Action,Adventure,Drama</td>\n",
       "      <td>4.3</td>\n",
       "      <td>142644</td>\n",
       "      <td>Josh Trank</td>\n",
       "    </tr>\n",
       "    <tr>\n",
       "      <td>1768</td>\n",
       "      <td>tt2006040</td>\n",
       "      <td>A Fantastic Fear of Everything</td>\n",
       "      <td>2012</td>\n",
       "      <td>100</td>\n",
       "      <td>Comedy,Horror</td>\n",
       "      <td>5.9</td>\n",
       "      <td>13558</td>\n",
       "      <td>Crispian Mills</td>\n",
       "    </tr>\n",
       "    <tr>\n",
       "      <td>2826</td>\n",
       "      <td>tt3183660</td>\n",
       "      <td>Fantastic Beasts and Where to Find Them</td>\n",
       "      <td>2016</td>\n",
       "      <td>132</td>\n",
       "      <td>Adventure,Family,Fantasy</td>\n",
       "      <td>7.3</td>\n",
       "      <td>376976</td>\n",
       "      <td>David Yates</td>\n",
       "    </tr>\n",
       "    <tr>\n",
       "      <td>3024</td>\n",
       "      <td>tt3553976</td>\n",
       "      <td>Captain Fantastic</td>\n",
       "      <td>2016</td>\n",
       "      <td>118</td>\n",
       "      <td>Comedy,Drama</td>\n",
       "      <td>7.9</td>\n",
       "      <td>166244</td>\n",
       "      <td>Matt Ross</td>\n",
       "    </tr>\n",
       "    <tr>\n",
       "      <td>3285</td>\n",
       "      <td>tt4123430</td>\n",
       "      <td>Fantastic Beasts: The Crimes of Grindelwald</td>\n",
       "      <td>2018</td>\n",
       "      <td>134</td>\n",
       "      <td>Adventure,Family,Fantasy</td>\n",
       "      <td>6.6</td>\n",
       "      <td>184501</td>\n",
       "      <td>David Yates</td>\n",
       "    </tr>\n",
       "    <tr>\n",
       "      <td>3452</td>\n",
       "      <td>tt4560008</td>\n",
       "      <td>This Beautiful Fantastic</td>\n",
       "      <td>2016</td>\n",
       "      <td>100</td>\n",
       "      <td>Comedy,Drama,Fantasy</td>\n",
       "      <td>6.9</td>\n",
       "      <td>7256</td>\n",
       "      <td>Simon Aboud</td>\n",
       "    </tr>\n",
       "    <tr>\n",
       "      <td>3821</td>\n",
       "      <td>tt5639354</td>\n",
       "      <td>A Fantastic Woman</td>\n",
       "      <td>2017</td>\n",
       "      <td>104</td>\n",
       "      <td>Drama</td>\n",
       "      <td>7.2</td>\n",
       "      <td>19325</td>\n",
       "      <td>Sebastián Lelio</td>\n",
       "    </tr>\n",
       "  </tbody>\n",
       "</table>\n",
       "</div>"
      ],
      "text/plain": [
       "         tconst                                 primaryTitle  startYear  \\\n",
       "811   tt1502712                               Fantastic Four       2015   \n",
       "1768  tt2006040               A Fantastic Fear of Everything       2012   \n",
       "2826  tt3183660      Fantastic Beasts and Where to Find Them       2016   \n",
       "3024  tt3553976                            Captain Fantastic       2016   \n",
       "3285  tt4123430  Fantastic Beasts: The Crimes of Grindelwald       2018   \n",
       "3452  tt4560008                     This Beautiful Fantastic       2016   \n",
       "3821  tt5639354                            A Fantastic Woman       2017   \n",
       "\n",
       "      runtimeMinutes                    genres  averageRating  numVotes  \\\n",
       "811              100    Action,Adventure,Drama            4.3    142644   \n",
       "1768             100             Comedy,Horror            5.9     13558   \n",
       "2826             132  Adventure,Family,Fantasy            7.3    376976   \n",
       "3024             118              Comedy,Drama            7.9    166244   \n",
       "3285             134  Adventure,Family,Fantasy            6.6    184501   \n",
       "3452             100      Comedy,Drama,Fantasy            6.9      7256   \n",
       "3821             104                     Drama            7.2     19325   \n",
       "\n",
       "          primaryName  \n",
       "811        Josh Trank  \n",
       "1768   Crispian Mills  \n",
       "2826      David Yates  \n",
       "3024        Matt Ross  \n",
       "3285      David Yates  \n",
       "3452      Simon Aboud  \n",
       "3821  Sebastián Lelio  "
      ]
     },
     "execution_count": 548,
     "metadata": {},
     "output_type": "execute_result"
    }
   ],
   "source": [
    "movie_search('Fantastic')"
   ]
  },
  {
   "cell_type": "markdown",
   "metadata": {},
   "source": [
    "## Detailed Movie Rating `true_rating()`\n",
    "\n",
    "This function provides a detailed rating for a movie by showing the movie's user rating and the percentile the movie falls under. It also shows where a movie falls based on percentile when comparing the movie to only others in its' genre. This is based on what was learned in regard to movies' tendencies to have higher/lower ratings depending on the movie's genre. This information could be helpful for someone who knows that they want to watch a movie of a specific genre. If they looked only at the user ratings for the movie as a whole, they might see a lower rating than if they were to look at the movie's ratings when compared only to other movies in that genre. For example, horror movies usually get below average user ratings, but if you know you want to watch a horror movie you can view only data comparing horror movies to each other to decide what to watch.\n",
    "\n",
    "*Note: Percentiles measure the rank among the field. For example, 50% represents the average movies.* "
   ]
  },
  {
   "cell_type": "code",
   "execution_count": 555,
   "metadata": {},
   "outputs": [],
   "source": [
    "def true_rating(movie):\n",
    "    movie_row = movies_info[movies_info['primaryTitle'].str.contains(movie) == True]\n",
    "    length = len(movie_row)\n",
    "    if length == 1:\n",
    "        m_name = movie_row.iloc[0,1]\n",
    "        genre = movie_row.iloc[0,4]\n",
    "        rating = movie_row.iloc[0,5] \n",
    "        p_rating = round(stats.percentileofscore(movies_info['averageRating'], rating), 2)\n",
    "        gen_list = str(genre).split(',')\n",
    "        avg_scores = []\n",
    "        for g in gen_list:\n",
    "            g_list = movies_info[movies_info['genres'].str.contains(g)]\n",
    "            prcnt = round(stats.percentileofscore(g_list['averageRating'], rating), 2)\n",
    "            avg_scores.append(prcnt)\n",
    "            g_rating = round(sum(avg_scores)/len(avg_scores), 2)\n",
    "            return print('''The movie {} recieved a rating of {} on IMDB.\n",
    "This gives the following percent ratings:\n",
    "    {}% among all movies\n",
    "    {}% among movies in this genre\n",
    "    '''.format(m_name, rating, p_rating, g_rating))\n",
    "\n",
    "    elif length > 1:\n",
    "        print('Multiple movie results found. Please be more specific')\n",
    "    else:\n",
    "        print('No results found')"
   ]
  },
  {
   "cell_type": "code",
   "execution_count": 558,
   "metadata": {},
   "outputs": [
    {
     "name": "stdout",
     "output_type": "stream",
     "text": [
      "The movie The Ballad of Buster Scruggs recieved a rating of 7.3 on IMDB.\n",
      "This gives the following percent ratings:\n",
      "    80.09% among all movies\n",
      "    86.22% among movies in this genre\n",
      "    \n"
     ]
    }
   ],
   "source": [
    "true_rating('Buster Sc')"
   ]
  },
  {
   "cell_type": "markdown",
   "metadata": {},
   "source": [
    "\"Zombieland: Double Tap\" shows the usefulness of this function, since this movie is in a unique genre type that is often poorly rated. "
   ]
  },
  {
   "cell_type": "code",
   "execution_count": 544,
   "metadata": {
    "scrolled": true
   },
   "outputs": [
    {
     "name": "stdout",
     "output_type": "stream",
     "text": [
      "The movie Zombieland: Double Tap recieved a rating of 7.2 on IMDB.\n",
      "This gives the following percent ratings:\n",
      "    76.75% among all movies\n",
      "    81.04% among movies in this genre\n",
      "    \n"
     ]
    }
   ],
   "source": [
    "true_rating('Zombieland')"
   ]
  },
  {
   "cell_type": "markdown",
   "metadata": {},
   "source": [
    "<a id='summary'></a>\n",
    "\n",
    "# Summary\n",
    "\n",
    "This project studied movies considered mainstream and released in the past ten years. With this data, I was able to recognize some of the iconic directors, and iconic movies of the decade. I also observed patterns related to movie genres, and analyzed those patters and how they related to a movie's user ratings.\n",
    "\n",
    "Here are some of the trends/patterns:\n",
    "\n",
    "- Slighty positive correlation between movie length and rating (for films between 1-2 hours)\n",
    "- The genre with the most released movies in the past ten years is the drama genre\n",
    "- Movies' ratings vary significantly based on the movie's genre\n",
    "     - The average horror movie receives ratings in the bad category\n",
    "     - The average documentary receives ratings in the good category\n",
    "\n",
    "The analysis was summarized in a few functions to help a movie watcher easily gather information about movies, a movie's director, the movie's actors/actresses, and the movie's user ratings. In particular, the `true_rating()` function took what we learned about the differences in average ratings for particular genres, and factored that into a separate genre score. As this project demonstrates, a rating alone doesn't tell us everything we need to know about a movie."
   ]
  }
 ],
 "metadata": {
  "kernelspec": {
   "display_name": "Python 3",
   "language": "python",
   "name": "python3"
  },
  "language_info": {
   "codemirror_mode": {
    "name": "ipython",
    "version": 3
   },
   "file_extension": ".py",
   "mimetype": "text/x-python",
   "name": "python",
   "nbconvert_exporter": "python",
   "pygments_lexer": "ipython3",
   "version": "3.7.4"
  }
 },
 "nbformat": 4,
 "nbformat_minor": 2
}
